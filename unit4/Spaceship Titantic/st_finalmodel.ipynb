{
 "cells": [
  {
   "cell_type": "markdown",
   "id": "e6347995",
   "metadata": {},
   "source": [
    "# Spaceship Titanic Competition\n",
    "--------------------------------------------------------\n",
    "## by alexis emerson"
   ]
  },
  {
   "cell_type": "code",
   "execution_count": 39,
   "id": "98e4f0a5",
   "metadata": {},
   "outputs": [],
   "source": [
    "import pandas as pd\n",
    "\n",
    "final_data = pd.read_csv('test.csv')\n",
    "train_data = pd.read_csv('train.csv')"
   ]
  },
  {
   "cell_type": "code",
   "execution_count": 40,
   "id": "003b7c02",
   "metadata": {},
   "outputs": [
    {
     "name": "stdout",
     "output_type": "stream",
     "text": [
      "<class 'pandas.core.frame.DataFrame'>\n",
      "RangeIndex: 8693 entries, 0 to 8692\n",
      "Data columns (total 14 columns):\n",
      " #   Column        Non-Null Count  Dtype  \n",
      "---  ------        --------------  -----  \n",
      " 0   PassengerId   8693 non-null   object \n",
      " 1   HomePlanet    8492 non-null   object \n",
      " 2   CryoSleep     8476 non-null   object \n",
      " 3   Cabin         8494 non-null   object \n",
      " 4   Destination   8511 non-null   object \n",
      " 5   Age           8514 non-null   float64\n",
      " 6   VIP           8490 non-null   object \n",
      " 7   RoomService   8512 non-null   float64\n",
      " 8   FoodCourt     8510 non-null   float64\n",
      " 9   ShoppingMall  8485 non-null   float64\n",
      " 10  Spa           8510 non-null   float64\n",
      " 11  VRDeck        8505 non-null   float64\n",
      " 12  Name          8493 non-null   object \n",
      " 13  Transported   8693 non-null   bool   \n",
      "dtypes: bool(1), float64(6), object(7)\n",
      "memory usage: 891.5+ KB\n"
     ]
    }
   ],
   "source": [
    "train_data.info()"
   ]
  },
  {
   "cell_type": "markdown",
   "id": "391e2a53",
   "metadata": {},
   "source": [
    "## setting features up"
   ]
  },
  {
   "cell_type": "markdown",
   "id": "5dd33d2e",
   "metadata": {},
   "source": [
    "#### splitting cabin into 3 columns (Deck, Num, Side)"
   ]
  },
  {
   "cell_type": "code",
   "execution_count": 41,
   "id": "86a35ee9",
   "metadata": {
    "scrolled": true
   },
   "outputs": [],
   "source": [
    "cabin = train_data['Cabin'].str.split('/', 3, expand=True)\n",
    "cabin.columns = ['Deck', 'Num', 'Side']\n",
    "train_data_mod = pd.concat([train_data, cabin], axis=1)\n",
    "train_data_mod.drop(['Cabin'], axis=1, inplace=True)"
   ]
  },
  {
   "cell_type": "markdown",
   "id": "22047096",
   "metadata": {},
   "source": [
    "#### my beginning features"
   ]
  },
  {
   "cell_type": "code",
   "execution_count": 42,
   "id": "6fd75487",
   "metadata": {},
   "outputs": [
    {
     "data": {
      "text/plain": [
       "['PassengerId',\n",
       " 'HomePlanet',\n",
       " 'CryoSleep',\n",
       " 'Destination',\n",
       " 'Age',\n",
       " 'VIP',\n",
       " 'RoomService',\n",
       " 'FoodCourt',\n",
       " 'ShoppingMall',\n",
       " 'Spa',\n",
       " 'VRDeck',\n",
       " 'Name',\n",
       " 'Deck',\n",
       " 'Num',\n",
       " 'Side']"
      ]
     },
     "execution_count": 42,
     "metadata": {},
     "output_type": "execute_result"
    }
   ],
   "source": [
    "features = train_data_mod.columns.drop('Transported').to_list()\n",
    "features"
   ]
  },
  {
   "cell_type": "markdown",
   "id": "63922af3",
   "metadata": {},
   "source": [
    "## splitting my data"
   ]
  },
  {
   "cell_type": "code",
   "execution_count": 43,
   "id": "d80dbc53",
   "metadata": {},
   "outputs": [],
   "source": [
    "from sklearn.model_selection import train_test_split\n",
    "\n",
    "X = train_data_mod[features]\n",
    "y = train_data_mod.Transported\n",
    "\n",
    "X_train, X_valid, y_train, y_valid = train_test_split(X, y)"
   ]
  },
  {
   "cell_type": "markdown",
   "id": "fef211b5",
   "metadata": {},
   "source": [
    "## categorical columns - one hot encoding"
   ]
  },
  {
   "cell_type": "markdown",
   "id": "ac78b227",
   "metadata": {},
   "source": [
    "#### Listing all the categorical columns"
   ]
  },
  {
   "cell_type": "code",
   "execution_count": 44,
   "id": "163e1dba",
   "metadata": {
    "scrolled": false
   },
   "outputs": [
    {
     "data": {
      "text/plain": [
       "['PassengerId',\n",
       " 'HomePlanet',\n",
       " 'CryoSleep',\n",
       " 'Destination',\n",
       " 'VIP',\n",
       " 'Name',\n",
       " 'Deck',\n",
       " 'Num',\n",
       " 'Side']"
      ]
     },
     "execution_count": 44,
     "metadata": {},
     "output_type": "execute_result"
    }
   ],
   "source": [
    "cat_cols = X_train.select_dtypes(include='object').columns.to_list()\n",
    "cat_cols"
   ]
  },
  {
   "cell_type": "markdown",
   "id": "3cbeae0a",
   "metadata": {},
   "source": [
    "#### checking to see the number of unique entries in every column"
   ]
  },
  {
   "cell_type": "markdown",
   "id": "b2f3fef0",
   "metadata": {},
   "source": [
    "(code from the kaggle tutorial)"
   ]
  },
  {
   "cell_type": "code",
   "execution_count": 45,
   "id": "3d666443",
   "metadata": {
    "scrolled": true
   },
   "outputs": [
    {
     "data": {
      "text/plain": [
       "[('CryoSleep', 2),\n",
       " ('VIP', 2),\n",
       " ('Side', 2),\n",
       " ('HomePlanet', 3),\n",
       " ('Destination', 3),\n",
       " ('Deck', 8),\n",
       " ('Num', 1718),\n",
       " ('Name', 6364),\n",
       " ('PassengerId', 6519)]"
      ]
     },
     "execution_count": 45,
     "metadata": {},
     "output_type": "execute_result"
    }
   ],
   "source": [
    "# Get number of unique entries in each column with categorical data\n",
    "object_nunique = list(map(lambda col: X_train[col].nunique(), cat_cols))\n",
    "d = dict(zip(cat_cols, object_nunique))\n",
    "\n",
    "# Print number of unique entries by column, in ascending order\n",
    "sorted(d.items(), key=lambda x: x[1])"
   ]
  },
  {
   "cell_type": "markdown",
   "id": "0d416ebc",
   "metadata": {},
   "source": [
    "#### the final categorical columns i'm using to one hot encode"
   ]
  },
  {
   "cell_type": "code",
   "execution_count": 46,
   "id": "93b84fb5",
   "metadata": {},
   "outputs": [],
   "source": [
    "usecat = ['CryoSleep', 'HomePlanet', 'Destination', 'Deck', 'Side']"
   ]
  },
  {
   "cell_type": "markdown",
   "id": "7b7cbed8",
   "metadata": {},
   "source": [
    "#### one hot encoding!"
   ]
  },
  {
   "cell_type": "code",
   "execution_count": 47,
   "id": "e5c91c91",
   "metadata": {},
   "outputs": [],
   "source": [
    "from sklearn.preprocessing import OneHotEncoder"
   ]
  },
  {
   "cell_type": "code",
   "execution_count": 48,
   "id": "592583a5",
   "metadata": {},
   "outputs": [
    {
     "name": "stdout",
     "output_type": "stream",
     "text": [
      "<class 'pandas.core.frame.DataFrame'>\n",
      "RangeIndex: 6519 entries, 0 to 6518\n",
      "Data columns (total 23 columns):\n",
      " #   Column  Non-Null Count  Dtype  \n",
      "---  ------  --------------  -----  \n",
      " 0   0       6519 non-null   float64\n",
      " 1   1       6519 non-null   float64\n",
      " 2   2       6519 non-null   float64\n",
      " 3   3       6519 non-null   float64\n",
      " 4   4       6519 non-null   float64\n",
      " 5   5       6519 non-null   float64\n",
      " 6   6       6519 non-null   float64\n",
      " 7   7       6519 non-null   float64\n",
      " 8   8       6519 non-null   float64\n",
      " 9   9       6519 non-null   float64\n",
      " 10  10      6519 non-null   float64\n",
      " 11  11      6519 non-null   float64\n",
      " 12  12      6519 non-null   float64\n",
      " 13  13      6519 non-null   float64\n",
      " 14  14      6519 non-null   float64\n",
      " 15  15      6519 non-null   float64\n",
      " 16  16      6519 non-null   float64\n",
      " 17  17      6519 non-null   float64\n",
      " 18  18      6519 non-null   float64\n",
      " 19  19      6519 non-null   float64\n",
      " 20  20      6519 non-null   float64\n",
      " 21  21      6519 non-null   float64\n",
      " 22  22      6519 non-null   float64\n",
      "dtypes: float64(23)\n",
      "memory usage: 1.1 MB\n"
     ]
    }
   ],
   "source": [
    "# Apply one-hot encoder to each column with categorical data\n",
    "ohe = OneHotEncoder(handle_unknown='ignore', sparse=False)\n",
    "ohe_train = pd.DataFrame(ohe.fit_transform(X_train[usecat]))\n",
    "ohe_valid = pd.DataFrame(ohe.transform(X_valid[usecat]))\n",
    "\n",
    "ohe_train.info()"
   ]
  },
  {
   "cell_type": "markdown",
   "id": "e0afe758",
   "metadata": {},
   "source": [
    "#### putting my index back"
   ]
  },
  {
   "cell_type": "code",
   "execution_count": 49,
   "id": "7405cae8",
   "metadata": {},
   "outputs": [],
   "source": [
    "ohe_train.index = X_train.index\n",
    "ohe_valid.index = X_valid.index"
   ]
  },
  {
   "cell_type": "markdown",
   "id": "65dd4f1e",
   "metadata": {},
   "source": [
    "-------------------------------------------------------------------------------------------------------------------------------"
   ]
  },
  {
   "cell_type": "markdown",
   "id": "3a92785b",
   "metadata": {},
   "source": [
    "## numerical columns - imputation"
   ]
  },
  {
   "cell_type": "markdown",
   "id": "03be6228",
   "metadata": {},
   "source": [
    "setting up my numerical columns"
   ]
  },
  {
   "cell_type": "code",
   "execution_count": 50,
   "id": "3889306e",
   "metadata": {
    "scrolled": true
   },
   "outputs": [],
   "source": [
    "num = train_data._get_numeric_data()\n",
    "num.drop(['Transported'], axis=1, inplace=True)\n",
    "numdata = num.columns.to_list()"
   ]
  },
  {
   "cell_type": "markdown",
   "id": "c1a8ee60",
   "metadata": {},
   "source": [
    "#### imputing!"
   ]
  },
  {
   "cell_type": "code",
   "execution_count": 51,
   "id": "4e6cd920",
   "metadata": {},
   "outputs": [],
   "source": [
    "from sklearn.impute import SimpleImputer\n",
    "from sklearn import metrics"
   ]
  },
  {
   "cell_type": "code",
   "execution_count": 52,
   "id": "d5f5114f",
   "metadata": {},
   "outputs": [
    {
     "name": "stdout",
     "output_type": "stream",
     "text": [
      "<class 'pandas.core.frame.DataFrame'>\n",
      "Int64Index: 6519 entries, 1613 to 2350\n",
      "Data columns (total 6 columns):\n",
      " #   Column        Non-Null Count  Dtype  \n",
      "---  ------        --------------  -----  \n",
      " 0   Age           6519 non-null   float64\n",
      " 1   RoomService   6519 non-null   float64\n",
      " 2   FoodCourt     6519 non-null   float64\n",
      " 3   ShoppingMall  6519 non-null   float64\n",
      " 4   Spa           6519 non-null   float64\n",
      " 5   VRDeck        6519 non-null   float64\n",
      "dtypes: float64(6)\n",
      "memory usage: 356.5 KB\n"
     ]
    }
   ],
   "source": [
    "i = SimpleImputer(strategy='most_frequent')\n",
    "i_X_train = pd.DataFrame(i.fit_transform(X_train[numdata]))\n",
    "i_X_valid = pd.DataFrame(i.transform(X_valid[numdata]))\n",
    "\n",
    "i_X_train.columns = X_train[numdata].columns\n",
    "i_X_valid.columns = X_valid[numdata].columns\n",
    "\n",
    "i_X_train.index = X_train.index\n",
    "i_X_valid.index = X_valid.index\n",
    "\n",
    "i_X_train.info()"
   ]
  },
  {
   "cell_type": "markdown",
   "id": "392afc0b",
   "metadata": {},
   "source": [
    "-------------------------------------------------------------------------------------------------------------------------------"
   ]
  },
  {
   "cell_type": "markdown",
   "id": "dd0ca5aa",
   "metadata": {},
   "source": [
    "## concatenating my numerical and categorical dataframes"
   ]
  },
  {
   "cell_type": "code",
   "execution_count": 53,
   "id": "e6debbe8",
   "metadata": {
    "scrolled": false
   },
   "outputs": [
    {
     "name": "stdout",
     "output_type": "stream",
     "text": [
      "<class 'pandas.core.frame.DataFrame'>\n",
      "Int64Index: 6519 entries, 1613 to 2350\n",
      "Data columns (total 29 columns):\n",
      " #   Column        Non-Null Count  Dtype  \n",
      "---  ------        --------------  -----  \n",
      " 0   Age           6519 non-null   float64\n",
      " 1   RoomService   6519 non-null   float64\n",
      " 2   FoodCourt     6519 non-null   float64\n",
      " 3   ShoppingMall  6519 non-null   float64\n",
      " 4   Spa           6519 non-null   float64\n",
      " 5   VRDeck        6519 non-null   float64\n",
      " 6   0             6519 non-null   float64\n",
      " 7   1             6519 non-null   float64\n",
      " 8   2             6519 non-null   float64\n",
      " 9   3             6519 non-null   float64\n",
      " 10  4             6519 non-null   float64\n",
      " 11  5             6519 non-null   float64\n",
      " 12  6             6519 non-null   float64\n",
      " 13  7             6519 non-null   float64\n",
      " 14  8             6519 non-null   float64\n",
      " 15  9             6519 non-null   float64\n",
      " 16  10            6519 non-null   float64\n",
      " 17  11            6519 non-null   float64\n",
      " 18  12            6519 non-null   float64\n",
      " 19  13            6519 non-null   float64\n",
      " 20  14            6519 non-null   float64\n",
      " 21  15            6519 non-null   float64\n",
      " 22  16            6519 non-null   float64\n",
      " 23  17            6519 non-null   float64\n",
      " 24  18            6519 non-null   float64\n",
      " 25  19            6519 non-null   float64\n",
      " 26  20            6519 non-null   float64\n",
      " 27  21            6519 non-null   float64\n",
      " 28  22            6519 non-null   float64\n",
      "dtypes: float64(29)\n",
      "memory usage: 1.5 MB\n"
     ]
    }
   ],
   "source": [
    "both_X_train = pd.concat([i_X_train, ohe_train], axis=1)\n",
    "both_X_valid = pd.concat([i_X_valid, ohe_valid], axis=1)\n",
    "both_X_train.info()"
   ]
  },
  {
   "cell_type": "markdown",
   "id": "1bc9c8bd",
   "metadata": {},
   "source": [
    "#### turning all my column titles into strings"
   ]
  },
  {
   "cell_type": "code",
   "execution_count": 54,
   "id": "0f11573f",
   "metadata": {},
   "outputs": [],
   "source": [
    "both_X_train.columns = both_X_train.columns.astype(str)\n",
    "both_X_valid.columns = both_X_valid.columns.astype(str)"
   ]
  },
  {
   "cell_type": "markdown",
   "id": "f9a1624b",
   "metadata": {},
   "source": [
    "## modelling!"
   ]
  },
  {
   "cell_type": "markdown",
   "id": "a3865402",
   "metadata": {},
   "source": [
    "#### importing models"
   ]
  },
  {
   "cell_type": "code",
   "execution_count": 55,
   "id": "b001f194",
   "metadata": {},
   "outputs": [],
   "source": [
    "from sklearn import ensemble\n",
    "from sklearn.ensemble import GradientBoostingClassifier"
   ]
  },
  {
   "cell_type": "markdown",
   "id": "60c5afad",
   "metadata": {},
   "source": [
    "some links! https://intellipaat.com/blog/gradient-boosting-in-machine-learning/, https://stackoverflow.com/questions/67361786/how-to-measure-random-forest-classifier-accuracy"
   ]
  },
  {
   "cell_type": "markdown",
   "id": "9e696409",
   "metadata": {},
   "source": [
    "#### my model, fitted to the train data"
   ]
  },
  {
   "cell_type": "code",
   "execution_count": 56,
   "id": "061acf83",
   "metadata": {
    "scrolled": true
   },
   "outputs": [
    {
     "name": "stdout",
     "output_type": "stream",
     "text": [
      "Accuracy: 0.8035878564857406\n"
     ]
    }
   ],
   "source": [
    "model = GradientBoostingClassifier(n_estimators=150, max_features=5, max_depth=2, random_state=1)\n",
    "model.fit(both_X_train, y_train)\n",
    "preds = model.predict(both_X_valid)\n",
    "print(\"Accuracy:\", metrics.accuracy_score(y_valid, preds))"
   ]
  },
  {
   "cell_type": "markdown",
   "id": "aa189cb4",
   "metadata": {},
   "source": [
    "-------------------------------------------------------------------------------------------------------------------------------"
   ]
  },
  {
   "cell_type": "markdown",
   "id": "2406aeb0",
   "metadata": {},
   "source": [
    "## refitting my model to ALL my training data"
   ]
  },
  {
   "cell_type": "code",
   "execution_count": 57,
   "id": "c3659b2b",
   "metadata": {
    "scrolled": true
   },
   "outputs": [
    {
     "data": {
      "text/plain": [
       "GradientBoostingClassifier(max_depth=2, max_features=5, n_estimators=150,\n",
       "                           random_state=1)"
      ]
     },
     "execution_count": 57,
     "metadata": {},
     "output_type": "execute_result"
    }
   ],
   "source": [
    "# doing what I did to my data to all my training data\n",
    "ohe_X = pd.DataFrame(ohe.transform(X[usecat]))\n",
    "ohe_X.index = X.index\n",
    "\n",
    "i_X = pd.DataFrame(i.transform(X[numdata]))\n",
    "i_X.columns = X[numdata].columns\n",
    "i_X.index = X.index\n",
    "\n",
    "both_X = pd.concat([i_X, ohe_X], axis=1)\n",
    "both_X.columns = both_X.columns.astype(str)\n",
    "\n",
    "# i_X.info()\n",
    "\n",
    "model.fit(both_X, y)"
   ]
  },
  {
   "cell_type": "markdown",
   "id": "29e074af",
   "metadata": {},
   "source": [
    "## modifying my final data"
   ]
  },
  {
   "cell_type": "markdown",
   "id": "196c4819",
   "metadata": {},
   "source": [
    "#### splitting final data Cabin column (as above)"
   ]
  },
  {
   "cell_type": "code",
   "execution_count": 58,
   "id": "80296440",
   "metadata": {},
   "outputs": [],
   "source": [
    "cabin = final_data['Cabin'].str.split('/', 3, expand=True)\n",
    "cabin.columns = ['Deck', 'Num', 'Side']\n",
    "final_data_mod = pd.concat([final_data, cabin], axis=1)\n",
    "final_data_mod.drop(['Cabin'], axis=1, inplace=True)"
   ]
  },
  {
   "cell_type": "markdown",
   "id": "060d77f7",
   "metadata": {},
   "source": [
    "#### one hot encoding, imputing, concatenating final data (as above)"
   ]
  },
  {
   "cell_type": "code",
   "execution_count": 59,
   "id": "a818743d",
   "metadata": {},
   "outputs": [],
   "source": [
    "ff = final_data_mod[features]\n",
    "ohe_final = pd.DataFrame(ohe.transform(ff[usecat]))\n",
    "ohe_final.index = ff.index\n",
    "\n",
    "i_X_final = pd.DataFrame(i.fit_transform(ff[numdata]))\n",
    "i_X_final.columns = ff[numdata].columns\n",
    "i_X_final.index = ff.index\n",
    "\n",
    "both_X_final = pd.concat([i_X_final, ohe_final], axis=1)\n",
    "both_X_final.columns = both_X.columns.astype(str)"
   ]
  },
  {
   "cell_type": "markdown",
   "id": "237ed3a8",
   "metadata": {},
   "source": [
    "#### predicting"
   ]
  },
  {
   "cell_type": "code",
   "execution_count": 60,
   "id": "4c38dea7",
   "metadata": {},
   "outputs": [],
   "source": [
    "final_preds = model.predict(both_X_final)"
   ]
  },
  {
   "cell_type": "markdown",
   "id": "d6aa44c8",
   "metadata": {},
   "source": [
    "## code for submissions"
   ]
  },
  {
   "cell_type": "code",
   "execution_count": 61,
   "id": "a6575049",
   "metadata": {},
   "outputs": [],
   "source": [
    "output = pd.DataFrame({'PassengerId': final_data.PassengerId, 'Transported': final_preds})\n",
    "output.to_csv('submission7.csv', index=False)"
   ]
  }
 ],
 "metadata": {
  "kernelspec": {
   "display_name": "Python 3 (ipykernel)",
   "language": "python",
   "name": "python3"
  },
  "language_info": {
   "codemirror_mode": {
    "name": "ipython",
    "version": 3
   },
   "file_extension": ".py",
   "mimetype": "text/x-python",
   "name": "python",
   "nbconvert_exporter": "python",
   "pygments_lexer": "ipython3",
   "version": "3.9.12"
  }
 },
 "nbformat": 4,
 "nbformat_minor": 5
}
