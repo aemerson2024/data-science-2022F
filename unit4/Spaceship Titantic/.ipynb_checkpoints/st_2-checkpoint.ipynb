{
 "cells": [
  {
   "cell_type": "markdown",
   "id": "e6347995",
   "metadata": {},
   "source": [
    "# Spaceship Titanic Competition"
   ]
  },
  {
   "cell_type": "markdown",
   "id": "37d75dd1",
   "metadata": {},
   "source": [
    "### Goals: set up, do some data exploration, create a model with no nulls"
   ]
  },
  {
   "cell_type": "markdown",
   "id": "1e7d2b48",
   "metadata": {},
   "source": [
    "To Do List - check if model can absorb nulls, if not convert floats to int (can't do that until there are no nulls)"
   ]
  },
  {
   "cell_type": "code",
   "execution_count": 19,
   "id": "98e4f0a5",
   "metadata": {},
   "outputs": [],
   "source": [
    "import pandas as pd\n",
    "\n",
    "final_data = pd.read_csv('test.csv')\n",
    "train_data = pd.read_csv('train.csv')"
   ]
  },
  {
   "cell_type": "code",
   "execution_count": 20,
   "id": "00ef0113",
   "metadata": {},
   "outputs": [
    {
     "name": "stdout",
     "output_type": "stream",
     "text": [
      "<class 'pandas.core.frame.DataFrame'>\n",
      "RangeIndex: 8693 entries, 0 to 8692\n",
      "Data columns (total 14 columns):\n",
      " #   Column        Non-Null Count  Dtype  \n",
      "---  ------        --------------  -----  \n",
      " 0   PassengerId   8693 non-null   object \n",
      " 1   HomePlanet    8492 non-null   object \n",
      " 2   CryoSleep     8476 non-null   object \n",
      " 3   Cabin         8494 non-null   object \n",
      " 4   Destination   8511 non-null   object \n",
      " 5   Age           8514 non-null   float64\n",
      " 6   VIP           8490 non-null   object \n",
      " 7   RoomService   8512 non-null   float64\n",
      " 8   FoodCourt     8510 non-null   float64\n",
      " 9   ShoppingMall  8485 non-null   float64\n",
      " 10  Spa           8510 non-null   float64\n",
      " 11  VRDeck        8505 non-null   float64\n",
      " 12  Name          8493 non-null   object \n",
      " 13  Transported   8693 non-null   bool   \n",
      "dtypes: bool(1), float64(6), object(7)\n",
      "memory usage: 891.5+ KB\n"
     ]
    }
   ],
   "source": [
    "train_data.info()"
   ]
  },
  {
   "cell_type": "markdown",
   "id": "391e2a53",
   "metadata": {},
   "source": [
    "setting features"
   ]
  },
  {
   "cell_type": "code",
   "execution_count": 41,
   "id": "fbfe686c",
   "metadata": {},
   "outputs": [
    {
     "data": {
      "text/plain": [
       "['PassengerId',\n",
       " 'HomePlanet',\n",
       " 'CryoSleep',\n",
       " 'Cabin',\n",
       " 'Destination',\n",
       " 'Age',\n",
       " 'VIP',\n",
       " 'RoomService',\n",
       " 'FoodCourt',\n",
       " 'ShoppingMall',\n",
       " 'Spa',\n",
       " 'VRDeck',\n",
       " 'Name',\n",
       " 'Transported']"
      ]
     },
     "execution_count": 41,
     "metadata": {},
     "output_type": "execute_result"
    }
   ],
   "source": [
    "features = train_data.columns.to_list()\n",
    "features"
   ]
  },
  {
   "cell_type": "code",
   "execution_count": null,
   "id": "99745e95",
   "metadata": {},
   "outputs": [],
   "source": []
  },
  {
   "cell_type": "code",
   "execution_count": 42,
   "id": "3889306e",
   "metadata": {
    "scrolled": true
   },
   "outputs": [],
   "source": [
    "num = train_data._get_numeric_data()\n",
    "num.drop(['Transported'], axis=1, inplace=True)\n",
    "numdata = numdata.columns.to_list()"
   ]
  },
  {
   "cell_type": "code",
   "execution_count": 28,
   "id": "d80dbc53",
   "metadata": {},
   "outputs": [],
   "source": [
    "from sklearn.model_selection import train_test_split\n",
    "\n",
    "X = train_data[features]\n",
    "y = train_data.Transported\n",
    "\n",
    "X_train, X_valid, y_train, y_valid = train_test_split(X, y)"
   ]
  },
  {
   "cell_type": "markdown",
   "id": "c9dfe895",
   "metadata": {},
   "source": [
    "slightly modified code from the kaggle tutorial"
   ]
  },
  {
   "cell_type": "code",
   "execution_count": 29,
   "id": "a076f1b0",
   "metadata": {},
   "outputs": [],
   "source": [
    "from sklearn.ensemble import RandomForestClassifier"
   ]
  },
  {
   "cell_type": "markdown",
   "id": "c870ccd5",
   "metadata": {},
   "source": [
    "(I'm just splitting up a cell here so I can see what is taking so long)"
   ]
  },
  {
   "cell_type": "markdown",
   "id": "f1e94ee3",
   "metadata": {},
   "source": [
    "https://stackoverflow.com/questions/67361786/how-to-measure-random-forest-classifier-accuracy"
   ]
  },
  {
   "cell_type": "code",
   "execution_count": 30,
   "id": "4e6cd920",
   "metadata": {},
   "outputs": [],
   "source": [
    "from sklearn.impute import SimpleImputer\n",
    "from sklearn import metrics"
   ]
  },
  {
   "cell_type": "code",
   "execution_count": 44,
   "id": "d5f5114f",
   "metadata": {},
   "outputs": [
    {
     "name": "stdout",
     "output_type": "stream",
     "text": [
      "Accuracy: 0.7672493100275989\n"
     ]
    }
   ],
   "source": [
    "i = SimpleImputer()\n",
    "i_X_train = pd.DataFrame(i.fit_transform(X_train[numdata]))\n",
    "i_X_valid = pd.DataFrame(i.transform(X_valid[numdata]))\n",
    "\n",
    "i_X_train.columns = X_train[numdata].columns\n",
    "i_X_valid.columns = X_valid[numdata].columns\n",
    "\n",
    "model = RandomForestClassifier(random_state=1, n_estimators=100, criterion='entropy')\n",
    "model.fit(i_X_train, y_train)\n",
    "preds = model.predict(i_X_valid)\n",
    "print(\"Accuracy:\", metrics.accuracy_score(y_valid, preds))"
   ]
  },
  {
   "cell_type": "code",
   "execution_count": 41,
   "id": "a818743d",
   "metadata": {},
   "outputs": [],
   "source": [
    "ff = final_data[features]\n",
    "i_X_final = pd.DataFrame(i.transform(ff))\n",
    "i_X_final.columns = final_data[features].columns\n",
    "\n",
    "final_preds = model.predict(i_X_final)"
   ]
  },
  {
   "cell_type": "code",
   "execution_count": 43,
   "id": "a6575049",
   "metadata": {},
   "outputs": [],
   "source": [
    "output = pd.DataFrame({'PassengerId': final_data.PassengerId, 'Transported': final_preds})\n",
    "output.to_csv('submission1.csv', index=False)"
   ]
  }
 ],
 "metadata": {
  "kernelspec": {
   "display_name": "Python 3 (ipykernel)",
   "language": "python",
   "name": "python3"
  },
  "language_info": {
   "codemirror_mode": {
    "name": "ipython",
    "version": 3
   },
   "file_extension": ".py",
   "mimetype": "text/x-python",
   "name": "python",
   "nbconvert_exporter": "python",
   "pygments_lexer": "ipython3",
   "version": "3.9.12"
  }
 },
 "nbformat": 4,
 "nbformat_minor": 5
}
