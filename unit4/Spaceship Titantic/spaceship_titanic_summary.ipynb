{
 "cells": [
  {
   "cell_type": "markdown",
   "id": "35083f6d",
   "metadata": {},
   "source": [
    "# Spaceship Titanic"
   ]
  },
  {
   "cell_type": "markdown",
   "id": "651152f8",
   "metadata": {},
   "source": [
    "### Log of notebooks"
   ]
  },
  {
   "cell_type": "markdown",
   "id": "90dc2511",
   "metadata": {},
   "source": [
    "st_1: beginning exploration, model only numerical values (imputed) - Accuracy 0.7870285188592456 (or 0.78957 (1739) according to Kaggle)"
   ]
  },
  {
   "cell_type": "markdown",
   "id": "ad3cb118",
   "metadata": {},
   "source": [
    "st_2: exploring object/non-numerical columns - Accuracy 0.7824287028518859 (0.78232 according to Kaggle)"
   ]
  },
  {
   "cell_type": "markdown",
   "id": "06c49ff5",
   "metadata": {},
   "source": [
    "st_3: splitting Cabin into three columns, data visualization and exploration"
   ]
  },
  {
   "cell_type": "markdown",
   "id": "43621087",
   "metadata": {},
   "source": [
    "st_4: take my st_2 do some changes/run some tests (if the accuracy is higher, the change is kept - if it is lower the change is reverted back) (Accuracy of all positive changes - 0.78980)\n",
    "- split cabin one hot encoding deck, side (Accuracy 0.7874885004599816)\n",
    "- move some features\n",
    "    - no VIP (accuracy: 0.7897884084636615)\n",
    "    - no Destination (accuracy: 0.7801287948482061)\n",
    "    - no Side (accuracy: 0.7847286108555658)\n",
    "- changing the imputation strategy for all into...\n",
    "    - median (accuracy: 0.7948482060717571)\n",
    "    - most frequent (accuracy: 0.795768169273229)\n",
    "- taking out the criterion='entropy' of the model, changing it to..\n",
    "    - gini, the default (accuracy: 0.796688132474701)\n",
    "    - log_loss - broke my code, probably not worth it, considering the gini criterion accuracy"
   ]
  },
  {
   "cell_type": "markdown",
   "id": "b1b525e1",
   "metadata": {},
   "source": [
    "st_5: split the imputation into 'age' and 'moneydata' (ime = median, imf = most_frequent, ima = mean) - not worth it, just stick to one between the two of them - just don't do mean - yay? learned something?\n",
    "- age(ime), money(imf) - (accuracy: 0.797608095676173)\n",
    "- age(ime), money(ima) - (accuracy: 0.7943882244710212) -- X\n",
    "- age(ime), money(ime) - (accuracy: 0.797608095676173)\n",
    "- age(ima), money(imf) - (accuracy: 0.7953081876724931) -- X\n",
    "- age(ima), money(ima) - (accuracy: 0.796688132474701) -- X\n",
    "- age(ima), money(ime) - (accuracy: 0.7953081876724931) -- X\n",
    "- age(imf), money(imf) - (accuracy: 0.797608095676173)\n",
    "- age(imf), money(ima) - (accuracy: 0.7943882244710212) -- X\n",
    "- age(imf), money(ime) - (accuracy: 0.797608095676173)"
   ]
  },
  {
   "cell_type": "markdown",
   "id": "1d35da87",
   "metadata": {},
   "source": [
    "st_6: Attempting Gradient Boosting, cycling through some things to see what the best model is.\n",
    "- GradientBoostingClassifier(n_estimators=150, max_features=5, max_depth=2, random_state=1) (accuracy: 0.8054277828886844)"
   ]
  },
  {
   "cell_type": "markdown",
   "id": "3708646d",
   "metadata": {},
   "source": [
    "### Notes about Data"
   ]
  },
  {
   "cell_type": "markdown",
   "id": "b1a3a915",
   "metadata": {},
   "source": [
    "Every single column has nulls, so it is pointless to try and remove them (st_1). All of the numeric columns are either in booleans or floats and have to be converted out of (st_1). Cabin and name each have way too many columns to onehotencode (st_2)"
   ]
  },
  {
   "cell_type": "markdown",
   "id": "49b9ea30",
   "metadata": {},
   "source": [
    "### Extra Links"
   ]
  },
  {
   "cell_type": "markdown",
   "id": "9fa254bf",
   "metadata": {},
   "source": [
    "Random Forest Classifier Documentation: https://scikit-learn.org/stable/modules/generated/sklearn.ensemble.RandomForestClassifier.html"
   ]
  },
  {
   "cell_type": "markdown",
   "id": "8d527cbd",
   "metadata": {},
   "source": [
    "#### Necessary Imports"
   ]
  },
  {
   "cell_type": "code",
   "execution_count": 1,
   "id": "6e53cd96",
   "metadata": {},
   "outputs": [],
   "source": [
    "import pandas as pd\n",
    "from sklearn.ensemble import RandomForestClassifier\n",
    "from sklearn import metrics\n",
    "from sklearn.model_selection import train_test_split\n",
    "from sklearn.impute import SimpleImputer\n",
    "from sklearn.preprocessing import OrdinalEncoder"
   ]
  }
 ],
 "metadata": {
  "kernelspec": {
   "display_name": "Python 3 (ipykernel)",
   "language": "python",
   "name": "python3"
  },
  "language_info": {
   "codemirror_mode": {
    "name": "ipython",
    "version": 3
   },
   "file_extension": ".py",
   "mimetype": "text/x-python",
   "name": "python",
   "nbconvert_exporter": "python",
   "pygments_lexer": "ipython3",
   "version": "3.9.12"
  }
 },
 "nbformat": 4,
 "nbformat_minor": 5
}
