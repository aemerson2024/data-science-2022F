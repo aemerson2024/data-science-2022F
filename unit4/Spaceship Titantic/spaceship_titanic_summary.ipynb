{
 "cells": [
  {
   "cell_type": "markdown",
   "id": "35083f6d",
   "metadata": {},
   "source": [
    "# Spaceship Titanic"
   ]
  },
  {
   "cell_type": "markdown",
   "id": "651152f8",
   "metadata": {},
   "source": [
    "### Log of notebooks"
   ]
  },
  {
   "cell_type": "markdown",
   "id": "90dc2511",
   "metadata": {},
   "source": [
    "st_1: beginning exploration, model only numerical values (imputed) - Accuracy 0.7870285188592456 (or 0.78957 (1739) according to Kaggle)"
   ]
  },
  {
   "cell_type": "markdown",
   "id": "ad3cb118",
   "metadata": {},
   "source": [
    "st_2: exploring object/non-numerical columns - Accuracy 0.7824287028518859 (0.78232 according to Kaggle)"
   ]
  },
  {
   "cell_type": "markdown",
   "id": "06c49ff5",
   "metadata": {},
   "source": [
    "st_3: splitting Cabin into three columns, data visualization and exploration"
   ]
  },
  {
   "cell_type": "markdown",
   "id": "3708646d",
   "metadata": {},
   "source": [
    "### Notes about Data"
   ]
  },
  {
   "cell_type": "markdown",
   "id": "b1a3a915",
   "metadata": {},
   "source": [
    "Every single column has nulls, so it is pointless to try and remove them (st_1). All of the numeric columns are either in booleans or floats and have to be converted out of (st_1). Cabin and name each have way too many columns to onehotencode (st_2)"
   ]
  },
  {
   "cell_type": "markdown",
   "id": "6539d9ab",
   "metadata": {},
   "source": [
    "### To Do List"
   ]
  },
  {
   "cell_type": "markdown",
   "id": "ed41527f",
   "metadata": {},
   "source": [
    "Try and find a way to split cabin into three parts (one hot encode that)"
   ]
  },
  {
   "cell_type": "markdown",
   "id": "8d527cbd",
   "metadata": {},
   "source": [
    "#### Necessary Imports"
   ]
  },
  {
   "cell_type": "code",
   "execution_count": 1,
   "id": "6e53cd96",
   "metadata": {},
   "outputs": [],
   "source": [
    "import pandas as pd\n",
    "from sklearn.ensemble import RandomForestClassifier\n",
    "from sklearn import metrics\n",
    "from sklearn.model_selection import train_test_split\n",
    "from sklearn.impute import SimpleImputer\n",
    "from sklearn.preprocessing import OrdinalEncoder"
   ]
  },
  {
   "cell_type": "markdown",
   "id": "8c0fcc34",
   "metadata": {},
   "source": [
    "(some more imports that it's nice to have the code for, but not strictly necessary to always have)"
   ]
  }
 ],
 "metadata": {
  "kernelspec": {
   "display_name": "Python 3 (ipykernel)",
   "language": "python",
   "name": "python3"
  },
  "language_info": {
   "codemirror_mode": {
    "name": "ipython",
    "version": 3
   },
   "file_extension": ".py",
   "mimetype": "text/x-python",
   "name": "python",
   "nbconvert_exporter": "python",
   "pygments_lexer": "ipython3",
   "version": "3.9.12"
  }
 },
 "nbformat": 4,
 "nbformat_minor": 5
}
