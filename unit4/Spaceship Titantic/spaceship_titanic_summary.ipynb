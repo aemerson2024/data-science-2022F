{
 "cells": [
  {
   "cell_type": "markdown",
   "id": "35083f6d",
   "metadata": {},
   "source": [
    "# Spaceship Titanic"
   ]
  },
  {
   "cell_type": "markdown",
   "id": "651152f8",
   "metadata": {},
   "source": [
    "### Log of notebooks"
   ]
  },
  {
   "cell_type": "markdown",
   "id": "90dc2511",
   "metadata": {},
   "source": [
    "st_1: beginning exploration"
   ]
  },
  {
   "cell_type": "markdown",
   "id": "3708646d",
   "metadata": {},
   "source": [
    "### Notes about Data"
   ]
  },
  {
   "cell_type": "markdown",
   "id": "b1a3a915",
   "metadata": {},
   "source": [
    "Every single column has nulls, so it is pointless to try and remove them (st_1). All of the numeric columns are either in booleans or floats and have to be converted out of (st_1)"
   ]
  },
  {
   "cell_type": "markdown",
   "id": "8d527cbd",
   "metadata": {},
   "source": [
    "#### Necessary Imports"
   ]
  },
  {
   "cell_type": "code",
   "execution_count": 10,
   "id": "6e53cd96",
   "metadata": {},
   "outputs": [],
   "source": [
    "import pandas as pd\n",
    "from sklearn.ensemble import RandomForestClassifier\n",
    "from sklearn.metrics import mean_absolute_error"
   ]
  },
  {
   "cell_type": "markdown",
   "id": "8c0fcc34",
   "metadata": {},
   "source": [
    "(some more imports that it's nice to have the code for, but not strictly necessary to always have)"
   ]
  },
  {
   "cell_type": "code",
   "execution_count": 7,
   "id": "bfbf787b",
   "metadata": {},
   "outputs": [],
   "source": [
    "from sklearn.impute import SimpleImputer"
   ]
  },
  {
   "cell_type": "markdown",
   "id": "0423a800",
   "metadata": {},
   "source": [
    "#### Necessary Set-Up"
   ]
  },
  {
   "cell_type": "code",
   "execution_count": 2,
   "id": "ebdc6453",
   "metadata": {},
   "outputs": [],
   "source": [
    "import pandas as pd\n",
    "\n",
    "final_data = pd.read_csv('test.csv')\n",
    "train_data = pd.read_csv('train.csv')"
   ]
  },
  {
   "cell_type": "code",
   "execution_count": 5,
   "id": "168041ee",
   "metadata": {},
   "outputs": [],
   "source": [
    "from sklearn.model_selection import train_test_split\n",
    "\n",
    "# X = train_data[features]\n",
    "# set features individually for each model\n",
    "y = train_data.PassengerId\n",
    "\n",
    "# X_train, X_valid, y_train, y_valid = train_test_split(X, y)"
   ]
  },
  {
   "cell_type": "markdown",
   "id": "13b20108",
   "metadata": {},
   "source": [
    "(sample model, though this may change)"
   ]
  },
  {
   "cell_type": "code",
   "execution_count": 6,
   "id": "66eb8060",
   "metadata": {},
   "outputs": [],
   "source": [
    "# def funlilmodel (X_train, X_valid, y_train, y_valid):\n",
    "#     model = RandomForestRegressor(random_state=1)\n",
    "#     model.fit(X_train, y_train)\n",
    "#     preds = model.predict(X_valid)\n",
    "#     return mean_absolute_error(y_valid, preds)"
   ]
  },
  {
   "cell_type": "code",
   "execution_count": null,
   "id": "205d5b7c",
   "metadata": {},
   "outputs": [],
   "source": []
  }
 ],
 "metadata": {
  "kernelspec": {
   "display_name": "Python 3 (ipykernel)",
   "language": "python",
   "name": "python3"
  },
  "language_info": {
   "codemirror_mode": {
    "name": "ipython",
    "version": 3
   },
   "file_extension": ".py",
   "mimetype": "text/x-python",
   "name": "python",
   "nbconvert_exporter": "python",
   "pygments_lexer": "ipython3",
   "version": "3.9.12"
  }
 },
 "nbformat": 4,
 "nbformat_minor": 5
}
