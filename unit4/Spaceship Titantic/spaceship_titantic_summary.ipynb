{
 "cells": [
  {
   "cell_type": "markdown",
   "id": "6c61780f",
   "metadata": {},
   "source": [
    "# Spaceship Titantic"
   ]
  },
  {
   "cell_type": "markdown",
   "id": "3b705b78",
   "metadata": {},
   "source": [
    "### Log of notebooks"
   ]
  },
  {
   "cell_type": "markdown",
   "id": "6a4479ef",
   "metadata": {},
   "source": [
    "st_1: beginning exploration"
   ]
  },
  {
   "cell_type": "markdown",
   "id": "605136a7",
   "metadata": {},
   "source": [
    "### Notes about Data"
   ]
  },
  {
   "cell_type": "markdown",
   "id": "bb1d148f",
   "metadata": {},
   "source": [
    "Every single column has nulls, so it is pointless to try and remove them (st_1). All of the numeric columns are either in booleans or floats and have to be converted out of (st_1)"
   ]
  },
  {
   "cell_type": "code",
   "execution_count": null,
   "id": "9606e0ff",
   "metadata": {},
   "outputs": [],
   "source": []
  }
 ],
 "metadata": {
  "kernelspec": {
   "display_name": "Python 3 (ipykernel)",
   "language": "python",
   "name": "python3"
  },
  "language_info": {
   "codemirror_mode": {
    "name": "ipython",
    "version": 3
   },
   "file_extension": ".py",
   "mimetype": "text/x-python",
   "name": "python",
   "nbconvert_exporter": "python",
   "pygments_lexer": "ipython3",
   "version": "3.9.12"
  }
 },
 "nbformat": 4,
 "nbformat_minor": 5
}
