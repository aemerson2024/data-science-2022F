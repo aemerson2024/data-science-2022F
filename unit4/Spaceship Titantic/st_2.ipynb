{
 "cells": [
  {
   "cell_type": "markdown",
   "id": "e6347995",
   "metadata": {},
   "source": [
    "# Spaceship Titanic Competition"
   ]
  },
  {
   "cell_type": "markdown",
   "id": "37d75dd1",
   "metadata": {},
   "source": [
    "### Goals: do some work with the categorical columns, one hot encode"
   ]
  },
  {
   "cell_type": "markdown",
   "id": "1e7d2b48",
   "metadata": {},
   "source": [
    "To Do List - check if model can absorb nulls, if not convert floats to int (can't do that until there are no nulls)"
   ]
  },
  {
   "cell_type": "code",
   "execution_count": 2,
   "id": "98e4f0a5",
   "metadata": {},
   "outputs": [],
   "source": [
    "import pandas as pd\n",
    "\n",
    "final_data = pd.read_csv('test.csv')\n",
    "train_data = pd.read_csv('train.csv')"
   ]
  },
  {
   "cell_type": "code",
   "execution_count": 3,
   "id": "003b7c02",
   "metadata": {},
   "outputs": [
    {
     "name": "stdout",
     "output_type": "stream",
     "text": [
      "<class 'pandas.core.frame.DataFrame'>\n",
      "RangeIndex: 8693 entries, 0 to 8692\n",
      "Data columns (total 14 columns):\n",
      " #   Column        Non-Null Count  Dtype  \n",
      "---  ------        --------------  -----  \n",
      " 0   PassengerId   8693 non-null   object \n",
      " 1   HomePlanet    8492 non-null   object \n",
      " 2   CryoSleep     8476 non-null   object \n",
      " 3   Cabin         8494 non-null   object \n",
      " 4   Destination   8511 non-null   object \n",
      " 5   Age           8514 non-null   float64\n",
      " 6   VIP           8490 non-null   object \n",
      " 7   RoomService   8512 non-null   float64\n",
      " 8   FoodCourt     8510 non-null   float64\n",
      " 9   ShoppingMall  8485 non-null   float64\n",
      " 10  Spa           8510 non-null   float64\n",
      " 11  VRDeck        8505 non-null   float64\n",
      " 12  Name          8493 non-null   object \n",
      " 13  Transported   8693 non-null   bool   \n",
      "dtypes: bool(1), float64(6), object(7)\n",
      "memory usage: 891.5+ KB\n"
     ]
    }
   ],
   "source": [
    "train_data.info()"
   ]
  },
  {
   "cell_type": "code",
   "execution_count": 90,
   "id": "8108441d",
   "metadata": {},
   "outputs": [
    {
     "data": {
      "text/plain": [
       "0       False\n",
       "1       False\n",
       "2        True\n",
       "3       False\n",
       "4       False\n",
       "        ...  \n",
       "8688     True\n",
       "8689    False\n",
       "8690    False\n",
       "8691    False\n",
       "8692    False\n",
       "Name: VIP, Length: 8693, dtype: object"
      ]
     },
     "execution_count": 90,
     "metadata": {},
     "output_type": "execute_result"
    }
   ],
   "source": [
    "train_data.VIP"
   ]
  },
  {
   "cell_type": "markdown",
   "id": "391e2a53",
   "metadata": {},
   "source": [
    "setting features"
   ]
  },
  {
   "cell_type": "code",
   "execution_count": 70,
   "id": "6fd75487",
   "metadata": {},
   "outputs": [
    {
     "data": {
      "text/plain": [
       "['PassengerId',\n",
       " 'HomePlanet',\n",
       " 'CryoSleep',\n",
       " 'Cabin',\n",
       " 'Destination',\n",
       " 'Age',\n",
       " 'VIP',\n",
       " 'RoomService',\n",
       " 'FoodCourt',\n",
       " 'ShoppingMall',\n",
       " 'Spa',\n",
       " 'VRDeck',\n",
       " 'Name']"
      ]
     },
     "execution_count": 70,
     "metadata": {},
     "output_type": "execute_result"
    }
   ],
   "source": [
    "features = train_data.columns.drop('Transported').to_list()\n",
    "features"
   ]
  },
  {
   "cell_type": "code",
   "execution_count": 71,
   "id": "d80dbc53",
   "metadata": {},
   "outputs": [],
   "source": [
    "from sklearn.model_selection import train_test_split\n",
    "\n",
    "X = train_data[features]\n",
    "y = train_data.Transported\n",
    "\n",
    "X_train, X_valid, y_train, y_valid = train_test_split(X, y)"
   ]
  },
  {
   "cell_type": "markdown",
   "id": "ac78b227",
   "metadata": {},
   "source": [
    "list of all categorical columns"
   ]
  },
  {
   "cell_type": "code",
   "execution_count": 72,
   "id": "163e1dba",
   "metadata": {
    "scrolled": false
   },
   "outputs": [
    {
     "data": {
      "text/plain": [
       "['PassengerId',\n",
       " 'HomePlanet',\n",
       " 'CryoSleep',\n",
       " 'Cabin',\n",
       " 'Destination',\n",
       " 'VIP',\n",
       " 'Name']"
      ]
     },
     "execution_count": 72,
     "metadata": {},
     "output_type": "execute_result"
    }
   ],
   "source": [
    "cat_cols = X_train.select_dtypes(include='object').columns.to_list()\n",
    "cat_cols"
   ]
  },
  {
   "cell_type": "markdown",
   "id": "b2f3fef0",
   "metadata": {},
   "source": [
    "(code from the kaggle tutorial - checking to see how many unique values are in each categorical column)"
   ]
  },
  {
   "cell_type": "code",
   "execution_count": 73,
   "id": "3d666443",
   "metadata": {
    "scrolled": true
   },
   "outputs": [
    {
     "data": {
      "text/plain": [
       "[('CryoSleep', 2),\n",
       " ('VIP', 2),\n",
       " ('HomePlanet', 3),\n",
       " ('Destination', 3),\n",
       " ('Cabin', 5168),\n",
       " ('Name', 6359),\n",
       " ('PassengerId', 6519)]"
      ]
     },
     "execution_count": 73,
     "metadata": {},
     "output_type": "execute_result"
    }
   ],
   "source": [
    "# Get number of unique entries in each column with categorical data\n",
    "object_nunique = list(map(lambda col: X_train[col].nunique(), cat_cols))\n",
    "d = dict(zip(cat_cols, object_nunique))\n",
    "\n",
    "# Print number of unique entries by column, in ascending order\n",
    "sorted(d.items(), key=lambda x: x[1])"
   ]
  },
  {
   "cell_type": "code",
   "execution_count": 74,
   "id": "93b84fb5",
   "metadata": {},
   "outputs": [],
   "source": [
    "usecat = ['CryoSleep', 'VIP', 'HomePlanet', 'Destination']"
   ]
  },
  {
   "cell_type": "code",
   "execution_count": 75,
   "id": "e5c91c91",
   "metadata": {},
   "outputs": [],
   "source": [
    "from sklearn.preprocessing import OneHotEncoder"
   ]
  },
  {
   "cell_type": "code",
   "execution_count": 76,
   "id": "592583a5",
   "metadata": {},
   "outputs": [
    {
     "name": "stdout",
     "output_type": "stream",
     "text": [
      "<class 'pandas.core.frame.DataFrame'>\n",
      "RangeIndex: 6519 entries, 0 to 6518\n",
      "Data columns (total 14 columns):\n",
      " #   Column  Non-Null Count  Dtype  \n",
      "---  ------  --------------  -----  \n",
      " 0   0       6519 non-null   float64\n",
      " 1   1       6519 non-null   float64\n",
      " 2   2       6519 non-null   float64\n",
      " 3   3       6519 non-null   float64\n",
      " 4   4       6519 non-null   float64\n",
      " 5   5       6519 non-null   float64\n",
      " 6   6       6519 non-null   float64\n",
      " 7   7       6519 non-null   float64\n",
      " 8   8       6519 non-null   float64\n",
      " 9   9       6519 non-null   float64\n",
      " 10  10      6519 non-null   float64\n",
      " 11  11      6519 non-null   float64\n",
      " 12  12      6519 non-null   float64\n",
      " 13  13      6519 non-null   float64\n",
      "dtypes: float64(14)\n",
      "memory usage: 713.1 KB\n"
     ]
    }
   ],
   "source": [
    "# Apply one-hot encoder to each column with categorical data\n",
    "ohe = OneHotEncoder(handle_unknown='ignore', sparse=False)\n",
    "ohe_train = pd.DataFrame(ohe.fit_transform(X_train[usecat]))\n",
    "ohe_valid = pd.DataFrame(ohe.transform(X_valid[usecat]))\n",
    "\n",
    "ohe_train.info()"
   ]
  },
  {
   "cell_type": "code",
   "execution_count": 77,
   "id": "7405cae8",
   "metadata": {},
   "outputs": [],
   "source": [
    "# One-hot encoding removed index; put it back\n",
    "ohe_train.index = X_train.index\n",
    "ohe_valid.index = X_valid.index"
   ]
  },
  {
   "cell_type": "markdown",
   "id": "65dd4f1e",
   "metadata": {},
   "source": [
    "-------------------------------------------------------------------------------------------------------------------------------"
   ]
  },
  {
   "cell_type": "markdown",
   "id": "cbbfc6d7",
   "metadata": {},
   "source": [
    "setting up for imputation"
   ]
  },
  {
   "cell_type": "code",
   "execution_count": 78,
   "id": "3889306e",
   "metadata": {
    "scrolled": true
   },
   "outputs": [],
   "source": [
    "num = train_data._get_numeric_data()\n",
    "num.drop(['Transported'], axis=1, inplace=True)\n",
    "numdata = num.columns.to_list()"
   ]
  },
  {
   "cell_type": "markdown",
   "id": "c9dfe895",
   "metadata": {},
   "source": [
    "slightly modified code from the kaggle tutorial"
   ]
  },
  {
   "cell_type": "code",
   "execution_count": 79,
   "id": "a076f1b0",
   "metadata": {},
   "outputs": [],
   "source": [
    "from sklearn.ensemble import RandomForestClassifier"
   ]
  },
  {
   "cell_type": "markdown",
   "id": "c870ccd5",
   "metadata": {},
   "source": [
    "(I'm just splitting up a cell here so I can see what is taking so long)"
   ]
  },
  {
   "cell_type": "markdown",
   "id": "f1e94ee3",
   "metadata": {},
   "source": [
    "https://stackoverflow.com/questions/67361786/how-to-measure-random-forest-classifier-accuracy"
   ]
  },
  {
   "cell_type": "code",
   "execution_count": 80,
   "id": "4e6cd920",
   "metadata": {},
   "outputs": [],
   "source": [
    "from sklearn.impute import SimpleImputer\n",
    "from sklearn import metrics"
   ]
  },
  {
   "cell_type": "code",
   "execution_count": 81,
   "id": "d5f5114f",
   "metadata": {},
   "outputs": [
    {
     "name": "stdout",
     "output_type": "stream",
     "text": [
      "<class 'pandas.core.frame.DataFrame'>\n",
      "Int64Index: 6519 entries, 5921 to 7958\n",
      "Data columns (total 6 columns):\n",
      " #   Column        Non-Null Count  Dtype  \n",
      "---  ------        --------------  -----  \n",
      " 0   Age           6519 non-null   float64\n",
      " 1   RoomService   6519 non-null   float64\n",
      " 2   FoodCourt     6519 non-null   float64\n",
      " 3   ShoppingMall  6519 non-null   float64\n",
      " 4   Spa           6519 non-null   float64\n",
      " 5   VRDeck        6519 non-null   float64\n",
      "dtypes: float64(6)\n",
      "memory usage: 356.5 KB\n"
     ]
    }
   ],
   "source": [
    "i = SimpleImputer()\n",
    "i_X_train = pd.DataFrame(i.fit_transform(X_train[numdata]))\n",
    "i_X_valid = pd.DataFrame(i.transform(X_valid[numdata]))\n",
    "\n",
    "i_X_train.columns = X_train[numdata].columns\n",
    "i_X_valid.columns = X_valid[numdata].columns\n",
    "\n",
    "i_X_train.index = X_train.index\n",
    "i_X_valid.index = X_valid.index\n",
    "\n",
    "i_X_train.info()"
   ]
  },
  {
   "cell_type": "markdown",
   "id": "392afc0b",
   "metadata": {},
   "source": [
    "-------------------------------------------------------------------------------------------------------------------------------"
   ]
  },
  {
   "cell_type": "code",
   "execution_count": 82,
   "id": "e6debbe8",
   "metadata": {
    "scrolled": false
   },
   "outputs": [
    {
     "name": "stdout",
     "output_type": "stream",
     "text": [
      "<class 'pandas.core.frame.DataFrame'>\n",
      "Int64Index: 6519 entries, 5921 to 7958\n",
      "Data columns (total 20 columns):\n",
      " #   Column        Non-Null Count  Dtype  \n",
      "---  ------        --------------  -----  \n",
      " 0   Age           6519 non-null   float64\n",
      " 1   RoomService   6519 non-null   float64\n",
      " 2   FoodCourt     6519 non-null   float64\n",
      " 3   ShoppingMall  6519 non-null   float64\n",
      " 4   Spa           6519 non-null   float64\n",
      " 5   VRDeck        6519 non-null   float64\n",
      " 6   0             6519 non-null   float64\n",
      " 7   1             6519 non-null   float64\n",
      " 8   2             6519 non-null   float64\n",
      " 9   3             6519 non-null   float64\n",
      " 10  4             6519 non-null   float64\n",
      " 11  5             6519 non-null   float64\n",
      " 12  6             6519 non-null   float64\n",
      " 13  7             6519 non-null   float64\n",
      " 14  8             6519 non-null   float64\n",
      " 15  9             6519 non-null   float64\n",
      " 16  10            6519 non-null   float64\n",
      " 17  11            6519 non-null   float64\n",
      " 18  12            6519 non-null   float64\n",
      " 19  13            6519 non-null   float64\n",
      "dtypes: float64(20)\n",
      "memory usage: 1.0 MB\n"
     ]
    }
   ],
   "source": [
    "# Add one-hot encoded columns to numerical features\n",
    "both_X_train = pd.concat([i_X_train, ohe_train], axis=1)\n",
    "both_X_valid = pd.concat([i_X_valid, ohe_valid], axis=1)\n",
    "both_X_train.info()"
   ]
  },
  {
   "cell_type": "code",
   "execution_count": 83,
   "id": "0f11573f",
   "metadata": {},
   "outputs": [],
   "source": [
    "both_X_train.columns = both_X_train.columns.astype(str)\n",
    "both_X_valid.columns = both_X_valid.columns.astype(str)"
   ]
  },
  {
   "cell_type": "code",
   "execution_count": 84,
   "id": "4806f20a",
   "metadata": {},
   "outputs": [
    {
     "name": "stdout",
     "output_type": "stream",
     "text": [
      "Accuracy: 0.7824287028518859\n"
     ]
    }
   ],
   "source": [
    "model = RandomForestClassifier(random_state=1, n_estimators=100, criterion='entropy')\n",
    "model.fit(both_X_train, y_train)\n",
    "preds = model.predict(both_X_valid)\n",
    "print(\"Accuracy:\", metrics.accuracy_score(y_valid, preds))"
   ]
  },
  {
   "cell_type": "markdown",
   "id": "aa189cb4",
   "metadata": {},
   "source": [
    "-------------------------------------------------------------------------------------------------------------------------------"
   ]
  },
  {
   "cell_type": "code",
   "execution_count": 85,
   "id": "c3659b2b",
   "metadata": {
    "scrolled": true
   },
   "outputs": [
    {
     "data": {
      "text/plain": [
       "RandomForestClassifier(criterion='entropy', random_state=1)"
      ]
     },
     "execution_count": 85,
     "metadata": {},
     "output_type": "execute_result"
    }
   ],
   "source": [
    "# doing what I did to my data to all my training data\n",
    "ohe_X = pd.DataFrame(ohe.transform(X[usecat]))\n",
    "ohe_X.index = X.index\n",
    "\n",
    "i_X = pd.DataFrame(i.transform(X[numdata]))\n",
    "i_X.columns = X[numdata].columns\n",
    "i_X.index = X.index\n",
    "\n",
    "both_X = pd.concat([i_X, ohe_X], axis=1)\n",
    "both_X.columns = both_X.columns.astype(str)\n",
    "\n",
    "# i_X.info()\n",
    "\n",
    "model.fit(both_X, y)"
   ]
  },
  {
   "cell_type": "code",
   "execution_count": 86,
   "id": "a818743d",
   "metadata": {},
   "outputs": [],
   "source": [
    "ff = final_data[features]\n",
    "ohe_final = pd.DataFrame(ohe.transform(ff[usecat]))\n",
    "ohe_final.index = ff.index\n",
    "\n",
    "i_X_final = pd.DataFrame(i.fit_transform(ff[numdata]))\n",
    "i_X_final.columns = ff[numdata].columns\n",
    "i_X_final.index = ff.index\n",
    "\n",
    "both_X_final = pd.concat([i_X_final, ohe_final], axis=1)\n",
    "both_X_final.columns = both_X.columns.astype(str)"
   ]
  },
  {
   "cell_type": "code",
   "execution_count": 88,
   "id": "4c38dea7",
   "metadata": {},
   "outputs": [],
   "source": [
    "final_preds = model.predict(both_X_final)"
   ]
  },
  {
   "cell_type": "code",
   "execution_count": 89,
   "id": "a6575049",
   "metadata": {},
   "outputs": [],
   "source": [
    "output = pd.DataFrame({'PassengerId': final_data.PassengerId, 'Transported': final_preds})\n",
    "output.to_csv('submission3.csv', index=False)"
   ]
  }
 ],
 "metadata": {
  "kernelspec": {
   "display_name": "Python 3 (ipykernel)",
   "language": "python",
   "name": "python3"
  },
  "language_info": {
   "codemirror_mode": {
    "name": "ipython",
    "version": 3
   },
   "file_extension": ".py",
   "mimetype": "text/x-python",
   "name": "python",
   "nbconvert_exporter": "python",
   "pygments_lexer": "ipython3",
   "version": "3.9.12"
  }
 },
 "nbformat": 4,
 "nbformat_minor": 5
}
