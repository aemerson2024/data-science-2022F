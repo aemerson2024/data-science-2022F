{
 "cells": [
  {
   "cell_type": "markdown",
   "id": "e6347995",
   "metadata": {},
   "source": [
    "# Spaceship Titanic Competition"
   ]
  },
  {
   "cell_type": "markdown",
   "id": "37d75dd1",
   "metadata": {},
   "source": [
    "### Goals: set up, do some data exploration, create a model with no nulls"
   ]
  },
  {
   "cell_type": "markdown",
   "id": "1e7d2b48",
   "metadata": {},
   "source": [
    "To Do List - check if model can absorb nulls, if not convert floats to int (can't do that until there are no nulls)"
   ]
  },
  {
   "cell_type": "code",
   "execution_count": 11,
   "id": "98e4f0a5",
   "metadata": {},
   "outputs": [],
   "source": [
    "import pandas as pd\n",
    "\n",
    "final_data = pd.read_csv('test.csv')\n",
    "train_data = pd.read_csv('train.csv')"
   ]
  },
  {
   "cell_type": "code",
   "execution_count": 12,
   "id": "e330d305",
   "metadata": {},
   "outputs": [
    {
     "name": "stdout",
     "output_type": "stream",
     "text": [
      "<class 'pandas.core.frame.DataFrame'>\n",
      "RangeIndex: 8693 entries, 0 to 8692\n",
      "Data columns (total 14 columns):\n",
      " #   Column        Non-Null Count  Dtype  \n",
      "---  ------        --------------  -----  \n",
      " 0   PassengerId   8693 non-null   object \n",
      " 1   HomePlanet    8492 non-null   object \n",
      " 2   CryoSleep     8476 non-null   object \n",
      " 3   Cabin         8494 non-null   object \n",
      " 4   Destination   8511 non-null   object \n",
      " 5   Age           8514 non-null   float64\n",
      " 6   VIP           8490 non-null   object \n",
      " 7   RoomService   8512 non-null   float64\n",
      " 8   FoodCourt     8510 non-null   float64\n",
      " 9   ShoppingMall  8485 non-null   float64\n",
      " 10  Spa           8510 non-null   float64\n",
      " 11  VRDeck        8505 non-null   float64\n",
      " 12  Name          8493 non-null   object \n",
      " 13  Transported   8693 non-null   bool   \n",
      "dtypes: bool(1), float64(6), object(7)\n",
      "memory usage: 891.5+ KB\n"
     ]
    }
   ],
   "source": [
    "train_data.info()"
   ]
  },
  {
   "cell_type": "code",
   "execution_count": 13,
   "id": "9e9643df",
   "metadata": {},
   "outputs": [],
   "source": [
    "# convert after I do whatever with nulls, astype can't convert null values\n",
    "# train_data.Age.astype(int)"
   ]
  },
  {
   "cell_type": "code",
   "execution_count": 15,
   "id": "8bab4c45",
   "metadata": {},
   "outputs": [
    {
     "name": "stdout",
     "output_type": "stream",
     "text": [
      "<class 'pandas.core.frame.DataFrame'>\n",
      "RangeIndex: 8693 entries, 0 to 8692\n",
      "Data columns (total 1 columns):\n",
      " #   Column       Non-Null Count  Dtype\n",
      "---  ------       --------------  -----\n",
      " 0   Transported  8693 non-null   bool \n",
      "dtypes: bool(1)\n",
      "memory usage: 8.6 KB\n"
     ]
    }
   ],
   "source": [
    "c = train_data._get_numeric_data()\n",
    "c.dropna(axis=1, how='any', inplace=True)\n",
    "# c.drop(['PassengerId', 'Transported'], axis=1, inplace=True)\n",
    "c.info()"
   ]
  },
  {
   "cell_type": "markdown",
   "id": "27fc15e8",
   "metadata": {},
   "source": [
    "### Lessons Learned! Every column has nulls and taking them all out is pretty pointless!"
   ]
  }
 ],
 "metadata": {
  "kernelspec": {
   "display_name": "Python 3 (ipykernel)",
   "language": "python",
   "name": "python3"
  },
  "language_info": {
   "codemirror_mode": {
    "name": "ipython",
    "version": 3
   },
   "file_extension": ".py",
   "mimetype": "text/x-python",
   "name": "python",
   "nbconvert_exporter": "python",
   "pygments_lexer": "ipython3",
   "version": "3.9.12"
  }
 },
 "nbformat": 4,
 "nbformat_minor": 5
}
