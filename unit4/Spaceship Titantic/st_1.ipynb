{
 "cells": [
  {
   "cell_type": "markdown",
   "id": "e6347995",
   "metadata": {},
   "source": [
    "# Spaceship Titanic Competition"
   ]
  },
  {
   "cell_type": "markdown",
   "id": "37d75dd1",
   "metadata": {},
   "source": [
    "### Goals: set up, do some data exploration, create a model with no nulls"
   ]
  },
  {
   "cell_type": "markdown",
   "id": "1e7d2b48",
   "metadata": {},
   "source": [
    "To Do List - check if model can absorb nulls, if not convert floats to int (can't do that until there are no nulls)"
   ]
  },
  {
   "cell_type": "code",
   "execution_count": 1,
   "id": "98e4f0a5",
   "metadata": {},
   "outputs": [],
   "source": [
    "import pandas as pd\n",
    "\n",
    "final_data = pd.read_csv('test.csv')\n",
    "train_data = pd.read_csv('train.csv')"
   ]
  },
  {
   "cell_type": "code",
   "execution_count": 2,
   "id": "55afb185",
   "metadata": {
    "scrolled": true
   },
   "outputs": [
    {
     "name": "stdout",
     "output_type": "stream",
     "text": [
      "<class 'pandas.core.frame.DataFrame'>\n",
      "RangeIndex: 4277 entries, 0 to 4276\n",
      "Data columns (total 13 columns):\n",
      " #   Column        Non-Null Count  Dtype  \n",
      "---  ------        --------------  -----  \n",
      " 0   PassengerId   4277 non-null   object \n",
      " 1   HomePlanet    4190 non-null   object \n",
      " 2   CryoSleep     4184 non-null   object \n",
      " 3   Cabin         4177 non-null   object \n",
      " 4   Destination   4185 non-null   object \n",
      " 5   Age           4186 non-null   float64\n",
      " 6   VIP           4184 non-null   object \n",
      " 7   RoomService   4195 non-null   float64\n",
      " 8   FoodCourt     4171 non-null   float64\n",
      " 9   ShoppingMall  4179 non-null   float64\n",
      " 10  Spa           4176 non-null   float64\n",
      " 11  VRDeck        4197 non-null   float64\n",
      " 12  Name          4183 non-null   object \n",
      "dtypes: float64(6), object(7)\n",
      "memory usage: 434.5+ KB\n"
     ]
    }
   ],
   "source": [
    "final_data.info()"
   ]
  },
  {
   "cell_type": "code",
   "execution_count": 3,
   "id": "e330d305",
   "metadata": {
    "scrolled": true
   },
   "outputs": [
    {
     "name": "stdout",
     "output_type": "stream",
     "text": [
      "<class 'pandas.core.frame.DataFrame'>\n",
      "RangeIndex: 8693 entries, 0 to 8692\n",
      "Data columns (total 14 columns):\n",
      " #   Column        Non-Null Count  Dtype  \n",
      "---  ------        --------------  -----  \n",
      " 0   PassengerId   8693 non-null   object \n",
      " 1   HomePlanet    8492 non-null   object \n",
      " 2   CryoSleep     8476 non-null   object \n",
      " 3   Cabin         8494 non-null   object \n",
      " 4   Destination   8511 non-null   object \n",
      " 5   Age           8514 non-null   float64\n",
      " 6   VIP           8490 non-null   object \n",
      " 7   RoomService   8512 non-null   float64\n",
      " 8   FoodCourt     8510 non-null   float64\n",
      " 9   ShoppingMall  8485 non-null   float64\n",
      " 10  Spa           8510 non-null   float64\n",
      " 11  VRDeck        8505 non-null   float64\n",
      " 12  Name          8493 non-null   object \n",
      " 13  Transported   8693 non-null   bool   \n",
      "dtypes: bool(1), float64(6), object(7)\n",
      "memory usage: 891.5+ KB\n"
     ]
    }
   ],
   "source": [
    "train_data.info()"
   ]
  },
  {
   "cell_type": "code",
   "execution_count": 4,
   "id": "8bab4c45",
   "metadata": {},
   "outputs": [
    {
     "name": "stdout",
     "output_type": "stream",
     "text": [
      "<class 'pandas.core.frame.DataFrame'>\n",
      "RangeIndex: 8693 entries, 0 to 8692\n",
      "Data columns (total 1 columns):\n",
      " #   Column       Non-Null Count  Dtype\n",
      "---  ------       --------------  -----\n",
      " 0   Transported  8693 non-null   bool \n",
      "dtypes: bool(1)\n",
      "memory usage: 8.6 KB\n"
     ]
    }
   ],
   "source": [
    "c = train_data._get_numeric_data()\n",
    "c.dropna(axis=1, how='any', inplace=True)\n",
    "# c.drop(['PassengerId', 'Transported'], axis=1, inplace=True)\n",
    "c.info()"
   ]
  },
  {
   "cell_type": "markdown",
   "id": "27fc15e8",
   "metadata": {},
   "source": [
    "### Lessons Learned! Every column has nulls and taking them all out is pretty pointless!"
   ]
  },
  {
   "cell_type": "markdown",
   "id": "391e2a53",
   "metadata": {},
   "source": [
    "Okay, I am going to build a model with just numeric data, inputing nulls"
   ]
  },
  {
   "cell_type": "code",
   "execution_count": 5,
   "id": "3889306e",
   "metadata": {
    "scrolled": true
   },
   "outputs": [
    {
     "data": {
      "text/html": [
       "<div>\n",
       "<style scoped>\n",
       "    .dataframe tbody tr th:only-of-type {\n",
       "        vertical-align: middle;\n",
       "    }\n",
       "\n",
       "    .dataframe tbody tr th {\n",
       "        vertical-align: top;\n",
       "    }\n",
       "\n",
       "    .dataframe thead th {\n",
       "        text-align: right;\n",
       "    }\n",
       "</style>\n",
       "<table border=\"1\" class=\"dataframe\">\n",
       "  <thead>\n",
       "    <tr style=\"text-align: right;\">\n",
       "      <th></th>\n",
       "      <th>Age</th>\n",
       "      <th>RoomService</th>\n",
       "      <th>FoodCourt</th>\n",
       "      <th>ShoppingMall</th>\n",
       "      <th>Spa</th>\n",
       "      <th>VRDeck</th>\n",
       "    </tr>\n",
       "  </thead>\n",
       "  <tbody>\n",
       "    <tr>\n",
       "      <th>0</th>\n",
       "      <td>39.0</td>\n",
       "      <td>0.0</td>\n",
       "      <td>0.0</td>\n",
       "      <td>0.0</td>\n",
       "      <td>0.0</td>\n",
       "      <td>0.0</td>\n",
       "    </tr>\n",
       "    <tr>\n",
       "      <th>1</th>\n",
       "      <td>24.0</td>\n",
       "      <td>109.0</td>\n",
       "      <td>9.0</td>\n",
       "      <td>25.0</td>\n",
       "      <td>549.0</td>\n",
       "      <td>44.0</td>\n",
       "    </tr>\n",
       "    <tr>\n",
       "      <th>2</th>\n",
       "      <td>58.0</td>\n",
       "      <td>43.0</td>\n",
       "      <td>3576.0</td>\n",
       "      <td>0.0</td>\n",
       "      <td>6715.0</td>\n",
       "      <td>49.0</td>\n",
       "    </tr>\n",
       "    <tr>\n",
       "      <th>3</th>\n",
       "      <td>33.0</td>\n",
       "      <td>0.0</td>\n",
       "      <td>1283.0</td>\n",
       "      <td>371.0</td>\n",
       "      <td>3329.0</td>\n",
       "      <td>193.0</td>\n",
       "    </tr>\n",
       "    <tr>\n",
       "      <th>4</th>\n",
       "      <td>16.0</td>\n",
       "      <td>303.0</td>\n",
       "      <td>70.0</td>\n",
       "      <td>151.0</td>\n",
       "      <td>565.0</td>\n",
       "      <td>2.0</td>\n",
       "    </tr>\n",
       "    <tr>\n",
       "      <th>...</th>\n",
       "      <td>...</td>\n",
       "      <td>...</td>\n",
       "      <td>...</td>\n",
       "      <td>...</td>\n",
       "      <td>...</td>\n",
       "      <td>...</td>\n",
       "    </tr>\n",
       "    <tr>\n",
       "      <th>8688</th>\n",
       "      <td>41.0</td>\n",
       "      <td>0.0</td>\n",
       "      <td>6819.0</td>\n",
       "      <td>0.0</td>\n",
       "      <td>1643.0</td>\n",
       "      <td>74.0</td>\n",
       "    </tr>\n",
       "    <tr>\n",
       "      <th>8689</th>\n",
       "      <td>18.0</td>\n",
       "      <td>0.0</td>\n",
       "      <td>0.0</td>\n",
       "      <td>0.0</td>\n",
       "      <td>0.0</td>\n",
       "      <td>0.0</td>\n",
       "    </tr>\n",
       "    <tr>\n",
       "      <th>8690</th>\n",
       "      <td>26.0</td>\n",
       "      <td>0.0</td>\n",
       "      <td>0.0</td>\n",
       "      <td>1872.0</td>\n",
       "      <td>1.0</td>\n",
       "      <td>0.0</td>\n",
       "    </tr>\n",
       "    <tr>\n",
       "      <th>8691</th>\n",
       "      <td>32.0</td>\n",
       "      <td>0.0</td>\n",
       "      <td>1049.0</td>\n",
       "      <td>0.0</td>\n",
       "      <td>353.0</td>\n",
       "      <td>3235.0</td>\n",
       "    </tr>\n",
       "    <tr>\n",
       "      <th>8692</th>\n",
       "      <td>44.0</td>\n",
       "      <td>126.0</td>\n",
       "      <td>4688.0</td>\n",
       "      <td>0.0</td>\n",
       "      <td>0.0</td>\n",
       "      <td>12.0</td>\n",
       "    </tr>\n",
       "  </tbody>\n",
       "</table>\n",
       "<p>8693 rows × 6 columns</p>\n",
       "</div>"
      ],
      "text/plain": [
       "       Age  RoomService  FoodCourt  ShoppingMall     Spa  VRDeck\n",
       "0     39.0          0.0        0.0           0.0     0.0     0.0\n",
       "1     24.0        109.0        9.0          25.0   549.0    44.0\n",
       "2     58.0         43.0     3576.0           0.0  6715.0    49.0\n",
       "3     33.0          0.0     1283.0         371.0  3329.0   193.0\n",
       "4     16.0        303.0       70.0         151.0   565.0     2.0\n",
       "...    ...          ...        ...           ...     ...     ...\n",
       "8688  41.0          0.0     6819.0           0.0  1643.0    74.0\n",
       "8689  18.0          0.0        0.0           0.0     0.0     0.0\n",
       "8690  26.0          0.0        0.0        1872.0     1.0     0.0\n",
       "8691  32.0          0.0     1049.0           0.0   353.0  3235.0\n",
       "8692  44.0        126.0     4688.0           0.0     0.0    12.0\n",
       "\n",
       "[8693 rows x 6 columns]"
      ]
     },
     "execution_count": 5,
     "metadata": {},
     "output_type": "execute_result"
    }
   ],
   "source": [
    "numdata = train_data._get_numeric_data()\n",
    "numdata.drop(['Transported'], axis=1, inplace=True)\n",
    "\n",
    "features = numdata.columns.to_list()\n",
    "numdata"
   ]
  },
  {
   "cell_type": "code",
   "execution_count": 6,
   "id": "d80dbc53",
   "metadata": {},
   "outputs": [],
   "source": [
    "from sklearn.model_selection import train_test_split\n",
    "\n",
    "X = train_data[features]\n",
    "y = train_data.Transported\n",
    "\n",
    "X_train, X_valid, y_train, y_valid = train_test_split(X, y)"
   ]
  },
  {
   "cell_type": "markdown",
   "id": "c9dfe895",
   "metadata": {},
   "source": [
    "slightly modified code from the kaggle tutorial"
   ]
  },
  {
   "cell_type": "code",
   "execution_count": 7,
   "id": "a076f1b0",
   "metadata": {},
   "outputs": [],
   "source": [
    "from sklearn.ensemble import RandomForestClassifier"
   ]
  },
  {
   "cell_type": "markdown",
   "id": "c870ccd5",
   "metadata": {},
   "source": [
    "(I'm just splitting up a cell here so I can see what is taking so long)"
   ]
  },
  {
   "cell_type": "markdown",
   "id": "3b52cf9f",
   "metadata": {},
   "source": [
    "https://stackoverflow.com/questions/67361786/how-to-measure-random-forest-classifier-accuracy"
   ]
  },
  {
   "cell_type": "code",
   "execution_count": 8,
   "id": "4e6cd920",
   "metadata": {},
   "outputs": [],
   "source": [
    "from sklearn.impute import SimpleImputer\n",
    "from sklearn import metrics"
   ]
  },
  {
   "cell_type": "code",
   "execution_count": 9,
   "id": "d5f5114f",
   "metadata": {
    "scrolled": true
   },
   "outputs": [
    {
     "name": "stdout",
     "output_type": "stream",
     "text": [
      "Accuracy: 0.7874885004599816\n"
     ]
    }
   ],
   "source": [
    "i = SimpleImputer()\n",
    "i_X_train = pd.DataFrame(i.fit_transform(X_train))\n",
    "i_X_valid = pd.DataFrame(i.transform(X_valid))\n",
    "\n",
    "i_X_train.columns = X_train.columns\n",
    "i_X_valid.columns = X_valid.columns\n",
    "\n",
    "model = RandomForestClassifier(random_state=1, n_estimators=100, criterion='entropy')\n",
    "model.fit(i_X_train, y_train)\n",
    "preds = model.predict(i_X_valid)\n",
    "print(\"Accuracy:\", metrics.accuracy_score(y_valid, preds))"
   ]
  },
  {
   "cell_type": "markdown",
   "id": "e01f0bfd",
   "metadata": {},
   "source": [
    "Refitting my model to all of my training data"
   ]
  },
  {
   "cell_type": "code",
   "execution_count": 10,
   "id": "6a7426f5",
   "metadata": {},
   "outputs": [
    {
     "data": {
      "text/plain": [
       "RandomForestClassifier(criterion='entropy', random_state=1)"
      ]
     },
     "execution_count": 10,
     "metadata": {},
     "output_type": "execute_result"
    }
   ],
   "source": [
    "# doing what I did to my data to all my training data\n",
    "i_X = pd.DataFrame(i.transform(X))\n",
    "i_X.columns = X.columns\n",
    "\n",
    "model.fit(i_X, y)"
   ]
  },
  {
   "cell_type": "code",
   "execution_count": 11,
   "id": "a818743d",
   "metadata": {
    "scrolled": true
   },
   "outputs": [],
   "source": [
    "ff = final_data[features]\n",
    "i_X_final = pd.DataFrame(i.transform(ff))\n",
    "i_X_final.columns = final_data[features].columns\n",
    "\n",
    "final_preds = model.predict(i_X_final)"
   ]
  },
  {
   "cell_type": "code",
   "execution_count": 12,
   "id": "2fcd6c44",
   "metadata": {},
   "outputs": [],
   "source": [
    "output = pd.DataFrame({'PassengerId': final_data.PassengerId, 'Transported': final_preds})\n",
    "output.to_csv('submission2.csv', index=False)"
   ]
  }
 ],
 "metadata": {
  "kernelspec": {
   "display_name": "Python 3 (ipykernel)",
   "language": "python",
   "name": "python3"
  },
  "language_info": {
   "codemirror_mode": {
    "name": "ipython",
    "version": 3
   },
   "file_extension": ".py",
   "mimetype": "text/x-python",
   "name": "python",
   "nbconvert_exporter": "python",
   "pygments_lexer": "ipython3",
   "version": "3.9.12"
  }
 },
 "nbformat": 4,
 "nbformat_minor": 5
}
