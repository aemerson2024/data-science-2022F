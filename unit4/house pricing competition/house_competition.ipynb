{
 "cells": [
  {
   "cell_type": "markdown",
   "id": "a64a63e2",
   "metadata": {},
   "source": [
    "# ---- House Pricing Competition ----"
   ]
  },
  {
   "cell_type": "markdown",
   "id": "85a40b8c",
   "metadata": {},
   "source": [
    "### Import and Set Up"
   ]
  },
  {
   "cell_type": "code",
   "execution_count": 1,
   "id": "54699b88",
   "metadata": {
    "scrolled": true
   },
   "outputs": [],
   "source": [
    "import pandas as pd\n",
    "\n",
    "final_data = pd.read_csv('test.csv')\n",
    "train_data = pd.read_csv('train.csv')"
   ]
  },
  {
   "cell_type": "markdown",
   "id": "1f7e9907",
   "metadata": {},
   "source": [
    "### Cleaning the data"
   ]
  },
  {
   "cell_type": "code",
   "execution_count": 2,
   "id": "766aecb8",
   "metadata": {
    "scrolled": true
   },
   "outputs": [
    {
     "name": "stdout",
     "output_type": "stream",
     "text": [
      "<class 'pandas.core.frame.DataFrame'>\n",
      "RangeIndex: 1460 entries, 0 to 1459\n",
      "Data columns (total 81 columns):\n",
      " #   Column         Non-Null Count  Dtype  \n",
      "---  ------         --------------  -----  \n",
      " 0   Id             1460 non-null   int64  \n",
      " 1   MSSubClass     1460 non-null   int64  \n",
      " 2   MSZoning       1460 non-null   object \n",
      " 3   LotFrontage    1201 non-null   float64\n",
      " 4   LotArea        1460 non-null   int64  \n",
      " 5   Street         1460 non-null   object \n",
      " 6   Alley          91 non-null     object \n",
      " 7   LotShape       1460 non-null   object \n",
      " 8   LandContour    1460 non-null   object \n",
      " 9   Utilities      1460 non-null   object \n",
      " 10  LotConfig      1460 non-null   object \n",
      " 11  LandSlope      1460 non-null   object \n",
      " 12  Neighborhood   1460 non-null   object \n",
      " 13  Condition1     1460 non-null   object \n",
      " 14  Condition2     1460 non-null   object \n",
      " 15  BldgType       1460 non-null   object \n",
      " 16  HouseStyle     1460 non-null   object \n",
      " 17  OverallQual    1460 non-null   int64  \n",
      " 18  OverallCond    1460 non-null   int64  \n",
      " 19  YearBuilt      1460 non-null   int64  \n",
      " 20  YearRemodAdd   1460 non-null   int64  \n",
      " 21  RoofStyle      1460 non-null   object \n",
      " 22  RoofMatl       1460 non-null   object \n",
      " 23  Exterior1st    1460 non-null   object \n",
      " 24  Exterior2nd    1460 non-null   object \n",
      " 25  MasVnrType     1452 non-null   object \n",
      " 26  MasVnrArea     1452 non-null   float64\n",
      " 27  ExterQual      1460 non-null   object \n",
      " 28  ExterCond      1460 non-null   object \n",
      " 29  Foundation     1460 non-null   object \n",
      " 30  BsmtQual       1423 non-null   object \n",
      " 31  BsmtCond       1423 non-null   object \n",
      " 32  BsmtExposure   1422 non-null   object \n",
      " 33  BsmtFinType1   1423 non-null   object \n",
      " 34  BsmtFinSF1     1460 non-null   int64  \n",
      " 35  BsmtFinType2   1422 non-null   object \n",
      " 36  BsmtFinSF2     1460 non-null   int64  \n",
      " 37  BsmtUnfSF      1460 non-null   int64  \n",
      " 38  TotalBsmtSF    1460 non-null   int64  \n",
      " 39  Heating        1460 non-null   object \n",
      " 40  HeatingQC      1460 non-null   object \n",
      " 41  CentralAir     1460 non-null   object \n",
      " 42  Electrical     1459 non-null   object \n",
      " 43  1stFlrSF       1460 non-null   int64  \n",
      " 44  2ndFlrSF       1460 non-null   int64  \n",
      " 45  LowQualFinSF   1460 non-null   int64  \n",
      " 46  GrLivArea      1460 non-null   int64  \n",
      " 47  BsmtFullBath   1460 non-null   int64  \n",
      " 48  BsmtHalfBath   1460 non-null   int64  \n",
      " 49  FullBath       1460 non-null   int64  \n",
      " 50  HalfBath       1460 non-null   int64  \n",
      " 51  BedroomAbvGr   1460 non-null   int64  \n",
      " 52  KitchenAbvGr   1460 non-null   int64  \n",
      " 53  KitchenQual    1460 non-null   object \n",
      " 54  TotRmsAbvGrd   1460 non-null   int64  \n",
      " 55  Functional     1460 non-null   object \n",
      " 56  Fireplaces     1460 non-null   int64  \n",
      " 57  FireplaceQu    770 non-null    object \n",
      " 58  GarageType     1379 non-null   object \n",
      " 59  GarageYrBlt    1379 non-null   float64\n",
      " 60  GarageFinish   1379 non-null   object \n",
      " 61  GarageCars     1460 non-null   int64  \n",
      " 62  GarageArea     1460 non-null   int64  \n",
      " 63  GarageQual     1379 non-null   object \n",
      " 64  GarageCond     1379 non-null   object \n",
      " 65  PavedDrive     1460 non-null   object \n",
      " 66  WoodDeckSF     1460 non-null   int64  \n",
      " 67  OpenPorchSF    1460 non-null   int64  \n",
      " 68  EnclosedPorch  1460 non-null   int64  \n",
      " 69  3SsnPorch      1460 non-null   int64  \n",
      " 70  ScreenPorch    1460 non-null   int64  \n",
      " 71  PoolArea       1460 non-null   int64  \n",
      " 72  PoolQC         7 non-null      object \n",
      " 73  Fence          281 non-null    object \n",
      " 74  MiscFeature    54 non-null     object \n",
      " 75  MiscVal        1460 non-null   int64  \n",
      " 76  MoSold         1460 non-null   int64  \n",
      " 77  YrSold         1460 non-null   int64  \n",
      " 78  SaleType       1460 non-null   object \n",
      " 79  SaleCondition  1460 non-null   object \n",
      " 80  SalePrice      1460 non-null   int64  \n",
      "dtypes: float64(3), int64(35), object(43)\n",
      "memory usage: 924.0+ KB\n"
     ]
    }
   ],
   "source": [
    "train_data.info()"
   ]
  },
  {
   "cell_type": "markdown",
   "id": "c9e20ee2",
   "metadata": {},
   "source": [
    "### trying to come up with a way to find every column in which features have"
   ]
  },
  {
   "cell_type": "markdown",
   "id": "e9deeb61",
   "metadata": {},
   "source": [
    "detect and drop all columns with nulls, the saleprice, the id, and everything that is not numeric data"
   ]
  },
  {
   "cell_type": "markdown",
   "id": "d53183a6",
   "metadata": {},
   "source": [
    "https://www.geeksforgeeks.org/merge-two-dataframes-with-same-column-names/"
   ]
  },
  {
   "cell_type": "code",
   "execution_count": 3,
   "id": "10ad6b59",
   "metadata": {},
   "outputs": [
    {
     "name": "stdout",
     "output_type": "stream",
     "text": [
      "<class 'pandas.core.frame.DataFrame'>\n",
      "Int64Index: 2919 entries, 0 to 1458\n",
      "Data columns (total 81 columns):\n",
      " #   Column         Non-Null Count  Dtype  \n",
      "---  ------         --------------  -----  \n",
      " 0   Id             2919 non-null   int64  \n",
      " 1   MSSubClass     2919 non-null   int64  \n",
      " 2   MSZoning       2915 non-null   object \n",
      " 3   LotFrontage    2433 non-null   float64\n",
      " 4   LotArea        2919 non-null   int64  \n",
      " 5   Street         2919 non-null   object \n",
      " 6   Alley          198 non-null    object \n",
      " 7   LotShape       2919 non-null   object \n",
      " 8   LandContour    2919 non-null   object \n",
      " 9   Utilities      2917 non-null   object \n",
      " 10  LotConfig      2919 non-null   object \n",
      " 11  LandSlope      2919 non-null   object \n",
      " 12  Neighborhood   2919 non-null   object \n",
      " 13  Condition1     2919 non-null   object \n",
      " 14  Condition2     2919 non-null   object \n",
      " 15  BldgType       2919 non-null   object \n",
      " 16  HouseStyle     2919 non-null   object \n",
      " 17  OverallQual    2919 non-null   int64  \n",
      " 18  OverallCond    2919 non-null   int64  \n",
      " 19  YearBuilt      2919 non-null   int64  \n",
      " 20  YearRemodAdd   2919 non-null   int64  \n",
      " 21  RoofStyle      2919 non-null   object \n",
      " 22  RoofMatl       2919 non-null   object \n",
      " 23  Exterior1st    2918 non-null   object \n",
      " 24  Exterior2nd    2918 non-null   object \n",
      " 25  MasVnrType     2895 non-null   object \n",
      " 26  MasVnrArea     2896 non-null   float64\n",
      " 27  ExterQual      2919 non-null   object \n",
      " 28  ExterCond      2919 non-null   object \n",
      " 29  Foundation     2919 non-null   object \n",
      " 30  BsmtQual       2838 non-null   object \n",
      " 31  BsmtCond       2837 non-null   object \n",
      " 32  BsmtExposure   2837 non-null   object \n",
      " 33  BsmtFinType1   2840 non-null   object \n",
      " 34  BsmtFinSF1     2918 non-null   float64\n",
      " 35  BsmtFinType2   2839 non-null   object \n",
      " 36  BsmtFinSF2     2918 non-null   float64\n",
      " 37  BsmtUnfSF      2918 non-null   float64\n",
      " 38  TotalBsmtSF    2918 non-null   float64\n",
      " 39  Heating        2919 non-null   object \n",
      " 40  HeatingQC      2919 non-null   object \n",
      " 41  CentralAir     2919 non-null   object \n",
      " 42  Electrical     2918 non-null   object \n",
      " 43  1stFlrSF       2919 non-null   int64  \n",
      " 44  2ndFlrSF       2919 non-null   int64  \n",
      " 45  LowQualFinSF   2919 non-null   int64  \n",
      " 46  GrLivArea      2919 non-null   int64  \n",
      " 47  BsmtFullBath   2917 non-null   float64\n",
      " 48  BsmtHalfBath   2917 non-null   float64\n",
      " 49  FullBath       2919 non-null   int64  \n",
      " 50  HalfBath       2919 non-null   int64  \n",
      " 51  BedroomAbvGr   2919 non-null   int64  \n",
      " 52  KitchenAbvGr   2919 non-null   int64  \n",
      " 53  KitchenQual    2918 non-null   object \n",
      " 54  TotRmsAbvGrd   2919 non-null   int64  \n",
      " 55  Functional     2917 non-null   object \n",
      " 56  Fireplaces     2919 non-null   int64  \n",
      " 57  FireplaceQu    1499 non-null   object \n",
      " 58  GarageType     2762 non-null   object \n",
      " 59  GarageYrBlt    2760 non-null   float64\n",
      " 60  GarageFinish   2760 non-null   object \n",
      " 61  GarageCars     2918 non-null   float64\n",
      " 62  GarageArea     2918 non-null   float64\n",
      " 63  GarageQual     2760 non-null   object \n",
      " 64  GarageCond     2760 non-null   object \n",
      " 65  PavedDrive     2919 non-null   object \n",
      " 66  WoodDeckSF     2919 non-null   int64  \n",
      " 67  OpenPorchSF    2919 non-null   int64  \n",
      " 68  EnclosedPorch  2919 non-null   int64  \n",
      " 69  3SsnPorch      2919 non-null   int64  \n",
      " 70  ScreenPorch    2919 non-null   int64  \n",
      " 71  PoolArea       2919 non-null   int64  \n",
      " 72  PoolQC         10 non-null     object \n",
      " 73  Fence          571 non-null    object \n",
      " 74  MiscFeature    105 non-null    object \n",
      " 75  MiscVal        2919 non-null   int64  \n",
      " 76  MoSold         2919 non-null   int64  \n",
      " 77  YrSold         2919 non-null   int64  \n",
      " 78  SaleType       2918 non-null   object \n",
      " 79  SaleCondition  2919 non-null   object \n",
      " 80  SalePrice      1460 non-null   float64\n",
      "dtypes: float64(12), int64(26), object(43)\n",
      "memory usage: 1.8+ MB\n"
     ]
    }
   ],
   "source": [
    "feature_data = pd.concat([train_data, final_data], axis=0)\n",
    "feature_data.info()"
   ]
  },
  {
   "cell_type": "markdown",
   "id": "421e2173",
   "metadata": {},
   "source": [
    "https://www.digitalocean.com/community/tutorials/pandas-dropna-drop-null-na-values-from-dataframe"
   ]
  },
  {
   "cell_type": "code",
   "execution_count": 4,
   "id": "46067961",
   "metadata": {},
   "outputs": [
    {
     "name": "stdout",
     "output_type": "stream",
     "text": [
      "<class 'pandas.core.frame.DataFrame'>\n",
      "Int64Index: 2919 entries, 0 to 1458\n",
      "Data columns (total 22 columns):\n",
      " #   Column         Non-Null Count  Dtype\n",
      "---  ------         --------------  -----\n",
      " 0   MSSubClass     2919 non-null   int64\n",
      " 1   LotArea        2919 non-null   int64\n",
      " 2   OverallQual    2919 non-null   int64\n",
      " 3   OverallCond    2919 non-null   int64\n",
      " 4   YearBuilt      2919 non-null   int64\n",
      " 5   YearRemodAdd   2919 non-null   int64\n",
      " 6   1stFlrSF       2919 non-null   int64\n",
      " 7   2ndFlrSF       2919 non-null   int64\n",
      " 8   GrLivArea      2919 non-null   int64\n",
      " 9   FullBath       2919 non-null   int64\n",
      " 10  HalfBath       2919 non-null   int64\n",
      " 11  BedroomAbvGr   2919 non-null   int64\n",
      " 12  KitchenAbvGr   2919 non-null   int64\n",
      " 13  TotRmsAbvGrd   2919 non-null   int64\n",
      " 14  Fireplaces     2919 non-null   int64\n",
      " 15  WoodDeckSF     2919 non-null   int64\n",
      " 16  OpenPorchSF    2919 non-null   int64\n",
      " 17  EnclosedPorch  2919 non-null   int64\n",
      " 18  3SsnPorch      2919 non-null   int64\n",
      " 19  ScreenPorch    2919 non-null   int64\n",
      " 20  PoolArea       2919 non-null   int64\n",
      " 21  YrSold         2919 non-null   int64\n",
      "dtypes: int64(22)\n",
      "memory usage: 524.5 KB\n"
     ]
    }
   ],
   "source": [
    "c = feature_data._get_numeric_data()\n",
    "c.dropna(axis=1, how='any', inplace=True)\n",
    "c.drop(['Id', 'MoSold', 'MiscVal', 'LowQualFinSF'], axis=1, inplace=True)\n",
    "c.info()"
   ]
  },
  {
   "cell_type": "code",
   "execution_count": 5,
   "id": "c632b973",
   "metadata": {
    "scrolled": true
   },
   "outputs": [
    {
     "data": {
      "text/plain": [
       "['MSSubClass',\n",
       " 'LotArea',\n",
       " 'OverallQual',\n",
       " 'OverallCond',\n",
       " 'YearBuilt',\n",
       " 'YearRemodAdd',\n",
       " '1stFlrSF',\n",
       " '2ndFlrSF',\n",
       " 'GrLivArea',\n",
       " 'FullBath',\n",
       " 'HalfBath',\n",
       " 'BedroomAbvGr',\n",
       " 'KitchenAbvGr',\n",
       " 'TotRmsAbvGrd',\n",
       " 'Fireplaces',\n",
       " 'WoodDeckSF',\n",
       " 'OpenPorchSF',\n",
       " 'EnclosedPorch',\n",
       " '3SsnPorch',\n",
       " 'ScreenPorch',\n",
       " 'PoolArea',\n",
       " 'YrSold']"
      ]
     },
     "execution_count": 5,
     "metadata": {},
     "output_type": "execute_result"
    }
   ],
   "source": [
    "features = c.columns.to_list()\n",
    "features"
   ]
  },
  {
   "cell_type": "markdown",
   "id": "6a9cd871",
   "metadata": {},
   "source": [
    "### Trying to build a fun little prediction model"
   ]
  },
  {
   "cell_type": "code",
   "execution_count": 6,
   "id": "d132f4d9",
   "metadata": {},
   "outputs": [],
   "source": [
    "from sklearn.ensemble import RandomForestRegressor\n",
    "from sklearn.tree import DecisionTreeRegressor\n",
    "from sklearn.metrics import mean_absolute_error\n",
    "from sklearn.model_selection import train_test_split"
   ]
  },
  {
   "cell_type": "markdown",
   "id": "8ce4ada2",
   "metadata": {},
   "source": [
    "setting my X and y (only for the train data)"
   ]
  },
  {
   "cell_type": "code",
   "execution_count": 7,
   "id": "f199e8c0",
   "metadata": {},
   "outputs": [],
   "source": [
    "X = train_data[features]\n",
    "y = train_data.SalePrice"
   ]
  },
  {
   "cell_type": "markdown",
   "id": "6881d145",
   "metadata": {},
   "source": [
    "splitting my train data into train and validation data"
   ]
  },
  {
   "cell_type": "markdown",
   "id": "c60f8506",
   "metadata": {},
   "source": [
    "https://medium.com/analytics-vidhya/evaluating-a-random-forest-model-9d165595ad56"
   ]
  },
  {
   "cell_type": "code",
   "execution_count": 8,
   "id": "62cf547b",
   "metadata": {},
   "outputs": [
    {
     "data": {
      "text/plain": [
       "258     231500\n",
       "267     179500\n",
       "288     122000\n",
       "649      84500\n",
       "1233    142000\n",
       "         ...  \n",
       "1017    187500\n",
       "534     178000\n",
       "1334    125000\n",
       "1369    232000\n",
       "628     135000\n",
       "Name: SalePrice, Length: 365, dtype: int64"
      ]
     },
     "execution_count": 8,
     "metadata": {},
     "output_type": "execute_result"
    }
   ],
   "source": [
    "Xtrain, Xval, ytrain, yval = train_test_split(X, y, random_state = 1)\n",
    "yval"
   ]
  },
  {
   "cell_type": "markdown",
   "id": "fd700aa4",
   "metadata": {},
   "source": [
    "making my first model"
   ]
  },
  {
   "cell_type": "code",
   "execution_count": 9,
   "id": "c5fe7958",
   "metadata": {},
   "outputs": [],
   "source": [
    "forest_model = RandomForestRegressor(random_state=1)\n",
    "forest_model.fit(Xtrain, ytrain)\n",
    "preds = forest_model.predict(Xval)"
   ]
  },
  {
   "cell_type": "markdown",
   "id": "2e9a68b2",
   "metadata": {},
   "source": [
    "checking how good it is"
   ]
  },
  {
   "cell_type": "code",
   "execution_count": 10,
   "id": "3c90c4af",
   "metadata": {
    "scrolled": true
   },
   "outputs": [
    {
     "name": "stdout",
     "output_type": "stream",
     "text": [
      "[203639.99 172298.32 120559.5   80289.   143655.59]\n",
      "258     231500\n",
      "267     179500\n",
      "288     122000\n",
      "649      84500\n",
      "1233    142000\n",
      "Name: SalePrice, dtype: int64\n"
     ]
    }
   ],
   "source": [
    "print(preds[:5])\n",
    "print(yval.head())"
   ]
  },
  {
   "cell_type": "markdown",
   "id": "c2a027e5",
   "metadata": {},
   "source": [
    "17582.833570776256"
   ]
  },
  {
   "cell_type": "code",
   "execution_count": 11,
   "id": "a53a7549",
   "metadata": {},
   "outputs": [
    {
     "data": {
      "text/plain": [
       "17582.833570776256"
      ]
     },
     "execution_count": 11,
     "metadata": {},
     "output_type": "execute_result"
    }
   ],
   "source": [
    "mean_absolute_error(yval, preds)"
   ]
  },
  {
   "cell_type": "markdown",
   "id": "554fdc03",
   "metadata": {},
   "source": [
    "https://cnvrg.io/random-forest-regression/"
   ]
  },
  {
   "cell_type": "code",
   "execution_count": 12,
   "id": "a2320bb9",
   "metadata": {},
   "outputs": [
    {
     "name": "stdout",
     "output_type": "stream",
     "text": [
      "0.7992608372725778\n"
     ]
    }
   ],
   "source": [
    "random_forest_out_of_bag = RandomForestRegressor(oob_score=True)\n",
    "random_forest_out_of_bag.fit(Xtrain, ytrain)\n",
    "print(random_forest_out_of_bag.oob_score_) "
   ]
  },
  {
   "cell_type": "markdown",
   "id": "8d6fbc80",
   "metadata": {},
   "source": [
    "### Second Try: Tuning Random Forest?"
   ]
  },
  {
   "cell_type": "code",
   "execution_count": 15,
   "id": "9946ab50",
   "metadata": {},
   "outputs": [
    {
     "name": "stdout",
     "output_type": "stream",
     "text": [
      "the depth is: 26 and the mean absolute error is: 17564.642767123285\n",
      "the depth is: 25 and the mean absolute error is: 17578.564840182647\n"
     ]
    }
   ],
   "source": [
    "max_depths = [26, 25]\n",
    "def get_mae(max_depth, Xtrain, Xval, ytrain, yval):\n",
    "    model = RandomForestRegressor(max_depth=max_depth, random_state=1)\n",
    "    model.fit(Xtrain, ytrain)\n",
    "    preds_val = model.predict(Xval)\n",
    "    mae = mean_absolute_error(yval, preds_val)\n",
    "    print(f'the depth is: {d} and the mean absolute error is: {mae}')\n",
    "\n",
    "for d in max_depths:\n",
    "    get_mae(d, Xtrain, Xval, ytrain, yval)"
   ]
  },
  {
   "cell_type": "code",
   "execution_count": 16,
   "id": "a51dc4a5",
   "metadata": {},
   "outputs": [
    {
     "ename": "NameError",
     "evalue": "name 'random_forest' is not defined",
     "output_type": "error",
     "traceback": [
      "\u001b[1;31m---------------------------------------------------------------------------\u001b[0m",
      "\u001b[1;31mNameError\u001b[0m                                 Traceback (most recent call last)",
      "Input \u001b[1;32mIn [16]\u001b[0m, in \u001b[0;36m<cell line: 2>\u001b[1;34m()\u001b[0m\n\u001b[0;32m      1\u001b[0m X_final_data \u001b[38;5;241m=\u001b[39m final_data[features]\n\u001b[1;32m----> 2\u001b[0m final_preds \u001b[38;5;241m=\u001b[39m \u001b[43mrandom_forest\u001b[49m\u001b[38;5;241m.\u001b[39mpredict(X_final_data)\n",
      "\u001b[1;31mNameError\u001b[0m: name 'random_forest' is not defined"
     ]
    }
   ],
   "source": [
    "X_final_data = final_data[features]\n",
    "final_preds = random_forest.predict(X_final_data)"
   ]
  },
  {
   "cell_type": "markdown",
   "id": "85d9eb27",
   "metadata": {},
   "source": [
    "### Attempting Boosting (gradiant and ada)"
   ]
  },
  {
   "cell_type": "markdown",
   "id": "27b6e55d",
   "metadata": {},
   "source": [
    "why would I do this? who knows?"
   ]
  },
  {
   "cell_type": "markdown",
   "id": "ed41e019",
   "metadata": {},
   "source": [
    "https://www.mygreatlearning.com/blog/gradient-boosting/, https://www.analyticsvidhya.com/blog/2021/09/gradient-boosting-algorithm-a-complete-guide-for-beginners/"
   ]
  },
  {
   "cell_type": "code",
   "execution_count": null,
   "id": "90abe684",
   "metadata": {},
   "outputs": [],
   "source": [
    "from sklearn import datasets, ensemble\n",
    "from sklearn.metrics import mean_squared_error"
   ]
  },
  {
   "cell_type": "markdown",
   "id": "754f8292",
   "metadata": {},
   "source": [
    "setting a new X and y test and train data. I don't want it to in any way affect what I have above so I'm using new variables (now with underscores!!!)"
   ]
  },
  {
   "cell_type": "code",
   "execution_count": null,
   "id": "641824f5",
   "metadata": {},
   "outputs": [],
   "source": [
    "X_train, X_test, y_train, y_test = train_test_split(X, y, test_size=0.1, random_state=13)"
   ]
  },
  {
   "cell_type": "markdown",
   "id": "7a3b1470",
   "metadata": {},
   "source": [
    "setting parameters (currently this is directly from the website. Maybe come back to them later?), https://scikit-learn.org/stable/modules/generated/sklearn.ensemble.GradientBoostingRegressor.html (quick fix for some deprecated stuff)"
   ]
  },
  {
   "cell_type": "code",
   "execution_count": null,
   "id": "06cbe542",
   "metadata": {},
   "outputs": [],
   "source": [
    "params = {'n_estimators': 500,\n",
    "          'max_depth': 4,\n",
    "          'min_samples_split': 5,\n",
    "          'learning_rate': 0.01,\n",
    "          'loss': 'absolute_error'}"
   ]
  },
  {
   "cell_type": "markdown",
   "id": "fcc3f825",
   "metadata": {},
   "source": [
    "gradient boosting"
   ]
  },
  {
   "cell_type": "code",
   "execution_count": null,
   "id": "36cfc0cc",
   "metadata": {},
   "outputs": [],
   "source": [
    "grad = ensemble.GradientBoostingRegressor(**params)\n",
    "grad.fit(X_train, y_train)"
   ]
  },
  {
   "cell_type": "markdown",
   "id": "47b287c0",
   "metadata": {},
   "source": [
    "adaboost"
   ]
  },
  {
   "cell_type": "code",
   "execution_count": null,
   "id": "7f0d3328",
   "metadata": {},
   "outputs": [],
   "source": [
    "ada=ensemble.AdaBoostRegressor()\n",
    "ada.fit(X_train, y_train)"
   ]
  },
  {
   "cell_type": "markdown",
   "id": "abd1e593",
   "metadata": {},
   "source": [
    "this is mean squared error? not exactly sure what that means, so I'll look it up later."
   ]
  },
  {
   "cell_type": "code",
   "execution_count": null,
   "id": "ea4833da",
   "metadata": {},
   "outputs": [],
   "source": [
    "gradmse = mean_squared_error(y_test, grad.predict(X_test))\n",
    "print(gradmse)\n",
    "\n",
    "adamse = mean_squared_error(y_test, ada.predict(X_test))\n",
    "# print(\"The mean squared error (MSE) on test set for adaboost : {:.4f}\".format(adamse))"
   ]
  },
  {
   "cell_type": "markdown",
   "id": "31829d4a",
   "metadata": {},
   "source": [
    "a more familiar mean absolute error for both"
   ]
  },
  {
   "cell_type": "code",
   "execution_count": null,
   "id": "df7ebfc2",
   "metadata": {},
   "outputs": [],
   "source": [
    "gradmae = mean_absolute_error(y_test, grad.predict(X_test))\n",
    "print(gradmae)\n",
    "\n",
    "adamae = mean_absolute_error(y_test, ada.predict(X_test))\n",
    "print(adamae)"
   ]
  },
  {
   "cell_type": "markdown",
   "id": "d025d434",
   "metadata": {},
   "source": [
    "##### doing some tuning and some checking"
   ]
  },
  {
   "cell_type": "code",
   "execution_count": null,
   "id": "8f918b1b",
   "metadata": {},
   "outputs": [],
   "source": [
    "from sklearn.metrics import accuracy_score, confusion_matrix"
   ]
  },
  {
   "cell_type": "code",
   "execution_count": 86,
   "id": "2ac06c58",
   "metadata": {},
   "outputs": [],
   "source": [
    "# print(\"GBC accuracy is %2.2f\" % accuracy_score(y_test, grad.predict(X_test)))"
   ]
  },
  {
   "cell_type": "markdown",
   "id": "39779d8a",
   "metadata": {},
   "source": [
    "### Outputting my CSV"
   ]
  },
  {
   "cell_type": "code",
   "execution_count": 56,
   "id": "7557d902",
   "metadata": {},
   "outputs": [],
   "source": [
    "output = pd.DataFrame({'ID': final_data.Id, 'SalePrice': final_preds})\n",
    "output.to_csv('submission1.csv', index=False)"
   ]
  }
 ],
 "metadata": {
  "kernelspec": {
   "display_name": "Python 3 (ipykernel)",
   "language": "python",
   "name": "python3"
  },
  "language_info": {
   "codemirror_mode": {
    "name": "ipython",
    "version": 3
   },
   "file_extension": ".py",
   "mimetype": "text/x-python",
   "name": "python",
   "nbconvert_exporter": "python",
   "pygments_lexer": "ipython3",
   "version": "3.9.12"
  }
 },
 "nbformat": 4,
 "nbformat_minor": 5
}
