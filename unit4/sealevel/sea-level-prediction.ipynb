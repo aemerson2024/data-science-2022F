{
 "cells": [
  {
   "cell_type": "code",
   "execution_count": 13,
   "id": "5706d81d",
   "metadata": {},
   "outputs": [],
   "source": [
    "import pandas as pd\n",
    "import seaborn as sns\n",
    "import matplotlib.pyplot as plt\n",
    "from sklearn.linear_model import LinearRegression\n",
    "\n",
    "sealevels = pd.read_csv('epa-sea-level.csv')\n",
    "sealevels.drop(['Lower Error Bound', 'Upper Error Bound', 'NOAA Adjusted Sea Level'], axis='columns', inplace=True)\n",
    "sealevels.rename({'CSIRO Adjusted Sea Level': 'sea-level'}, axis='columns', inplace=True)"
   ]
  },
  {
   "cell_type": "code",
   "execution_count": 14,
   "id": "523bdd2c",
   "metadata": {},
   "outputs": [
    {
     "data": {
      "text/html": [
       "<div>\n",
       "<style scoped>\n",
       "    .dataframe tbody tr th:only-of-type {\n",
       "        vertical-align: middle;\n",
       "    }\n",
       "\n",
       "    .dataframe tbody tr th {\n",
       "        vertical-align: top;\n",
       "    }\n",
       "\n",
       "    .dataframe thead th {\n",
       "        text-align: right;\n",
       "    }\n",
       "</style>\n",
       "<table border=\"1\" class=\"dataframe\">\n",
       "  <thead>\n",
       "    <tr style=\"text-align: right;\">\n",
       "      <th></th>\n",
       "      <th>Year</th>\n",
       "      <th>sea-level</th>\n",
       "    </tr>\n",
       "  </thead>\n",
       "  <tbody>\n",
       "    <tr>\n",
       "      <th>0</th>\n",
       "      <td>1880</td>\n",
       "      <td>0.000000</td>\n",
       "    </tr>\n",
       "    <tr>\n",
       "      <th>1</th>\n",
       "      <td>1881</td>\n",
       "      <td>0.220472</td>\n",
       "    </tr>\n",
       "    <tr>\n",
       "      <th>2</th>\n",
       "      <td>1882</td>\n",
       "      <td>-0.440945</td>\n",
       "    </tr>\n",
       "    <tr>\n",
       "      <th>3</th>\n",
       "      <td>1883</td>\n",
       "      <td>-0.232283</td>\n",
       "    </tr>\n",
       "    <tr>\n",
       "      <th>4</th>\n",
       "      <td>1884</td>\n",
       "      <td>0.590551</td>\n",
       "    </tr>\n",
       "    <tr>\n",
       "      <th>...</th>\n",
       "      <td>...</td>\n",
       "      <td>...</td>\n",
       "    </tr>\n",
       "    <tr>\n",
       "      <th>129</th>\n",
       "      <td>2009</td>\n",
       "      <td>8.586614</td>\n",
       "    </tr>\n",
       "    <tr>\n",
       "      <th>130</th>\n",
       "      <td>2010</td>\n",
       "      <td>8.901575</td>\n",
       "    </tr>\n",
       "    <tr>\n",
       "      <th>131</th>\n",
       "      <td>2011</td>\n",
       "      <td>8.964567</td>\n",
       "    </tr>\n",
       "    <tr>\n",
       "      <th>132</th>\n",
       "      <td>2012</td>\n",
       "      <td>9.326772</td>\n",
       "    </tr>\n",
       "    <tr>\n",
       "      <th>133</th>\n",
       "      <td>2013</td>\n",
       "      <td>8.980315</td>\n",
       "    </tr>\n",
       "  </tbody>\n",
       "</table>\n",
       "<p>134 rows × 2 columns</p>\n",
       "</div>"
      ],
      "text/plain": [
       "     Year  sea-level\n",
       "0    1880   0.000000\n",
       "1    1881   0.220472\n",
       "2    1882  -0.440945\n",
       "3    1883  -0.232283\n",
       "4    1884   0.590551\n",
       "..    ...        ...\n",
       "129  2009   8.586614\n",
       "130  2010   8.901575\n",
       "131  2011   8.964567\n",
       "132  2012   9.326772\n",
       "133  2013   8.980315\n",
       "\n",
       "[134 rows x 2 columns]"
      ]
     },
     "execution_count": 14,
     "metadata": {},
     "output_type": "execute_result"
    }
   ],
   "source": [
    "sealevels"
   ]
  },
  {
   "cell_type": "code",
   "execution_count": 16,
   "id": "e3a5049b",
   "metadata": {},
   "outputs": [
    {
     "data": {
      "text/plain": [
       "<AxesSubplot:xlabel='Year', ylabel='sea-level'>"
      ]
     },
     "execution_count": 16,
     "metadata": {},
     "output_type": "execute_result"
    },
    {
     "data": {
      "image/png": "[encoded data removed]",
      "text/plain": [
       "<Figure size 432x288 with 1 Axes>"
      ]
     },
     "metadata": {
      "needs_background": "light"
     },
     "output_type": "display_data"
    }
   ],
   "source": [
    "sns.regplot(data=sealevels, x='Year', y='sea-level')"
   ]
  },
  {
   "cell_type": "code",
   "execution_count": 17,
   "id": "bf48a435",
   "metadata": {},
   "outputs": [
    {
     "data": {
      "text/plain": [
       "0.9697466074149553"
      ]
     },
     "execution_count": 17,
     "metadata": {},
     "output_type": "execute_result"
    }
   ],
   "source": [
    "X = sealevels.Year.values.reshape(-1,1)\n",
    "y = sealevels['sea-level'].values.reshape(-1,1)\n",
    "\n",
    "model = LinearRegression().fit(X,y)\n",
    "\n",
    "model.score(X,y)"
   ]
  },
  {
   "cell_type": "code",
   "execution_count": 28,
   "id": "93c2af1a",
   "metadata": {},
   "outputs": [
    {
     "data": {
      "text/plain": [
       "11.436346937379255"
      ]
     },
     "execution_count": 28,
     "metadata": {},
     "output_type": "execute_result"
    }
   ],
   "source": [
    "y2070 = model.predict([[2070]])\n",
    "y2070[0][0]"
   ]
  },
  {
   "cell_type": "code",
   "execution_count": 21,
   "id": "ff345e09",
   "metadata": {},
   "outputs": [
    {
     "data": {
      "text/plain": [
       "133    8.980315\n",
       "Name: sea-level, dtype: float64"
      ]
     },
     "execution_count": 21,
     "metadata": {},
     "output_type": "execute_result"
    }
   ],
   "source": [
    "sealevels.loc[sealevels['Year'] == 2013, ('sea-level')]"
   ]
  },
  {
   "cell_type": "code",
   "execution_count": 27,
   "id": "73286b5a",
   "metadata": {},
   "outputs": [
    {
     "data": {
      "text/plain": [
       "133    4.34737\n",
       "Name: sea-level, dtype: float64"
      ]
     },
     "execution_count": 27,
     "metadata": {},
     "output_type": "execute_result"
    }
   ],
   "source": [
    "rise_2070 = (model.predict([[2070]])[0][0]) - sealevels.loc[sealevels['Year'] == 2013, ('sea-level')]\n",
    "rise_2100 = (model.predict([[2100]])[0][0]) - sealevels.loc[sealevels['Year'] == 2013, ('sea-level')]\n",
    "rise_2100"
   ]
  },
  {
   "cell_type": "code",
   "execution_count": null,
   "id": "ff80d425",
   "metadata": {},
   "outputs": [],
   "source": []
  }
 ],
 "metadata": {
  "kernelspec": {
   "display_name": "Python 3 (ipykernel)",
   "language": "python",
   "name": "python3"
  },
  "language_info": {
   "codemirror_mode": {
    "name": "ipython",
    "version": 3
   },
   "file_extension": ".py",
   "mimetype": "text/x-python",
   "name": "python",
   "nbconvert_exporter": "python",
   "pygments_lexer": "ipython3",
   "version": "3.9.12"
  }
 },
 "nbformat": 4,
 "nbformat_minor": 5
}
