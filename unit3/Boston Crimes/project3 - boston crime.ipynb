{
 "cells": [
  {
   "cell_type": "markdown",
   "id": "fb7e7ea4",
   "metadata": {},
   "source": [
    "# Project Three --- Boston Crime"
   ]
  },
  {
   "cell_type": "code",
   "execution_count": null,
   "id": "cfa9e0cb",
   "metadata": {},
   "outputs": [],
   "source": [
    "import pandas as pd\n",
    "import matplotlib.pyplot as plt\n",
    "import seaborn as sns\n",
    "\n",
    "crimes = pd.read_csv('crime.csv', index_col=\"INCIDENT_NUMBER\")\n",
    "pd.set_option('display.max_rows', None)\n",
    "pd.set_option('display.max_columns', None)\n",
    "pd.set_option('display.width', None)\n",
    "pd.set_option('display.max_colwidth', None)\n",
    "crimes"
   ]
  },
  {
   "cell_type": "code",
   "execution_count": 7,
   "id": "7ff693a2",
   "metadata": {},
   "outputs": [
    {
     "data": {
      "application/vnd.jupyter.widget-view+json": {
       "model_id": "e852d5db79fe4cdd852e0746d6e074ff",
       "version_major": 2,
       "version_minor": 0
      },
      "text/plain": [
       "Summarize dataset:   0%|          | 0/5 [00:00<?, ?it/s]"
      ]
     },
     "metadata": {},
     "output_type": "display_data"
    },
    {
     "name": "stderr",
     "output_type": "stream",
     "text": [
      "C:\\ProgramData\\Anaconda3\\lib\\site-packages\\scipy\\stats\\stats.py:4812: RuntimeWarning: overflow encountered in longlong_scalars\n",
      "  (2 * xtie * ytie) / m + x0 * y0 / (9 * m * (size - 2)))\n"
     ]
    },
    {
     "data": {
      "application/vnd.jupyter.widget-view+json": {
       "model_id": "dc0eb8bec0b1408faf450943dfca01dc",
       "version_major": 2,
       "version_minor": 0
      },
      "text/plain": [
       "Generate report structure:   0%|          | 0/1 [00:00<?, ?it/s]"
      ]
     },
     "metadata": {},
     "output_type": "display_data"
    },
    {
     "data": {
      "application/vnd.jupyter.widget-view+json": {
       "model_id": "fd596f6d01744abf90ea7a50b796f61a",
       "version_major": 2,
       "version_minor": 0
      },
      "text/plain": [
       "Render HTML:   0%|          | 0/1 [00:00<?, ?it/s]"
      ]
     },
     "metadata": {},
     "output_type": "display_data"
    },
    {
     "data": {
      "application/vnd.jupyter.widget-view+json": {
       "model_id": "174aac579f8b4a3a9bc3ab89d0c499a0",
       "version_major": 2,
       "version_minor": 0
      },
      "text/plain": [
       "Export report to file:   0%|          | 0/1 [00:00<?, ?it/s]"
      ]
     },
     "metadata": {},
     "output_type": "display_data"
    }
   ],
   "source": [
    "import pandas_profiling\n",
    "profile = crimes.profile_report(title='Boston Crimes Profiling')\n",
    "profile.to_file(output_file='boston-crimes-profiling.html')"
   ]
  },
  {
   "cell_type": "markdown",
   "id": "54943e1c",
   "metadata": {},
   "source": [
    "### Cleaning the Data"
   ]
  },
  {
   "cell_type": "code",
   "execution_count": 15,
   "id": "dd686fba",
   "metadata": {},
   "outputs": [
    {
     "data": {
      "text/plain": [
       "INCIDENT_NUMBER\n",
       "I182070945      2018-09-02 13:00:00\n",
       "I182070943      2018-08-21 00:00:00\n",
       "I182070941      2018-09-03 19:27:00\n",
       "I182070940      2018-09-03 21:16:00\n",
       "I182070938      2018-09-03 21:05:00\n",
       "                        ...        \n",
       "I050310906-00   2016-06-05 17:25:00\n",
       "I030217815-08   2015-07-09 13:38:00\n",
       "I030217815-08   2015-07-09 13:38:00\n",
       "I010370257-00   2016-05-31 19:35:00\n",
       "142052550       2015-06-22 00:12:00\n",
       "Name: OCCURRED_ON_DATE, Length: 319073, dtype: datetime64[ns]"
      ]
     },
     "execution_count": 15,
     "metadata": {},
     "output_type": "execute_result"
    }
   ],
   "source": [
    "pd.to_datetime(crimes[\"OCCURRED_ON_DATE\"])"
   ]
  },
  {
   "cell_type": "markdown",
   "id": "b93d40a0",
   "metadata": {},
   "source": [
    "https://pandas.pydata.org/docs/reference/api/pandas.DataFrame.bool.html"
   ]
  },
  {
   "cell_type": "markdown",
   "id": "24b614da",
   "metadata": {},
   "source": [
    "### Basic Questions"
   ]
  },
  {
   "cell_type": "code",
   "execution_count": null,
   "id": "36872187",
   "metadata": {},
   "outputs": [],
   "source": []
  },
  {
   "cell_type": "markdown",
   "id": "f9b40a8f",
   "metadata": {},
   "source": [
    "### Questions"
   ]
  },
  {
   "cell_type": "code",
   "execution_count": null,
   "id": "2d4b318a",
   "metadata": {},
   "outputs": [],
   "source": []
  },
  {
   "cell_type": "markdown",
   "id": "78699bd2",
   "metadata": {},
   "source": [
    "### My Questions"
   ]
  },
  {
   "cell_type": "code",
   "execution_count": null,
   "id": "b65ce935",
   "metadata": {},
   "outputs": [],
   "source": []
  }
 ],
 "metadata": {
  "kernelspec": {
   "display_name": "Python 3 (ipykernel)",
   "language": "python",
   "name": "python3"
  },
  "language_info": {
   "codemirror_mode": {
    "name": "ipython",
    "version": 3
   },
   "file_extension": ".py",
   "mimetype": "text/x-python",
   "name": "python",
   "nbconvert_exporter": "python",
   "pygments_lexer": "ipython3",
   "version": "3.9.12"
  }
 },
 "nbformat": 4,
 "nbformat_minor": 5
}
