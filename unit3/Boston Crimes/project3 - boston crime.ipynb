{
 "cells": [
  {
   "cell_type": "markdown",
   "id": "fb7e7ea4",
   "metadata": {},
   "source": [
    "# Project Three --- Boston Crime"
   ]
  },
  {
   "cell_type": "code",
   "execution_count": 30,
   "id": "cfa9e0cb",
   "metadata": {
    "scrolled": true
   },
   "outputs": [
    {
     "data": {
      "text/html": [
       "<div>\n",
       "<style scoped>\n",
       "    .dataframe tbody tr th:only-of-type {\n",
       "        vertical-align: middle;\n",
       "    }\n",
       "\n",
       "    .dataframe tbody tr th {\n",
       "        vertical-align: top;\n",
       "    }\n",
       "\n",
       "    .dataframe thead th {\n",
       "        text-align: right;\n",
       "    }\n",
       "</style>\n",
       "<table border=\"1\" class=\"dataframe\">\n",
       "  <thead>\n",
       "    <tr style=\"text-align: right;\">\n",
       "      <th></th>\n",
       "      <th>INCIDENT_NUMBER</th>\n",
       "      <th>OFFENSE_CODE</th>\n",
       "      <th>OFFENSE_CODE_GROUP</th>\n",
       "      <th>OFFENSE_DESCRIPTION</th>\n",
       "      <th>DISTRICT</th>\n",
       "      <th>REPORTING_AREA</th>\n",
       "      <th>SHOOTING</th>\n",
       "      <th>OCCURRED_ON_DATE</th>\n",
       "      <th>YEAR</th>\n",
       "      <th>MONTH</th>\n",
       "      <th>DAY_OF_WEEK</th>\n",
       "      <th>HOUR</th>\n",
       "      <th>UCR_PART</th>\n",
       "      <th>STREET</th>\n",
       "      <th>Lat</th>\n",
       "      <th>Long</th>\n",
       "      <th>Location</th>\n",
       "    </tr>\n",
       "  </thead>\n",
       "  <tbody>\n",
       "    <tr>\n",
       "      <th>0</th>\n",
       "      <td>I182070945</td>\n",
       "      <td>619</td>\n",
       "      <td>Larceny</td>\n",
       "      <td>LARCENY ALL OTHERS</td>\n",
       "      <td>D14</td>\n",
       "      <td>808.0</td>\n",
       "      <td>NaN</td>\n",
       "      <td>2018-09-02 13:00:00</td>\n",
       "      <td>2018</td>\n",
       "      <td>9</td>\n",
       "      <td>Sunday</td>\n",
       "      <td>13</td>\n",
       "      <td>Part One</td>\n",
       "      <td>LINCOLN ST</td>\n",
       "      <td>42.357791</td>\n",
       "      <td>-71.139371</td>\n",
       "      <td>(42.35779134, -71.13937053)</td>\n",
       "    </tr>\n",
       "    <tr>\n",
       "      <th>1</th>\n",
       "      <td>I182070943</td>\n",
       "      <td>1402</td>\n",
       "      <td>Vandalism</td>\n",
       "      <td>VANDALISM</td>\n",
       "      <td>C11</td>\n",
       "      <td>347.0</td>\n",
       "      <td>NaN</td>\n",
       "      <td>2018-08-21 0:00:00</td>\n",
       "      <td>2018</td>\n",
       "      <td>8</td>\n",
       "      <td>Tuesday</td>\n",
       "      <td>0</td>\n",
       "      <td>Part Two</td>\n",
       "      <td>HECLA ST</td>\n",
       "      <td>42.306821</td>\n",
       "      <td>-71.060300</td>\n",
       "      <td>(42.30682138, -71.06030035)</td>\n",
       "    </tr>\n",
       "    <tr>\n",
       "      <th>2</th>\n",
       "      <td>I182070941</td>\n",
       "      <td>3410</td>\n",
       "      <td>Towed</td>\n",
       "      <td>TOWED MOTOR VEHICLE</td>\n",
       "      <td>D4</td>\n",
       "      <td>151.0</td>\n",
       "      <td>NaN</td>\n",
       "      <td>2018-09-03 19:27:00</td>\n",
       "      <td>2018</td>\n",
       "      <td>9</td>\n",
       "      <td>Monday</td>\n",
       "      <td>19</td>\n",
       "      <td>Part Three</td>\n",
       "      <td>CAZENOVE ST</td>\n",
       "      <td>42.346589</td>\n",
       "      <td>-71.072429</td>\n",
       "      <td>(42.34658879, -71.07242943)</td>\n",
       "    </tr>\n",
       "    <tr>\n",
       "      <th>3</th>\n",
       "      <td>I182070940</td>\n",
       "      <td>3114</td>\n",
       "      <td>Investigate Property</td>\n",
       "      <td>INVESTIGATE PROPERTY</td>\n",
       "      <td>D4</td>\n",
       "      <td>272.0</td>\n",
       "      <td>NaN</td>\n",
       "      <td>2018-09-03 21:16:00</td>\n",
       "      <td>2018</td>\n",
       "      <td>9</td>\n",
       "      <td>Monday</td>\n",
       "      <td>21</td>\n",
       "      <td>Part Three</td>\n",
       "      <td>NEWCOMB ST</td>\n",
       "      <td>42.334182</td>\n",
       "      <td>-71.078664</td>\n",
       "      <td>(42.33418175, -71.07866441)</td>\n",
       "    </tr>\n",
       "    <tr>\n",
       "      <th>4</th>\n",
       "      <td>I182070938</td>\n",
       "      <td>3114</td>\n",
       "      <td>Investigate Property</td>\n",
       "      <td>INVESTIGATE PROPERTY</td>\n",
       "      <td>B3</td>\n",
       "      <td>421.0</td>\n",
       "      <td>NaN</td>\n",
       "      <td>2018-09-03 21:05:00</td>\n",
       "      <td>2018</td>\n",
       "      <td>9</td>\n",
       "      <td>Monday</td>\n",
       "      <td>21</td>\n",
       "      <td>Part Three</td>\n",
       "      <td>DELHI ST</td>\n",
       "      <td>42.275365</td>\n",
       "      <td>-71.090361</td>\n",
       "      <td>(42.27536542, -71.09036101)</td>\n",
       "    </tr>\n",
       "    <tr>\n",
       "      <th>...</th>\n",
       "      <td>...</td>\n",
       "      <td>...</td>\n",
       "      <td>...</td>\n",
       "      <td>...</td>\n",
       "      <td>...</td>\n",
       "      <td>...</td>\n",
       "      <td>...</td>\n",
       "      <td>...</td>\n",
       "      <td>...</td>\n",
       "      <td>...</td>\n",
       "      <td>...</td>\n",
       "      <td>...</td>\n",
       "      <td>...</td>\n",
       "      <td>...</td>\n",
       "      <td>...</td>\n",
       "      <td>...</td>\n",
       "      <td>...</td>\n",
       "    </tr>\n",
       "    <tr>\n",
       "      <th>319068</th>\n",
       "      <td>I050310906-00</td>\n",
       "      <td>3125</td>\n",
       "      <td>Warrant Arrests</td>\n",
       "      <td>WARRANT ARREST</td>\n",
       "      <td>D4</td>\n",
       "      <td>285.0</td>\n",
       "      <td>NaN</td>\n",
       "      <td>2016-06-05 17:25:00</td>\n",
       "      <td>2016</td>\n",
       "      <td>6</td>\n",
       "      <td>Sunday</td>\n",
       "      <td>17</td>\n",
       "      <td>Part Three</td>\n",
       "      <td>COVENTRY ST</td>\n",
       "      <td>42.336951</td>\n",
       "      <td>-71.085748</td>\n",
       "      <td>(42.33695098, -71.08574813)</td>\n",
       "    </tr>\n",
       "    <tr>\n",
       "      <th>319069</th>\n",
       "      <td>I030217815-08</td>\n",
       "      <td>111</td>\n",
       "      <td>Homicide</td>\n",
       "      <td>MURDER, NON-NEGLIGIENT MANSLAUGHTER</td>\n",
       "      <td>E18</td>\n",
       "      <td>520.0</td>\n",
       "      <td>NaN</td>\n",
       "      <td>2015-07-09 13:38:00</td>\n",
       "      <td>2015</td>\n",
       "      <td>7</td>\n",
       "      <td>Thursday</td>\n",
       "      <td>13</td>\n",
       "      <td>Part One</td>\n",
       "      <td>RIVER ST</td>\n",
       "      <td>42.255926</td>\n",
       "      <td>-71.123172</td>\n",
       "      <td>(42.25592648, -71.12317207)</td>\n",
       "    </tr>\n",
       "    <tr>\n",
       "      <th>319070</th>\n",
       "      <td>I030217815-08</td>\n",
       "      <td>3125</td>\n",
       "      <td>Warrant Arrests</td>\n",
       "      <td>WARRANT ARREST</td>\n",
       "      <td>E18</td>\n",
       "      <td>520.0</td>\n",
       "      <td>NaN</td>\n",
       "      <td>2015-07-09 13:38:00</td>\n",
       "      <td>2015</td>\n",
       "      <td>7</td>\n",
       "      <td>Thursday</td>\n",
       "      <td>13</td>\n",
       "      <td>Part Three</td>\n",
       "      <td>RIVER ST</td>\n",
       "      <td>42.255926</td>\n",
       "      <td>-71.123172</td>\n",
       "      <td>(42.25592648, -71.12317207)</td>\n",
       "    </tr>\n",
       "    <tr>\n",
       "      <th>319071</th>\n",
       "      <td>I010370257-00</td>\n",
       "      <td>3125</td>\n",
       "      <td>Warrant Arrests</td>\n",
       "      <td>WARRANT ARREST</td>\n",
       "      <td>E13</td>\n",
       "      <td>569.0</td>\n",
       "      <td>NaN</td>\n",
       "      <td>2016-05-31 19:35:00</td>\n",
       "      <td>2016</td>\n",
       "      <td>5</td>\n",
       "      <td>Tuesday</td>\n",
       "      <td>19</td>\n",
       "      <td>Part Three</td>\n",
       "      <td>NEW WASHINGTON ST</td>\n",
       "      <td>42.302333</td>\n",
       "      <td>-71.111565</td>\n",
       "      <td>(42.30233307, -71.11156487)</td>\n",
       "    </tr>\n",
       "    <tr>\n",
       "      <th>319072</th>\n",
       "      <td>142052550</td>\n",
       "      <td>3125</td>\n",
       "      <td>Warrant Arrests</td>\n",
       "      <td>WARRANT ARREST</td>\n",
       "      <td>D4</td>\n",
       "      <td>903.0</td>\n",
       "      <td>NaN</td>\n",
       "      <td>2015-06-22 0:12:00</td>\n",
       "      <td>2015</td>\n",
       "      <td>6</td>\n",
       "      <td>Monday</td>\n",
       "      <td>0</td>\n",
       "      <td>Part Three</td>\n",
       "      <td>WASHINGTON ST</td>\n",
       "      <td>42.333839</td>\n",
       "      <td>-71.080290</td>\n",
       "      <td>(42.33383935, -71.08029038)</td>\n",
       "    </tr>\n",
       "  </tbody>\n",
       "</table>\n",
       "<p>319073 rows × 17 columns</p>\n",
       "</div>"
      ],
      "text/plain": [
       "       INCIDENT_NUMBER  OFFENSE_CODE    OFFENSE_CODE_GROUP  \\\n",
       "0           I182070945           619               Larceny   \n",
       "1           I182070943          1402             Vandalism   \n",
       "2           I182070941          3410                 Towed   \n",
       "3           I182070940          3114  Investigate Property   \n",
       "4           I182070938          3114  Investigate Property   \n",
       "...                ...           ...                   ...   \n",
       "319068   I050310906-00          3125       Warrant Arrests   \n",
       "319069   I030217815-08           111              Homicide   \n",
       "319070   I030217815-08          3125       Warrant Arrests   \n",
       "319071   I010370257-00          3125       Warrant Arrests   \n",
       "319072       142052550          3125       Warrant Arrests   \n",
       "\n",
       "                        OFFENSE_DESCRIPTION DISTRICT  REPORTING_AREA SHOOTING  \\\n",
       "0                        LARCENY ALL OTHERS      D14           808.0      NaN   \n",
       "1                                 VANDALISM      C11           347.0      NaN   \n",
       "2                       TOWED MOTOR VEHICLE       D4           151.0      NaN   \n",
       "3                      INVESTIGATE PROPERTY       D4           272.0      NaN   \n",
       "4                      INVESTIGATE PROPERTY       B3           421.0      NaN   \n",
       "...                                     ...      ...             ...      ...   \n",
       "319068                       WARRANT ARREST       D4           285.0      NaN   \n",
       "319069  MURDER, NON-NEGLIGIENT MANSLAUGHTER      E18           520.0      NaN   \n",
       "319070                       WARRANT ARREST      E18           520.0      NaN   \n",
       "319071                       WARRANT ARREST      E13           569.0      NaN   \n",
       "319072                       WARRANT ARREST       D4           903.0      NaN   \n",
       "\n",
       "           OCCURRED_ON_DATE  YEAR  MONTH DAY_OF_WEEK  HOUR    UCR_PART  \\\n",
       "0       2018-09-02 13:00:00  2018      9      Sunday    13    Part One   \n",
       "1        2018-08-21 0:00:00  2018      8     Tuesday     0    Part Two   \n",
       "2       2018-09-03 19:27:00  2018      9      Monday    19  Part Three   \n",
       "3       2018-09-03 21:16:00  2018      9      Monday    21  Part Three   \n",
       "4       2018-09-03 21:05:00  2018      9      Monday    21  Part Three   \n",
       "...                     ...   ...    ...         ...   ...         ...   \n",
       "319068  2016-06-05 17:25:00  2016      6      Sunday    17  Part Three   \n",
       "319069  2015-07-09 13:38:00  2015      7    Thursday    13    Part One   \n",
       "319070  2015-07-09 13:38:00  2015      7    Thursday    13  Part Three   \n",
       "319071  2016-05-31 19:35:00  2016      5     Tuesday    19  Part Three   \n",
       "319072   2015-06-22 0:12:00  2015      6      Monday     0  Part Three   \n",
       "\n",
       "                   STREET        Lat       Long                     Location  \n",
       "0              LINCOLN ST  42.357791 -71.139371  (42.35779134, -71.13937053)  \n",
       "1                HECLA ST  42.306821 -71.060300  (42.30682138, -71.06030035)  \n",
       "2             CAZENOVE ST  42.346589 -71.072429  (42.34658879, -71.07242943)  \n",
       "3              NEWCOMB ST  42.334182 -71.078664  (42.33418175, -71.07866441)  \n",
       "4                DELHI ST  42.275365 -71.090361  (42.27536542, -71.09036101)  \n",
       "...                   ...        ...        ...                          ...  \n",
       "319068        COVENTRY ST  42.336951 -71.085748  (42.33695098, -71.08574813)  \n",
       "319069           RIVER ST  42.255926 -71.123172  (42.25592648, -71.12317207)  \n",
       "319070           RIVER ST  42.255926 -71.123172  (42.25592648, -71.12317207)  \n",
       "319071  NEW WASHINGTON ST  42.302333 -71.111565  (42.30233307, -71.11156487)  \n",
       "319072      WASHINGTON ST  42.333839 -71.080290  (42.33383935, -71.08029038)  \n",
       "\n",
       "[319073 rows x 17 columns]"
      ]
     },
     "execution_count": 30,
     "metadata": {},
     "output_type": "execute_result"
    }
   ],
   "source": [
    "import pandas as pd\n",
    "import matplotlib.pyplot as plt\n",
    "import seaborn as sns\n",
    "\n",
    "crimes = pd.read_csv('crime.csv')\n",
    "crimes"
   ]
  },
  {
   "cell_type": "code",
   "execution_count": 7,
   "id": "7ff693a2",
   "metadata": {
    "scrolled": true
   },
   "outputs": [
    {
     "data": {
      "application/vnd.jupyter.widget-view+json": {
       "model_id": "e852d5db79fe4cdd852e0746d6e074ff",
       "version_major": 2,
       "version_minor": 0
      },
      "text/plain": [
       "Summarize dataset:   0%|          | 0/5 [00:00<?, ?it/s]"
      ]
     },
     "metadata": {},
     "output_type": "display_data"
    },
    {
     "name": "stderr",
     "output_type": "stream",
     "text": [
      "C:\\ProgramData\\Anaconda3\\lib\\site-packages\\scipy\\stats\\stats.py:4812: RuntimeWarning: overflow encountered in longlong_scalars\n",
      "  (2 * xtie * ytie) / m + x0 * y0 / (9 * m * (size - 2)))\n"
     ]
    },
    {
     "data": {
      "application/vnd.jupyter.widget-view+json": {
       "model_id": "dc0eb8bec0b1408faf450943dfca01dc",
       "version_major": 2,
       "version_minor": 0
      },
      "text/plain": [
       "Generate report structure:   0%|          | 0/1 [00:00<?, ?it/s]"
      ]
     },
     "metadata": {},
     "output_type": "display_data"
    },
    {
     "data": {
      "application/vnd.jupyter.widget-view+json": {
       "model_id": "fd596f6d01744abf90ea7a50b796f61a",
       "version_major": 2,
       "version_minor": 0
      },
      "text/plain": [
       "Render HTML:   0%|          | 0/1 [00:00<?, ?it/s]"
      ]
     },
     "metadata": {},
     "output_type": "display_data"
    },
    {
     "data": {
      "application/vnd.jupyter.widget-view+json": {
       "model_id": "174aac579f8b4a3a9bc3ab89d0c499a0",
       "version_major": 2,
       "version_minor": 0
      },
      "text/plain": [
       "Export report to file:   0%|          | 0/1 [00:00<?, ?it/s]"
      ]
     },
     "metadata": {},
     "output_type": "display_data"
    }
   ],
   "source": [
    "# import pandas_profiling\n",
    "# profile = crimes.profile_report(title='Boston Crimes Profiling')\n",
    "# profile.to_file(output_file='boston-crimes-profiling.html')"
   ]
  },
  {
   "cell_type": "markdown",
   "id": "54943e1c",
   "metadata": {},
   "source": [
    "### Cleaning the Data"
   ]
  },
  {
   "cell_type": "markdown",
   "id": "85259de0",
   "metadata": {},
   "source": [
    "#### Turning the date column into the datetime datatype"
   ]
  },
  {
   "cell_type": "code",
   "execution_count": 31,
   "id": "dd686fba",
   "metadata": {},
   "outputs": [],
   "source": [
    "crimes['OCCURRED_ON_DATE'] = pd.to_datetime(crimes[\"OCCURRED_ON_DATE\"])"
   ]
  },
  {
   "cell_type": "markdown",
   "id": "b93d40a0",
   "metadata": {},
   "source": [
    "#### Turning the SHOOTING column into a boolean (where NaN = False and Y = True)"
   ]
  },
  {
   "cell_type": "markdown",
   "id": "69f16e1a",
   "metadata": {},
   "source": [
    "https://statisticsglobe.com/replace-values-in-pandas-dataframe-python"
   ]
  },
  {
   "cell_type": "code",
   "execution_count": 32,
   "id": "42bde11c",
   "metadata": {
    "scrolled": true
   },
   "outputs": [
    {
     "data": {
      "text/html": [
       "<div>\n",
       "<style scoped>\n",
       "    .dataframe tbody tr th:only-of-type {\n",
       "        vertical-align: middle;\n",
       "    }\n",
       "\n",
       "    .dataframe tbody tr th {\n",
       "        vertical-align: top;\n",
       "    }\n",
       "\n",
       "    .dataframe thead th {\n",
       "        text-align: right;\n",
       "    }\n",
       "</style>\n",
       "<table border=\"1\" class=\"dataframe\">\n",
       "  <thead>\n",
       "    <tr style=\"text-align: right;\">\n",
       "      <th></th>\n",
       "      <th>INCIDENT_NUMBER</th>\n",
       "      <th>OFFENSE_CODE</th>\n",
       "      <th>OFFENSE_CODE_GROUP</th>\n",
       "      <th>OFFENSE_DESCRIPTION</th>\n",
       "      <th>DISTRICT</th>\n",
       "      <th>REPORTING_AREA</th>\n",
       "      <th>SHOOTING</th>\n",
       "      <th>OCCURRED_ON_DATE</th>\n",
       "      <th>YEAR</th>\n",
       "      <th>MONTH</th>\n",
       "      <th>DAY_OF_WEEK</th>\n",
       "      <th>HOUR</th>\n",
       "      <th>UCR_PART</th>\n",
       "      <th>STREET</th>\n",
       "      <th>Lat</th>\n",
       "      <th>Long</th>\n",
       "      <th>Location</th>\n",
       "    </tr>\n",
       "  </thead>\n",
       "  <tbody>\n",
       "    <tr>\n",
       "      <th>0</th>\n",
       "      <td>I182070945</td>\n",
       "      <td>619</td>\n",
       "      <td>Larceny</td>\n",
       "      <td>LARCENY ALL OTHERS</td>\n",
       "      <td>D14</td>\n",
       "      <td>808.0</td>\n",
       "      <td>False</td>\n",
       "      <td>2018-09-02 13:00:00</td>\n",
       "      <td>2018</td>\n",
       "      <td>9</td>\n",
       "      <td>Sunday</td>\n",
       "      <td>13</td>\n",
       "      <td>Part One</td>\n",
       "      <td>LINCOLN ST</td>\n",
       "      <td>42.357791</td>\n",
       "      <td>-71.139371</td>\n",
       "      <td>(42.35779134, -71.13937053)</td>\n",
       "    </tr>\n",
       "    <tr>\n",
       "      <th>1</th>\n",
       "      <td>I182070943</td>\n",
       "      <td>1402</td>\n",
       "      <td>Vandalism</td>\n",
       "      <td>VANDALISM</td>\n",
       "      <td>C11</td>\n",
       "      <td>347.0</td>\n",
       "      <td>False</td>\n",
       "      <td>2018-08-21 00:00:00</td>\n",
       "      <td>2018</td>\n",
       "      <td>8</td>\n",
       "      <td>Tuesday</td>\n",
       "      <td>0</td>\n",
       "      <td>Part Two</td>\n",
       "      <td>HECLA ST</td>\n",
       "      <td>42.306821</td>\n",
       "      <td>-71.060300</td>\n",
       "      <td>(42.30682138, -71.06030035)</td>\n",
       "    </tr>\n",
       "    <tr>\n",
       "      <th>2</th>\n",
       "      <td>I182070941</td>\n",
       "      <td>3410</td>\n",
       "      <td>Towed</td>\n",
       "      <td>TOWED MOTOR VEHICLE</td>\n",
       "      <td>D4</td>\n",
       "      <td>151.0</td>\n",
       "      <td>False</td>\n",
       "      <td>2018-09-03 19:27:00</td>\n",
       "      <td>2018</td>\n",
       "      <td>9</td>\n",
       "      <td>Monday</td>\n",
       "      <td>19</td>\n",
       "      <td>Part Three</td>\n",
       "      <td>CAZENOVE ST</td>\n",
       "      <td>42.346589</td>\n",
       "      <td>-71.072429</td>\n",
       "      <td>(42.34658879, -71.07242943)</td>\n",
       "    </tr>\n",
       "    <tr>\n",
       "      <th>3</th>\n",
       "      <td>I182070940</td>\n",
       "      <td>3114</td>\n",
       "      <td>Investigate Property</td>\n",
       "      <td>INVESTIGATE PROPERTY</td>\n",
       "      <td>D4</td>\n",
       "      <td>272.0</td>\n",
       "      <td>False</td>\n",
       "      <td>2018-09-03 21:16:00</td>\n",
       "      <td>2018</td>\n",
       "      <td>9</td>\n",
       "      <td>Monday</td>\n",
       "      <td>21</td>\n",
       "      <td>Part Three</td>\n",
       "      <td>NEWCOMB ST</td>\n",
       "      <td>42.334182</td>\n",
       "      <td>-71.078664</td>\n",
       "      <td>(42.33418175, -71.07866441)</td>\n",
       "    </tr>\n",
       "    <tr>\n",
       "      <th>4</th>\n",
       "      <td>I182070938</td>\n",
       "      <td>3114</td>\n",
       "      <td>Investigate Property</td>\n",
       "      <td>INVESTIGATE PROPERTY</td>\n",
       "      <td>B3</td>\n",
       "      <td>421.0</td>\n",
       "      <td>False</td>\n",
       "      <td>2018-09-03 21:05:00</td>\n",
       "      <td>2018</td>\n",
       "      <td>9</td>\n",
       "      <td>Monday</td>\n",
       "      <td>21</td>\n",
       "      <td>Part Three</td>\n",
       "      <td>DELHI ST</td>\n",
       "      <td>42.275365</td>\n",
       "      <td>-71.090361</td>\n",
       "      <td>(42.27536542, -71.09036101)</td>\n",
       "    </tr>\n",
       "    <tr>\n",
       "      <th>...</th>\n",
       "      <td>...</td>\n",
       "      <td>...</td>\n",
       "      <td>...</td>\n",
       "      <td>...</td>\n",
       "      <td>...</td>\n",
       "      <td>...</td>\n",
       "      <td>...</td>\n",
       "      <td>...</td>\n",
       "      <td>...</td>\n",
       "      <td>...</td>\n",
       "      <td>...</td>\n",
       "      <td>...</td>\n",
       "      <td>...</td>\n",
       "      <td>...</td>\n",
       "      <td>...</td>\n",
       "      <td>...</td>\n",
       "      <td>...</td>\n",
       "    </tr>\n",
       "    <tr>\n",
       "      <th>319068</th>\n",
       "      <td>I050310906-00</td>\n",
       "      <td>3125</td>\n",
       "      <td>Warrant Arrests</td>\n",
       "      <td>WARRANT ARREST</td>\n",
       "      <td>D4</td>\n",
       "      <td>285.0</td>\n",
       "      <td>False</td>\n",
       "      <td>2016-06-05 17:25:00</td>\n",
       "      <td>2016</td>\n",
       "      <td>6</td>\n",
       "      <td>Sunday</td>\n",
       "      <td>17</td>\n",
       "      <td>Part Three</td>\n",
       "      <td>COVENTRY ST</td>\n",
       "      <td>42.336951</td>\n",
       "      <td>-71.085748</td>\n",
       "      <td>(42.33695098, -71.08574813)</td>\n",
       "    </tr>\n",
       "    <tr>\n",
       "      <th>319069</th>\n",
       "      <td>I030217815-08</td>\n",
       "      <td>111</td>\n",
       "      <td>Homicide</td>\n",
       "      <td>MURDER, NON-NEGLIGIENT MANSLAUGHTER</td>\n",
       "      <td>E18</td>\n",
       "      <td>520.0</td>\n",
       "      <td>False</td>\n",
       "      <td>2015-07-09 13:38:00</td>\n",
       "      <td>2015</td>\n",
       "      <td>7</td>\n",
       "      <td>Thursday</td>\n",
       "      <td>13</td>\n",
       "      <td>Part One</td>\n",
       "      <td>RIVER ST</td>\n",
       "      <td>42.255926</td>\n",
       "      <td>-71.123172</td>\n",
       "      <td>(42.25592648, -71.12317207)</td>\n",
       "    </tr>\n",
       "    <tr>\n",
       "      <th>319070</th>\n",
       "      <td>I030217815-08</td>\n",
       "      <td>3125</td>\n",
       "      <td>Warrant Arrests</td>\n",
       "      <td>WARRANT ARREST</td>\n",
       "      <td>E18</td>\n",
       "      <td>520.0</td>\n",
       "      <td>False</td>\n",
       "      <td>2015-07-09 13:38:00</td>\n",
       "      <td>2015</td>\n",
       "      <td>7</td>\n",
       "      <td>Thursday</td>\n",
       "      <td>13</td>\n",
       "      <td>Part Three</td>\n",
       "      <td>RIVER ST</td>\n",
       "      <td>42.255926</td>\n",
       "      <td>-71.123172</td>\n",
       "      <td>(42.25592648, -71.12317207)</td>\n",
       "    </tr>\n",
       "    <tr>\n",
       "      <th>319071</th>\n",
       "      <td>I010370257-00</td>\n",
       "      <td>3125</td>\n",
       "      <td>Warrant Arrests</td>\n",
       "      <td>WARRANT ARREST</td>\n",
       "      <td>E13</td>\n",
       "      <td>569.0</td>\n",
       "      <td>False</td>\n",
       "      <td>2016-05-31 19:35:00</td>\n",
       "      <td>2016</td>\n",
       "      <td>5</td>\n",
       "      <td>Tuesday</td>\n",
       "      <td>19</td>\n",
       "      <td>Part Three</td>\n",
       "      <td>NEW WASHINGTON ST</td>\n",
       "      <td>42.302333</td>\n",
       "      <td>-71.111565</td>\n",
       "      <td>(42.30233307, -71.11156487)</td>\n",
       "    </tr>\n",
       "    <tr>\n",
       "      <th>319072</th>\n",
       "      <td>142052550</td>\n",
       "      <td>3125</td>\n",
       "      <td>Warrant Arrests</td>\n",
       "      <td>WARRANT ARREST</td>\n",
       "      <td>D4</td>\n",
       "      <td>903.0</td>\n",
       "      <td>False</td>\n",
       "      <td>2015-06-22 00:12:00</td>\n",
       "      <td>2015</td>\n",
       "      <td>6</td>\n",
       "      <td>Monday</td>\n",
       "      <td>0</td>\n",
       "      <td>Part Three</td>\n",
       "      <td>WASHINGTON ST</td>\n",
       "      <td>42.333839</td>\n",
       "      <td>-71.080290</td>\n",
       "      <td>(42.33383935, -71.08029038)</td>\n",
       "    </tr>\n",
       "  </tbody>\n",
       "</table>\n",
       "<p>319073 rows × 17 columns</p>\n",
       "</div>"
      ],
      "text/plain": [
       "       INCIDENT_NUMBER  OFFENSE_CODE    OFFENSE_CODE_GROUP  \\\n",
       "0           I182070945           619               Larceny   \n",
       "1           I182070943          1402             Vandalism   \n",
       "2           I182070941          3410                 Towed   \n",
       "3           I182070940          3114  Investigate Property   \n",
       "4           I182070938          3114  Investigate Property   \n",
       "...                ...           ...                   ...   \n",
       "319068   I050310906-00          3125       Warrant Arrests   \n",
       "319069   I030217815-08           111              Homicide   \n",
       "319070   I030217815-08          3125       Warrant Arrests   \n",
       "319071   I010370257-00          3125       Warrant Arrests   \n",
       "319072       142052550          3125       Warrant Arrests   \n",
       "\n",
       "                        OFFENSE_DESCRIPTION DISTRICT  REPORTING_AREA  \\\n",
       "0                        LARCENY ALL OTHERS      D14           808.0   \n",
       "1                                 VANDALISM      C11           347.0   \n",
       "2                       TOWED MOTOR VEHICLE       D4           151.0   \n",
       "3                      INVESTIGATE PROPERTY       D4           272.0   \n",
       "4                      INVESTIGATE PROPERTY       B3           421.0   \n",
       "...                                     ...      ...             ...   \n",
       "319068                       WARRANT ARREST       D4           285.0   \n",
       "319069  MURDER, NON-NEGLIGIENT MANSLAUGHTER      E18           520.0   \n",
       "319070                       WARRANT ARREST      E18           520.0   \n",
       "319071                       WARRANT ARREST      E13           569.0   \n",
       "319072                       WARRANT ARREST       D4           903.0   \n",
       "\n",
       "        SHOOTING    OCCURRED_ON_DATE  YEAR  MONTH DAY_OF_WEEK  HOUR  \\\n",
       "0          False 2018-09-02 13:00:00  2018      9      Sunday    13   \n",
       "1          False 2018-08-21 00:00:00  2018      8     Tuesday     0   \n",
       "2          False 2018-09-03 19:27:00  2018      9      Monday    19   \n",
       "3          False 2018-09-03 21:16:00  2018      9      Monday    21   \n",
       "4          False 2018-09-03 21:05:00  2018      9      Monday    21   \n",
       "...          ...                 ...   ...    ...         ...   ...   \n",
       "319068     False 2016-06-05 17:25:00  2016      6      Sunday    17   \n",
       "319069     False 2015-07-09 13:38:00  2015      7    Thursday    13   \n",
       "319070     False 2015-07-09 13:38:00  2015      7    Thursday    13   \n",
       "319071     False 2016-05-31 19:35:00  2016      5     Tuesday    19   \n",
       "319072     False 2015-06-22 00:12:00  2015      6      Monday     0   \n",
       "\n",
       "          UCR_PART             STREET        Lat       Long  \\\n",
       "0         Part One         LINCOLN ST  42.357791 -71.139371   \n",
       "1         Part Two           HECLA ST  42.306821 -71.060300   \n",
       "2       Part Three        CAZENOVE ST  42.346589 -71.072429   \n",
       "3       Part Three         NEWCOMB ST  42.334182 -71.078664   \n",
       "4       Part Three           DELHI ST  42.275365 -71.090361   \n",
       "...            ...                ...        ...        ...   \n",
       "319068  Part Three        COVENTRY ST  42.336951 -71.085748   \n",
       "319069    Part One           RIVER ST  42.255926 -71.123172   \n",
       "319070  Part Three           RIVER ST  42.255926 -71.123172   \n",
       "319071  Part Three  NEW WASHINGTON ST  42.302333 -71.111565   \n",
       "319072  Part Three      WASHINGTON ST  42.333839 -71.080290   \n",
       "\n",
       "                           Location  \n",
       "0       (42.35779134, -71.13937053)  \n",
       "1       (42.30682138, -71.06030035)  \n",
       "2       (42.34658879, -71.07242943)  \n",
       "3       (42.33418175, -71.07866441)  \n",
       "4       (42.27536542, -71.09036101)  \n",
       "...                             ...  \n",
       "319068  (42.33695098, -71.08574813)  \n",
       "319069  (42.25592648, -71.12317207)  \n",
       "319070  (42.25592648, -71.12317207)  \n",
       "319071  (42.30233307, -71.11156487)  \n",
       "319072  (42.33383935, -71.08029038)  \n",
       "\n",
       "[319073 rows x 17 columns]"
      ]
     },
     "execution_count": 32,
     "metadata": {},
     "output_type": "execute_result"
    }
   ],
   "source": [
    "crimes['SHOOTING'] = crimes['SHOOTING'].fillna(False)\n",
    "crimes['SHOOTING'] = crimes['SHOOTING'].replace(\"Y\", True)\n",
    "crimes"
   ]
  },
  {
   "cell_type": "markdown",
   "id": "df50b466",
   "metadata": {},
   "source": [
    "(checking to make sure it is true and false)"
   ]
  },
  {
   "cell_type": "code",
   "execution_count": 42,
   "id": "45a57079",
   "metadata": {},
   "outputs": [
    {
     "data": {
      "text/plain": [
       "False    318054\n",
       "True       1019\n",
       "Name: SHOOTING, dtype: int64"
      ]
     },
     "execution_count": 42,
     "metadata": {},
     "output_type": "execute_result"
    }
   ],
   "source": [
    "crimes.SHOOTING.value_counts()"
   ]
  },
  {
   "cell_type": "markdown",
   "id": "9c3b0440",
   "metadata": {},
   "source": [
    "(checking to make sure we have the right data types (and we do!)"
   ]
  },
  {
   "cell_type": "code",
   "execution_count": 34,
   "id": "82e1414d",
   "metadata": {},
   "outputs": [
    {
     "name": "stdout",
     "output_type": "stream",
     "text": [
      "<class 'pandas.core.frame.DataFrame'>\n",
      "RangeIndex: 319073 entries, 0 to 319072\n",
      "Data columns (total 17 columns):\n",
      " #   Column               Non-Null Count   Dtype         \n",
      "---  ------               --------------   -----         \n",
      " 0   INCIDENT_NUMBER      319073 non-null  object        \n",
      " 1   OFFENSE_CODE         319073 non-null  int64         \n",
      " 2   OFFENSE_CODE_GROUP   319073 non-null  object        \n",
      " 3   OFFENSE_DESCRIPTION  319073 non-null  object        \n",
      " 4   DISTRICT             317308 non-null  object        \n",
      " 5   REPORTING_AREA       298823 non-null  float64       \n",
      " 6   SHOOTING             319073 non-null  bool          \n",
      " 7   OCCURRED_ON_DATE     319073 non-null  datetime64[ns]\n",
      " 8   YEAR                 319073 non-null  int64         \n",
      " 9   MONTH                319073 non-null  int64         \n",
      " 10  DAY_OF_WEEK          319073 non-null  object        \n",
      " 11  HOUR                 319073 non-null  int64         \n",
      " 12  UCR_PART             318983 non-null  object        \n",
      " 13  STREET               308202 non-null  object        \n",
      " 14  Lat                  299074 non-null  float64       \n",
      " 15  Long                 299074 non-null  float64       \n",
      " 16  Location             319073 non-null  object        \n",
      "dtypes: bool(1), datetime64[ns](1), float64(3), int64(4), object(8)\n",
      "memory usage: 39.3+ MB\n"
     ]
    }
   ],
   "source": [
    "crimes.info()"
   ]
  },
  {
   "cell_type": "markdown",
   "id": "24b614da",
   "metadata": {},
   "source": [
    "### Basic Questions"
   ]
  },
  {
   "cell_type": "markdown",
   "id": "3664cf08",
   "metadata": {},
   "source": [
    "#### What are the range of dates being recorded?"
   ]
  },
  {
   "cell_type": "code",
   "execution_count": 35,
   "id": "108eca7b",
   "metadata": {},
   "outputs": [
    {
     "data": {
      "text/plain": [
       "max   2018-09-03 21:25:00\n",
       "min   2015-06-15 00:00:00\n",
       "Name: OCCURRED_ON_DATE, dtype: datetime64[ns]"
      ]
     },
     "execution_count": 35,
     "metadata": {},
     "output_type": "execute_result"
    }
   ],
   "source": [
    "crimes.OCCURRED_ON_DATE.sort_values(ascending=True).agg([max, min])"
   ]
  },
  {
   "cell_type": "markdown",
   "id": "ce527620",
   "metadata": {},
   "source": [
    "#### What are all the unique groups of offense codes and which are most prevalent in the data?"
   ]
  },
  {
   "cell_type": "code",
   "execution_count": 43,
   "id": "a22d5662",
   "metadata": {},
   "outputs": [],
   "source": [
    "offense_code_groups = crimes.OFFENSE_CODE_GROUP.value_counts().sort_values(ascending=False)"
   ]
  },
  {
   "cell_type": "markdown",
   "id": "9980757a",
   "metadata": {},
   "source": [
    "TOP 10 offense code groups"
   ]
  },
  {
   "cell_type": "code",
   "execution_count": 44,
   "id": "4b2d6a5d",
   "metadata": {},
   "outputs": [
    {
     "data": {
      "text/plain": [
       "Motor Vehicle Accident Response    37132\n",
       "Larceny                            25935\n",
       "Medical Assistance                 23540\n",
       "Investigate Person                 18750\n",
       "Other                              18075\n",
       "Drug Violation                     16548\n",
       "Simple Assault                     15826\n",
       "Vandalism                          15415\n",
       "Verbal Disputes                    13099\n",
       "Towed                              11287\n",
       "Name: OFFENSE_CODE_GROUP, dtype: int64"
      ]
     },
     "execution_count": 44,
     "metadata": {},
     "output_type": "execute_result"
    }
   ],
   "source": [
    "offense_code_groups.head(10)"
   ]
  },
  {
   "cell_type": "markdown",
   "id": "2a915ed7",
   "metadata": {},
   "source": [
    "BOTTOM 10 offense code groups"
   ]
  },
  {
   "cell_type": "code",
   "execution_count": 45,
   "id": "42201bba",
   "metadata": {},
   "outputs": [
    {
     "data": {
      "text/plain": [
       "Aircraft                                     36\n",
       "Phone Call Complaints                        31\n",
       "Explosives                                   27\n",
       "Manslaughter                                  8\n",
       "Gambling                                      8\n",
       "HUMAN TRAFFICKING                             7\n",
       "INVESTIGATE PERSON                            4\n",
       "Biological Threat                             2\n",
       "HUMAN TRAFFICKING - INVOLUNTARY SERVITUDE     2\n",
       "Burglary - No Property Taken                  2\n",
       "Name: OFFENSE_CODE_GROUP, dtype: int64"
      ]
     },
     "execution_count": 45,
     "metadata": {},
     "output_type": "execute_result"
    }
   ],
   "source": [
    "offense_code_groups.tail(10)"
   ]
  },
  {
   "cell_type": "markdown",
   "id": "f9b40a8f",
   "metadata": {},
   "source": [
    "### Questions"
   ]
  },
  {
   "cell_type": "markdown",
   "id": "9efb3fae",
   "metadata": {},
   "source": [
    "#### What percentage of murders involved a shooting? (Look at Murder, non-negligent manslaughter (offense_code 111))"
   ]
  },
  {
   "cell_type": "markdown",
   "id": "66210172",
   "metadata": {},
   "source": [
    "https://www.w3schools.com/python/matplotlib_pie_charts.asp, https://www.tutorialspoint.com/how-to-get-the-index-and-values-of-series-in-pandas"
   ]
  },
  {
   "cell_type": "code",
   "execution_count": 57,
   "id": "ecfad364",
   "metadata": {},
   "outputs": [
    {
     "data": {
      "text/plain": [
       "SHOOTING\n",
       "False     40\n",
       "True     121\n",
       "Name: SHOOTING, dtype: int64"
      ]
     },
     "execution_count": 57,
     "metadata": {},
     "output_type": "execute_result"
    }
   ],
   "source": [
    "murders = crimes.loc[crimes.OFFENSE_CODE == 111].groupby('SHOOTING').SHOOTING.count()\n",
    "murders"
   ]
  },
  {
   "cell_type": "code",
   "execution_count": 67,
   "id": "1b830a13",
   "metadata": {},
   "outputs": [
    {
     "data": {
      "image/png": "[encoded data removed]",
      "text/plain": [
       "<Figure size 432x288 with 1 Axes>"
      ]
     },
     "metadata": {},
     "output_type": "display_data"
    }
   ],
   "source": [
    "plt.pie(murders, labels=murders.index, shadow=True, colors = ['c', '#fd8e08'])\n",
    "plt.show()"
   ]
  },
  {
   "cell_type": "markdown",
   "id": "8a03c903",
   "metadata": {},
   "source": [
    "#### Are there certain times of the year when crime is more prevalent in Boston?"
   ]
  },
  {
   "cell_type": "markdown",
   "id": "44a84965",
   "metadata": {},
   "source": [
    "(adding a new column in the original dataframe (crimes) with the name of every months)"
   ]
  },
  {
   "cell_type": "markdown",
   "id": "ff144161",
   "metadata": {},
   "source": [
    "https://pandas.pydata.org/pandas-docs/stable/reference/api/pandas.Series.dt.month_name.html"
   ]
  },
  {
   "cell_type": "code",
   "execution_count": 74,
   "id": "41509945",
   "metadata": {},
   "outputs": [],
   "source": [
    "# crimes['MONTH_NAME'] = crimes.OCCURRED_ON_DATE.dt.month_name()"
   ]
  },
  {
   "cell_type": "markdown",
   "id": "ebc95653",
   "metadata": {},
   "source": [
    "https://pandas.pydata.org/pandas-docs/stable/reference/api/pandas.Series.sort_index.html, https://stackoverflow.com/questions/48042915/sort-a-pandas-dataframe-series-by-month-name"
   ]
  },
  {
   "cell_type": "code",
   "execution_count": 95,
   "id": "b8f522c2",
   "metadata": {},
   "outputs": [],
   "source": [
    "months = [\"January\", \"February\", \"March\", \"April\", \"May\", \"June\", \"July\", \"August\", \"September\", \"October\", \"November\", \"December\"]"
   ]
  },
  {
   "cell_type": "markdown",
   "id": "400ac700",
   "metadata": {},
   "source": [
    "https://www.geeksforgeeks.org/python-change-column-names-and-row-indexes-in-pandas-dataframe/"
   ]
  },
  {
   "cell_type": "code",
   "execution_count": 153,
   "id": "38c018b2",
   "metadata": {},
   "outputs": [
    {
     "data": {
      "text/html": [
       "<div>\n",
       "<style scoped>\n",
       "    .dataframe tbody tr th:only-of-type {\n",
       "        vertical-align: middle;\n",
       "    }\n",
       "\n",
       "    .dataframe tbody tr th {\n",
       "        vertical-align: top;\n",
       "    }\n",
       "\n",
       "    .dataframe thead th {\n",
       "        text-align: right;\n",
       "    }\n",
       "</style>\n",
       "<table border=\"1\" class=\"dataframe\">\n",
       "  <thead>\n",
       "    <tr style=\"text-align: right;\">\n",
       "      <th></th>\n",
       "      <th>2016</th>\n",
       "      <th>2015</th>\n",
       "      <th>2017</th>\n",
       "      <th>2018</th>\n",
       "      <th>Yearly Average</th>\n",
       "    </tr>\n",
       "    <tr>\n",
       "      <th>MONTH</th>\n",
       "      <th></th>\n",
       "      <th></th>\n",
       "      <th></th>\n",
       "      <th></th>\n",
       "      <th></th>\n",
       "    </tr>\n",
       "  </thead>\n",
       "  <tbody>\n",
       "    <tr>\n",
       "      <th>1</th>\n",
       "      <td>7835</td>\n",
       "      <td>NaN</td>\n",
       "      <td>7993</td>\n",
       "      <td>7782.0</td>\n",
       "      <td>7870.000000</td>\n",
       "    </tr>\n",
       "    <tr>\n",
       "      <th>2</th>\n",
       "      <td>7308</td>\n",
       "      <td>NaN</td>\n",
       "      <td>7408</td>\n",
       "      <td>6937.0</td>\n",
       "      <td>7217.666667</td>\n",
       "    </tr>\n",
       "    <tr>\n",
       "      <th>3</th>\n",
       "      <td>8199</td>\n",
       "      <td>NaN</td>\n",
       "      <td>8179</td>\n",
       "      <td>7768.0</td>\n",
       "      <td>8048.666667</td>\n",
       "    </tr>\n",
       "    <tr>\n",
       "      <th>4</th>\n",
       "      <td>8101</td>\n",
       "      <td>NaN</td>\n",
       "      <td>8069</td>\n",
       "      <td>7916.0</td>\n",
       "      <td>8028.666667</td>\n",
       "    </tr>\n",
       "    <tr>\n",
       "      <th>5</th>\n",
       "      <td>8578</td>\n",
       "      <td>NaN</td>\n",
       "      <td>8715</td>\n",
       "      <td>8906.0</td>\n",
       "      <td>8733.000000</td>\n",
       "    </tr>\n",
       "    <tr>\n",
       "      <th>6</th>\n",
       "      <td>8558</td>\n",
       "      <td>4191.0</td>\n",
       "      <td>8985</td>\n",
       "      <td>8834.0</td>\n",
       "      <td>7642.000000</td>\n",
       "    </tr>\n",
       "    <tr>\n",
       "      <th>7</th>\n",
       "      <td>8619</td>\n",
       "      <td>8324.0</td>\n",
       "      <td>9075</td>\n",
       "      <td>8538.0</td>\n",
       "      <td>8639.000000</td>\n",
       "    </tr>\n",
       "    <tr>\n",
       "      <th>8</th>\n",
       "      <td>8938</td>\n",
       "      <td>8342.0</td>\n",
       "      <td>9206</td>\n",
       "      <td>8337.0</td>\n",
       "      <td>8705.750000</td>\n",
       "    </tr>\n",
       "    <tr>\n",
       "      <th>9</th>\n",
       "      <td>8522</td>\n",
       "      <td>8414.0</td>\n",
       "      <td>8940</td>\n",
       "      <td>667.0</td>\n",
       "      <td>6635.750000</td>\n",
       "    </tr>\n",
       "    <tr>\n",
       "      <th>10</th>\n",
       "      <td>8583</td>\n",
       "      <td>8308.0</td>\n",
       "      <td>8846</td>\n",
       "      <td>NaN</td>\n",
       "      <td>8579.000000</td>\n",
       "    </tr>\n",
       "    <tr>\n",
       "      <th>11</th>\n",
       "      <td>7922</td>\n",
       "      <td>7818.0</td>\n",
       "      <td>7935</td>\n",
       "      <td>NaN</td>\n",
       "      <td>7891.666667</td>\n",
       "    </tr>\n",
       "    <tr>\n",
       "      <th>12</th>\n",
       "      <td>7951</td>\n",
       "      <td>7991.0</td>\n",
       "      <td>7535</td>\n",
       "      <td>NaN</td>\n",
       "      <td>7825.666667</td>\n",
       "    </tr>\n",
       "  </tbody>\n",
       "</table>\n",
       "</div>"
      ],
      "text/plain": [
       "       2016    2015  2017    2018  Yearly Average\n",
       "MONTH                                            \n",
       "1      7835     NaN  7993  7782.0     7870.000000\n",
       "2      7308     NaN  7408  6937.0     7217.666667\n",
       "3      8199     NaN  8179  7768.0     8048.666667\n",
       "4      8101     NaN  8069  7916.0     8028.666667\n",
       "5      8578     NaN  8715  8906.0     8733.000000\n",
       "6      8558  4191.0  8985  8834.0     7642.000000\n",
       "7      8619  8324.0  9075  8538.0     8639.000000\n",
       "8      8938  8342.0  9206  8337.0     8705.750000\n",
       "9      8522  8414.0  8940   667.0     6635.750000\n",
       "10     8583  8308.0  8846     NaN     8579.000000\n",
       "11     7922  7818.0  7935     NaN     7891.666667\n",
       "12     7951  7991.0  7535     NaN     7825.666667"
      ]
     },
     "execution_count": 153,
     "metadata": {},
     "output_type": "execute_result"
    }
   ],
   "source": [
    "crime_by_month = crimes.loc[crimes.YEAR == 2016].groupby('MONTH').MONTH.count().to_frame()\n",
    "crime_by_month.columns = ['2016']\n",
    "crime_by_month['2015'] = crimes.loc[crimes.YEAR == 2015].groupby('MONTH').MONTH.count()\n",
    "crime_by_month['2017'] = crimes.loc[crimes.YEAR == 2017].groupby('MONTH').MONTH.count()\n",
    "crime_by_month['2018'] = crimes.loc[crimes.YEAR == 2018].groupby('MONTH').MONTH.count()\n",
    "crime_by_month['Yearly Average'] = crime_by_month.mean(axis=1)\n",
    "crime_by_month"
   ]
  },
  {
   "cell_type": "code",
   "execution_count": 155,
   "id": "ce7b9967",
   "metadata": {
    "scrolled": true
   },
   "outputs": [
    {
     "data": {
      "image/png": "[encoded data removed]",
      "text/plain": [
       "<Figure size 432x288 with 1 Axes>"
      ]
     },
     "metadata": {
      "needs_background": "light"
     },
     "output_type": "display_data"
    }
   ],
   "source": [
    "ax=plt.subplots()\n",
    "\n",
    "ax=sns.barplot(x=crime_by_month.index, y=crime_by_month['Yearly Average'])\n",
    "\n",
    "ax.set(xlabel='Month', ylabel='Number of Crimes')\n",
    "\n",
    "plt.show()"
   ]
  },
  {
   "cell_type": "markdown",
   "id": "78699bd2",
   "metadata": {},
   "source": [
    "### My Questions"
   ]
  },
  {
   "cell_type": "markdown",
   "id": "3a650e4a",
   "metadata": {},
   "source": [
    "#### "
   ]
  },
  {
   "cell_type": "markdown",
   "id": "fc53ad8e",
   "metadata": {},
   "source": [
    "https://legalknowledgebase.com/what-are-two-types-of-crimes, "
   ]
  },
  {
   "cell_type": "markdown",
   "id": "28047837",
   "metadata": {},
   "source": [
    "Something that uses that combination plot thing"
   ]
  },
  {
   "cell_type": "markdown",
   "id": "fa51a9c0",
   "metadata": {},
   "source": [
    "#### Where does most crime in Boston take place?"
   ]
  },
  {
   "cell_type": "markdown",
   "id": "5fda0405",
   "metadata": {},
   "source": [
    "https://datascientyst.com/plot-latitude-longitude-pandas-dataframe-python/, https://towardsdatascience.com/geopandas-101-plot-any-data-with-a-latitude-and-longitude-on-a-map-98e01944b972"
   ]
  },
  {
   "cell_type": "markdown",
   "id": "8a63c379",
   "metadata": {},
   "source": [
    "https://anaconda.org/conda-forge/geopandas"
   ]
  },
  {
   "cell_type": "code",
   "execution_count": null,
   "id": "0810ff01",
   "metadata": {},
   "outputs": [],
   "source": []
  }
 ],
 "metadata": {
  "kernelspec": {
   "display_name": "Python 3 (ipykernel)",
   "language": "python",
   "name": "python3"
  },
  "language_info": {
   "codemirror_mode": {
    "name": "ipython",
    "version": 3
   },
   "file_extension": ".py",
   "mimetype": "text/x-python",
   "name": "python",
   "nbconvert_exporter": "python",
   "pygments_lexer": "ipython3",
   "version": "3.9.12"
  }
 },
 "nbformat": 4,
 "nbformat_minor": 5
}
