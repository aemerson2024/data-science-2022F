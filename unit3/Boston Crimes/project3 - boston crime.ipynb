{
 "cells": [
  {
   "cell_type": "markdown",
   "id": "fb7e7ea4",
   "metadata": {},
   "source": [
    "# Project Three --- Boston Crime"
   ]
  },
  {
   "cell_type": "code",
   "execution_count": 48,
   "id": "cfa9e0cb",
   "metadata": {
    "scrolled": true
   },
   "outputs": [
    {
     "data": {
      "text/html": [
       "<div>\n",
       "<style scoped>\n",
       "    .dataframe tbody tr th:only-of-type {\n",
       "        vertical-align: middle;\n",
       "    }\n",
       "\n",
       "    .dataframe tbody tr th {\n",
       "        vertical-align: top;\n",
       "    }\n",
       "\n",
       "    .dataframe thead th {\n",
       "        text-align: right;\n",
       "    }\n",
       "</style>\n",
       "<table border=\"1\" class=\"dataframe\">\n",
       "  <thead>\n",
       "    <tr style=\"text-align: right;\">\n",
       "      <th></th>\n",
       "      <th>INCIDENT_NUMBER</th>\n",
       "      <th>OFFENSE_CODE</th>\n",
       "      <th>OFFENSE_CODE_GROUP</th>\n",
       "      <th>OFFENSE_DESCRIPTION</th>\n",
       "      <th>DISTRICT</th>\n",
       "      <th>REPORTING_AREA</th>\n",
       "      <th>SHOOTING</th>\n",
       "      <th>OCCURRED_ON_DATE</th>\n",
       "      <th>YEAR</th>\n",
       "      <th>MONTH</th>\n",
       "      <th>DAY_OF_WEEK</th>\n",
       "      <th>HOUR</th>\n",
       "      <th>UCR_PART</th>\n",
       "      <th>STREET</th>\n",
       "      <th>Lat</th>\n",
       "      <th>Long</th>\n",
       "      <th>Location</th>\n",
       "    </tr>\n",
       "  </thead>\n",
       "  <tbody>\n",
       "    <tr>\n",
       "      <th>0</th>\n",
       "      <td>I182070945</td>\n",
       "      <td>619</td>\n",
       "      <td>Larceny</td>\n",
       "      <td>LARCENY ALL OTHERS</td>\n",
       "      <td>D14</td>\n",
       "      <td>808.0</td>\n",
       "      <td>NaN</td>\n",
       "      <td>2018-09-02 13:00:00</td>\n",
       "      <td>2018</td>\n",
       "      <td>9</td>\n",
       "      <td>Sunday</td>\n",
       "      <td>13</td>\n",
       "      <td>Part One</td>\n",
       "      <td>LINCOLN ST</td>\n",
       "      <td>42.357791</td>\n",
       "      <td>-71.139371</td>\n",
       "      <td>(42.35779134, -71.13937053)</td>\n",
       "    </tr>\n",
       "    <tr>\n",
       "      <th>1</th>\n",
       "      <td>I182070943</td>\n",
       "      <td>1402</td>\n",
       "      <td>Vandalism</td>\n",
       "      <td>VANDALISM</td>\n",
       "      <td>C11</td>\n",
       "      <td>347.0</td>\n",
       "      <td>NaN</td>\n",
       "      <td>2018-08-21 0:00:00</td>\n",
       "      <td>2018</td>\n",
       "      <td>8</td>\n",
       "      <td>Tuesday</td>\n",
       "      <td>0</td>\n",
       "      <td>Part Two</td>\n",
       "      <td>HECLA ST</td>\n",
       "      <td>42.306821</td>\n",
       "      <td>-71.060300</td>\n",
       "      <td>(42.30682138, -71.06030035)</td>\n",
       "    </tr>\n",
       "    <tr>\n",
       "      <th>2</th>\n",
       "      <td>I182070941</td>\n",
       "      <td>3410</td>\n",
       "      <td>Towed</td>\n",
       "      <td>TOWED MOTOR VEHICLE</td>\n",
       "      <td>D4</td>\n",
       "      <td>151.0</td>\n",
       "      <td>NaN</td>\n",
       "      <td>2018-09-03 19:27:00</td>\n",
       "      <td>2018</td>\n",
       "      <td>9</td>\n",
       "      <td>Monday</td>\n",
       "      <td>19</td>\n",
       "      <td>Part Three</td>\n",
       "      <td>CAZENOVE ST</td>\n",
       "      <td>42.346589</td>\n",
       "      <td>-71.072429</td>\n",
       "      <td>(42.34658879, -71.07242943)</td>\n",
       "    </tr>\n",
       "    <tr>\n",
       "      <th>3</th>\n",
       "      <td>I182070940</td>\n",
       "      <td>3114</td>\n",
       "      <td>Investigate Property</td>\n",
       "      <td>INVESTIGATE PROPERTY</td>\n",
       "      <td>D4</td>\n",
       "      <td>272.0</td>\n",
       "      <td>NaN</td>\n",
       "      <td>2018-09-03 21:16:00</td>\n",
       "      <td>2018</td>\n",
       "      <td>9</td>\n",
       "      <td>Monday</td>\n",
       "      <td>21</td>\n",
       "      <td>Part Three</td>\n",
       "      <td>NEWCOMB ST</td>\n",
       "      <td>42.334182</td>\n",
       "      <td>-71.078664</td>\n",
       "      <td>(42.33418175, -71.07866441)</td>\n",
       "    </tr>\n",
       "    <tr>\n",
       "      <th>4</th>\n",
       "      <td>I182070938</td>\n",
       "      <td>3114</td>\n",
       "      <td>Investigate Property</td>\n",
       "      <td>INVESTIGATE PROPERTY</td>\n",
       "      <td>B3</td>\n",
       "      <td>421.0</td>\n",
       "      <td>NaN</td>\n",
       "      <td>2018-09-03 21:05:00</td>\n",
       "      <td>2018</td>\n",
       "      <td>9</td>\n",
       "      <td>Monday</td>\n",
       "      <td>21</td>\n",
       "      <td>Part Three</td>\n",
       "      <td>DELHI ST</td>\n",
       "      <td>42.275365</td>\n",
       "      <td>-71.090361</td>\n",
       "      <td>(42.27536542, -71.09036101)</td>\n",
       "    </tr>\n",
       "    <tr>\n",
       "      <th>...</th>\n",
       "      <td>...</td>\n",
       "      <td>...</td>\n",
       "      <td>...</td>\n",
       "      <td>...</td>\n",
       "      <td>...</td>\n",
       "      <td>...</td>\n",
       "      <td>...</td>\n",
       "      <td>...</td>\n",
       "      <td>...</td>\n",
       "      <td>...</td>\n",
       "      <td>...</td>\n",
       "      <td>...</td>\n",
       "      <td>...</td>\n",
       "      <td>...</td>\n",
       "      <td>...</td>\n",
       "      <td>...</td>\n",
       "      <td>...</td>\n",
       "    </tr>\n",
       "    <tr>\n",
       "      <th>319068</th>\n",
       "      <td>I050310906-00</td>\n",
       "      <td>3125</td>\n",
       "      <td>Warrant Arrests</td>\n",
       "      <td>WARRANT ARREST</td>\n",
       "      <td>D4</td>\n",
       "      <td>285.0</td>\n",
       "      <td>NaN</td>\n",
       "      <td>2016-06-05 17:25:00</td>\n",
       "      <td>2016</td>\n",
       "      <td>6</td>\n",
       "      <td>Sunday</td>\n",
       "      <td>17</td>\n",
       "      <td>Part Three</td>\n",
       "      <td>COVENTRY ST</td>\n",
       "      <td>42.336951</td>\n",
       "      <td>-71.085748</td>\n",
       "      <td>(42.33695098, -71.08574813)</td>\n",
       "    </tr>\n",
       "    <tr>\n",
       "      <th>319069</th>\n",
       "      <td>I030217815-08</td>\n",
       "      <td>111</td>\n",
       "      <td>Homicide</td>\n",
       "      <td>MURDER, NON-NEGLIGIENT MANSLAUGHTER</td>\n",
       "      <td>E18</td>\n",
       "      <td>520.0</td>\n",
       "      <td>NaN</td>\n",
       "      <td>2015-07-09 13:38:00</td>\n",
       "      <td>2015</td>\n",
       "      <td>7</td>\n",
       "      <td>Thursday</td>\n",
       "      <td>13</td>\n",
       "      <td>Part One</td>\n",
       "      <td>RIVER ST</td>\n",
       "      <td>42.255926</td>\n",
       "      <td>-71.123172</td>\n",
       "      <td>(42.25592648, -71.12317207)</td>\n",
       "    </tr>\n",
       "    <tr>\n",
       "      <th>319070</th>\n",
       "      <td>I030217815-08</td>\n",
       "      <td>3125</td>\n",
       "      <td>Warrant Arrests</td>\n",
       "      <td>WARRANT ARREST</td>\n",
       "      <td>E18</td>\n",
       "      <td>520.0</td>\n",
       "      <td>NaN</td>\n",
       "      <td>2015-07-09 13:38:00</td>\n",
       "      <td>2015</td>\n",
       "      <td>7</td>\n",
       "      <td>Thursday</td>\n",
       "      <td>13</td>\n",
       "      <td>Part Three</td>\n",
       "      <td>RIVER ST</td>\n",
       "      <td>42.255926</td>\n",
       "      <td>-71.123172</td>\n",
       "      <td>(42.25592648, -71.12317207)</td>\n",
       "    </tr>\n",
       "    <tr>\n",
       "      <th>319071</th>\n",
       "      <td>I010370257-00</td>\n",
       "      <td>3125</td>\n",
       "      <td>Warrant Arrests</td>\n",
       "      <td>WARRANT ARREST</td>\n",
       "      <td>E13</td>\n",
       "      <td>569.0</td>\n",
       "      <td>NaN</td>\n",
       "      <td>2016-05-31 19:35:00</td>\n",
       "      <td>2016</td>\n",
       "      <td>5</td>\n",
       "      <td>Tuesday</td>\n",
       "      <td>19</td>\n",
       "      <td>Part Three</td>\n",
       "      <td>NEW WASHINGTON ST</td>\n",
       "      <td>42.302333</td>\n",
       "      <td>-71.111565</td>\n",
       "      <td>(42.30233307, -71.11156487)</td>\n",
       "    </tr>\n",
       "    <tr>\n",
       "      <th>319072</th>\n",
       "      <td>142052550</td>\n",
       "      <td>3125</td>\n",
       "      <td>Warrant Arrests</td>\n",
       "      <td>WARRANT ARREST</td>\n",
       "      <td>D4</td>\n",
       "      <td>903.0</td>\n",
       "      <td>NaN</td>\n",
       "      <td>2015-06-22 0:12:00</td>\n",
       "      <td>2015</td>\n",
       "      <td>6</td>\n",
       "      <td>Monday</td>\n",
       "      <td>0</td>\n",
       "      <td>Part Three</td>\n",
       "      <td>WASHINGTON ST</td>\n",
       "      <td>42.333839</td>\n",
       "      <td>-71.080290</td>\n",
       "      <td>(42.33383935, -71.08029038)</td>\n",
       "    </tr>\n",
       "  </tbody>\n",
       "</table>\n",
       "<p>319073 rows × 17 columns</p>\n",
       "</div>"
      ],
      "text/plain": [
       "       INCIDENT_NUMBER  OFFENSE_CODE    OFFENSE_CODE_GROUP  \\\n",
       "0           I182070945           619               Larceny   \n",
       "1           I182070943          1402             Vandalism   \n",
       "2           I182070941          3410                 Towed   \n",
       "3           I182070940          3114  Investigate Property   \n",
       "4           I182070938          3114  Investigate Property   \n",
       "...                ...           ...                   ...   \n",
       "319068   I050310906-00          3125       Warrant Arrests   \n",
       "319069   I030217815-08           111              Homicide   \n",
       "319070   I030217815-08          3125       Warrant Arrests   \n",
       "319071   I010370257-00          3125       Warrant Arrests   \n",
       "319072       142052550          3125       Warrant Arrests   \n",
       "\n",
       "                        OFFENSE_DESCRIPTION DISTRICT  REPORTING_AREA SHOOTING  \\\n",
       "0                        LARCENY ALL OTHERS      D14           808.0      NaN   \n",
       "1                                 VANDALISM      C11           347.0      NaN   \n",
       "2                       TOWED MOTOR VEHICLE       D4           151.0      NaN   \n",
       "3                      INVESTIGATE PROPERTY       D4           272.0      NaN   \n",
       "4                      INVESTIGATE PROPERTY       B3           421.0      NaN   \n",
       "...                                     ...      ...             ...      ...   \n",
       "319068                       WARRANT ARREST       D4           285.0      NaN   \n",
       "319069  MURDER, NON-NEGLIGIENT MANSLAUGHTER      E18           520.0      NaN   \n",
       "319070                       WARRANT ARREST      E18           520.0      NaN   \n",
       "319071                       WARRANT ARREST      E13           569.0      NaN   \n",
       "319072                       WARRANT ARREST       D4           903.0      NaN   \n",
       "\n",
       "           OCCURRED_ON_DATE  YEAR  MONTH DAY_OF_WEEK  HOUR    UCR_PART  \\\n",
       "0       2018-09-02 13:00:00  2018      9      Sunday    13    Part One   \n",
       "1        2018-08-21 0:00:00  2018      8     Tuesday     0    Part Two   \n",
       "2       2018-09-03 19:27:00  2018      9      Monday    19  Part Three   \n",
       "3       2018-09-03 21:16:00  2018      9      Monday    21  Part Three   \n",
       "4       2018-09-03 21:05:00  2018      9      Monday    21  Part Three   \n",
       "...                     ...   ...    ...         ...   ...         ...   \n",
       "319068  2016-06-05 17:25:00  2016      6      Sunday    17  Part Three   \n",
       "319069  2015-07-09 13:38:00  2015      7    Thursday    13    Part One   \n",
       "319070  2015-07-09 13:38:00  2015      7    Thursday    13  Part Three   \n",
       "319071  2016-05-31 19:35:00  2016      5     Tuesday    19  Part Three   \n",
       "319072   2015-06-22 0:12:00  2015      6      Monday     0  Part Three   \n",
       "\n",
       "                   STREET        Lat       Long                     Location  \n",
       "0              LINCOLN ST  42.357791 -71.139371  (42.35779134, -71.13937053)  \n",
       "1                HECLA ST  42.306821 -71.060300  (42.30682138, -71.06030035)  \n",
       "2             CAZENOVE ST  42.346589 -71.072429  (42.34658879, -71.07242943)  \n",
       "3              NEWCOMB ST  42.334182 -71.078664  (42.33418175, -71.07866441)  \n",
       "4                DELHI ST  42.275365 -71.090361  (42.27536542, -71.09036101)  \n",
       "...                   ...        ...        ...                          ...  \n",
       "319068        COVENTRY ST  42.336951 -71.085748  (42.33695098, -71.08574813)  \n",
       "319069           RIVER ST  42.255926 -71.123172  (42.25592648, -71.12317207)  \n",
       "319070           RIVER ST  42.255926 -71.123172  (42.25592648, -71.12317207)  \n",
       "319071  NEW WASHINGTON ST  42.302333 -71.111565  (42.30233307, -71.11156487)  \n",
       "319072      WASHINGTON ST  42.333839 -71.080290  (42.33383935, -71.08029038)  \n",
       "\n",
       "[319073 rows x 17 columns]"
      ]
     },
     "execution_count": 48,
     "metadata": {},
     "output_type": "execute_result"
    }
   ],
   "source": [
    "import pandas as pd\n",
    "import matplotlib.pyplot as plt\n",
    "import seaborn as sns\n",
    "import numpy as np\n",
    "\n",
    "import geopandas as gpd\n",
    "import descartes\n",
    "import fiona\n",
    "from shapely.geometry import Point, Polygon\n",
    "\n",
    "crimes = pd.read_csv('crime.csv')\n",
    "crimes"
   ]
  },
  {
   "cell_type": "code",
   "execution_count": 8,
   "id": "7ff693a2",
   "metadata": {
    "scrolled": true
   },
   "outputs": [],
   "source": [
    "# import pandas_profiling\n",
    "# profile = crimes.profile_report(title='Boston Crimes Profiling')\n",
    "# profile.to_file(output_file='boston-crimes-profiling.html')"
   ]
  },
  {
   "cell_type": "markdown",
   "id": "54943e1c",
   "metadata": {},
   "source": [
    "### Cleaning the Data"
   ]
  },
  {
   "cell_type": "markdown",
   "id": "2d7c5dc7",
   "metadata": {},
   "source": [
    "#### Turning the date column into the datetime datatype"
   ]
  },
  {
   "cell_type": "code",
   "execution_count": 9,
   "id": "dd686fba",
   "metadata": {},
   "outputs": [],
   "source": [
    "crimes['OCCURRED_ON_DATE'] = pd.to_datetime(crimes[\"OCCURRED_ON_DATE\"])"
   ]
  },
  {
   "cell_type": "markdown",
   "id": "b93d40a0",
   "metadata": {},
   "source": [
    "#### Turning the SHOOTING column into a boolean (where NaN = False and Y = True)"
   ]
  },
  {
   "cell_type": "markdown",
   "id": "c8eb808d",
   "metadata": {},
   "source": [
    "https://statisticsglobe.com/replace-values-in-pandas-dataframe-python"
   ]
  },
  {
   "cell_type": "code",
   "execution_count": 10,
   "id": "11647397",
   "metadata": {
    "scrolled": true
   },
   "outputs": [
    {
     "data": {
      "text/html": [
       "<div>\n",
       "<style scoped>\n",
       "    .dataframe tbody tr th:only-of-type {\n",
       "        vertical-align: middle;\n",
       "    }\n",
       "\n",
       "    .dataframe tbody tr th {\n",
       "        vertical-align: top;\n",
       "    }\n",
       "\n",
       "    .dataframe thead th {\n",
       "        text-align: right;\n",
       "    }\n",
       "</style>\n",
       "<table border=\"1\" class=\"dataframe\">\n",
       "  <thead>\n",
       "    <tr style=\"text-align: right;\">\n",
       "      <th></th>\n",
       "      <th>INCIDENT_NUMBER</th>\n",
       "      <th>OFFENSE_CODE</th>\n",
       "      <th>OFFENSE_CODE_GROUP</th>\n",
       "      <th>OFFENSE_DESCRIPTION</th>\n",
       "      <th>DISTRICT</th>\n",
       "      <th>REPORTING_AREA</th>\n",
       "      <th>SHOOTING</th>\n",
       "      <th>OCCURRED_ON_DATE</th>\n",
       "      <th>YEAR</th>\n",
       "      <th>MONTH</th>\n",
       "      <th>DAY_OF_WEEK</th>\n",
       "      <th>HOUR</th>\n",
       "      <th>UCR_PART</th>\n",
       "      <th>STREET</th>\n",
       "      <th>Lat</th>\n",
       "      <th>Long</th>\n",
       "      <th>Location</th>\n",
       "    </tr>\n",
       "  </thead>\n",
       "  <tbody>\n",
       "    <tr>\n",
       "      <th>0</th>\n",
       "      <td>I182070945</td>\n",
       "      <td>619</td>\n",
       "      <td>Larceny</td>\n",
       "      <td>LARCENY ALL OTHERS</td>\n",
       "      <td>D14</td>\n",
       "      <td>808.0</td>\n",
       "      <td>False</td>\n",
       "      <td>2018-09-02 13:00:00</td>\n",
       "      <td>2018</td>\n",
       "      <td>9</td>\n",
       "      <td>Sunday</td>\n",
       "      <td>13</td>\n",
       "      <td>Part One</td>\n",
       "      <td>LINCOLN ST</td>\n",
       "      <td>42.357791</td>\n",
       "      <td>-71.139371</td>\n",
       "      <td>(42.35779134, -71.13937053)</td>\n",
       "    </tr>\n",
       "    <tr>\n",
       "      <th>1</th>\n",
       "      <td>I182070943</td>\n",
       "      <td>1402</td>\n",
       "      <td>Vandalism</td>\n",
       "      <td>VANDALISM</td>\n",
       "      <td>C11</td>\n",
       "      <td>347.0</td>\n",
       "      <td>False</td>\n",
       "      <td>2018-08-21 00:00:00</td>\n",
       "      <td>2018</td>\n",
       "      <td>8</td>\n",
       "      <td>Tuesday</td>\n",
       "      <td>0</td>\n",
       "      <td>Part Two</td>\n",
       "      <td>HECLA ST</td>\n",
       "      <td>42.306821</td>\n",
       "      <td>-71.060300</td>\n",
       "      <td>(42.30682138, -71.06030035)</td>\n",
       "    </tr>\n",
       "    <tr>\n",
       "      <th>2</th>\n",
       "      <td>I182070941</td>\n",
       "      <td>3410</td>\n",
       "      <td>Towed</td>\n",
       "      <td>TOWED MOTOR VEHICLE</td>\n",
       "      <td>D4</td>\n",
       "      <td>151.0</td>\n",
       "      <td>False</td>\n",
       "      <td>2018-09-03 19:27:00</td>\n",
       "      <td>2018</td>\n",
       "      <td>9</td>\n",
       "      <td>Monday</td>\n",
       "      <td>19</td>\n",
       "      <td>Part Three</td>\n",
       "      <td>CAZENOVE ST</td>\n",
       "      <td>42.346589</td>\n",
       "      <td>-71.072429</td>\n",
       "      <td>(42.34658879, -71.07242943)</td>\n",
       "    </tr>\n",
       "    <tr>\n",
       "      <th>3</th>\n",
       "      <td>I182070940</td>\n",
       "      <td>3114</td>\n",
       "      <td>Investigate Property</td>\n",
       "      <td>INVESTIGATE PROPERTY</td>\n",
       "      <td>D4</td>\n",
       "      <td>272.0</td>\n",
       "      <td>False</td>\n",
       "      <td>2018-09-03 21:16:00</td>\n",
       "      <td>2018</td>\n",
       "      <td>9</td>\n",
       "      <td>Monday</td>\n",
       "      <td>21</td>\n",
       "      <td>Part Three</td>\n",
       "      <td>NEWCOMB ST</td>\n",
       "      <td>42.334182</td>\n",
       "      <td>-71.078664</td>\n",
       "      <td>(42.33418175, -71.07866441)</td>\n",
       "    </tr>\n",
       "    <tr>\n",
       "      <th>4</th>\n",
       "      <td>I182070938</td>\n",
       "      <td>3114</td>\n",
       "      <td>Investigate Property</td>\n",
       "      <td>INVESTIGATE PROPERTY</td>\n",
       "      <td>B3</td>\n",
       "      <td>421.0</td>\n",
       "      <td>False</td>\n",
       "      <td>2018-09-03 21:05:00</td>\n",
       "      <td>2018</td>\n",
       "      <td>9</td>\n",
       "      <td>Monday</td>\n",
       "      <td>21</td>\n",
       "      <td>Part Three</td>\n",
       "      <td>DELHI ST</td>\n",
       "      <td>42.275365</td>\n",
       "      <td>-71.090361</td>\n",
       "      <td>(42.27536542, -71.09036101)</td>\n",
       "    </tr>\n",
       "    <tr>\n",
       "      <th>...</th>\n",
       "      <td>...</td>\n",
       "      <td>...</td>\n",
       "      <td>...</td>\n",
       "      <td>...</td>\n",
       "      <td>...</td>\n",
       "      <td>...</td>\n",
       "      <td>...</td>\n",
       "      <td>...</td>\n",
       "      <td>...</td>\n",
       "      <td>...</td>\n",
       "      <td>...</td>\n",
       "      <td>...</td>\n",
       "      <td>...</td>\n",
       "      <td>...</td>\n",
       "      <td>...</td>\n",
       "      <td>...</td>\n",
       "      <td>...</td>\n",
       "    </tr>\n",
       "    <tr>\n",
       "      <th>319068</th>\n",
       "      <td>I050310906-00</td>\n",
       "      <td>3125</td>\n",
       "      <td>Warrant Arrests</td>\n",
       "      <td>WARRANT ARREST</td>\n",
       "      <td>D4</td>\n",
       "      <td>285.0</td>\n",
       "      <td>False</td>\n",
       "      <td>2016-06-05 17:25:00</td>\n",
       "      <td>2016</td>\n",
       "      <td>6</td>\n",
       "      <td>Sunday</td>\n",
       "      <td>17</td>\n",
       "      <td>Part Three</td>\n",
       "      <td>COVENTRY ST</td>\n",
       "      <td>42.336951</td>\n",
       "      <td>-71.085748</td>\n",
       "      <td>(42.33695098, -71.08574813)</td>\n",
       "    </tr>\n",
       "    <tr>\n",
       "      <th>319069</th>\n",
       "      <td>I030217815-08</td>\n",
       "      <td>111</td>\n",
       "      <td>Homicide</td>\n",
       "      <td>MURDER, NON-NEGLIGIENT MANSLAUGHTER</td>\n",
       "      <td>E18</td>\n",
       "      <td>520.0</td>\n",
       "      <td>False</td>\n",
       "      <td>2015-07-09 13:38:00</td>\n",
       "      <td>2015</td>\n",
       "      <td>7</td>\n",
       "      <td>Thursday</td>\n",
       "      <td>13</td>\n",
       "      <td>Part One</td>\n",
       "      <td>RIVER ST</td>\n",
       "      <td>42.255926</td>\n",
       "      <td>-71.123172</td>\n",
       "      <td>(42.25592648, -71.12317207)</td>\n",
       "    </tr>\n",
       "    <tr>\n",
       "      <th>319070</th>\n",
       "      <td>I030217815-08</td>\n",
       "      <td>3125</td>\n",
       "      <td>Warrant Arrests</td>\n",
       "      <td>WARRANT ARREST</td>\n",
       "      <td>E18</td>\n",
       "      <td>520.0</td>\n",
       "      <td>False</td>\n",
       "      <td>2015-07-09 13:38:00</td>\n",
       "      <td>2015</td>\n",
       "      <td>7</td>\n",
       "      <td>Thursday</td>\n",
       "      <td>13</td>\n",
       "      <td>Part Three</td>\n",
       "      <td>RIVER ST</td>\n",
       "      <td>42.255926</td>\n",
       "      <td>-71.123172</td>\n",
       "      <td>(42.25592648, -71.12317207)</td>\n",
       "    </tr>\n",
       "    <tr>\n",
       "      <th>319071</th>\n",
       "      <td>I010370257-00</td>\n",
       "      <td>3125</td>\n",
       "      <td>Warrant Arrests</td>\n",
       "      <td>WARRANT ARREST</td>\n",
       "      <td>E13</td>\n",
       "      <td>569.0</td>\n",
       "      <td>False</td>\n",
       "      <td>2016-05-31 19:35:00</td>\n",
       "      <td>2016</td>\n",
       "      <td>5</td>\n",
       "      <td>Tuesday</td>\n",
       "      <td>19</td>\n",
       "      <td>Part Three</td>\n",
       "      <td>NEW WASHINGTON ST</td>\n",
       "      <td>42.302333</td>\n",
       "      <td>-71.111565</td>\n",
       "      <td>(42.30233307, -71.11156487)</td>\n",
       "    </tr>\n",
       "    <tr>\n",
       "      <th>319072</th>\n",
       "      <td>142052550</td>\n",
       "      <td>3125</td>\n",
       "      <td>Warrant Arrests</td>\n",
       "      <td>WARRANT ARREST</td>\n",
       "      <td>D4</td>\n",
       "      <td>903.0</td>\n",
       "      <td>False</td>\n",
       "      <td>2015-06-22 00:12:00</td>\n",
       "      <td>2015</td>\n",
       "      <td>6</td>\n",
       "      <td>Monday</td>\n",
       "      <td>0</td>\n",
       "      <td>Part Three</td>\n",
       "      <td>WASHINGTON ST</td>\n",
       "      <td>42.333839</td>\n",
       "      <td>-71.080290</td>\n",
       "      <td>(42.33383935, -71.08029038)</td>\n",
       "    </tr>\n",
       "  </tbody>\n",
       "</table>\n",
       "<p>319073 rows × 17 columns</p>\n",
       "</div>"
      ],
      "text/plain": [
       "       INCIDENT_NUMBER  OFFENSE_CODE    OFFENSE_CODE_GROUP  \\\n",
       "0           I182070945           619               Larceny   \n",
       "1           I182070943          1402             Vandalism   \n",
       "2           I182070941          3410                 Towed   \n",
       "3           I182070940          3114  Investigate Property   \n",
       "4           I182070938          3114  Investigate Property   \n",
       "...                ...           ...                   ...   \n",
       "319068   I050310906-00          3125       Warrant Arrests   \n",
       "319069   I030217815-08           111              Homicide   \n",
       "319070   I030217815-08          3125       Warrant Arrests   \n",
       "319071   I010370257-00          3125       Warrant Arrests   \n",
       "319072       142052550          3125       Warrant Arrests   \n",
       "\n",
       "                        OFFENSE_DESCRIPTION DISTRICT  REPORTING_AREA  \\\n",
       "0                        LARCENY ALL OTHERS      D14           808.0   \n",
       "1                                 VANDALISM      C11           347.0   \n",
       "2                       TOWED MOTOR VEHICLE       D4           151.0   \n",
       "3                      INVESTIGATE PROPERTY       D4           272.0   \n",
       "4                      INVESTIGATE PROPERTY       B3           421.0   \n",
       "...                                     ...      ...             ...   \n",
       "319068                       WARRANT ARREST       D4           285.0   \n",
       "319069  MURDER, NON-NEGLIGIENT MANSLAUGHTER      E18           520.0   \n",
       "319070                       WARRANT ARREST      E18           520.0   \n",
       "319071                       WARRANT ARREST      E13           569.0   \n",
       "319072                       WARRANT ARREST       D4           903.0   \n",
       "\n",
       "        SHOOTING    OCCURRED_ON_DATE  YEAR  MONTH DAY_OF_WEEK  HOUR  \\\n",
       "0          False 2018-09-02 13:00:00  2018      9      Sunday    13   \n",
       "1          False 2018-08-21 00:00:00  2018      8     Tuesday     0   \n",
       "2          False 2018-09-03 19:27:00  2018      9      Monday    19   \n",
       "3          False 2018-09-03 21:16:00  2018      9      Monday    21   \n",
       "4          False 2018-09-03 21:05:00  2018      9      Monday    21   \n",
       "...          ...                 ...   ...    ...         ...   ...   \n",
       "319068     False 2016-06-05 17:25:00  2016      6      Sunday    17   \n",
       "319069     False 2015-07-09 13:38:00  2015      7    Thursday    13   \n",
       "319070     False 2015-07-09 13:38:00  2015      7    Thursday    13   \n",
       "319071     False 2016-05-31 19:35:00  2016      5     Tuesday    19   \n",
       "319072     False 2015-06-22 00:12:00  2015      6      Monday     0   \n",
       "\n",
       "          UCR_PART             STREET        Lat       Long  \\\n",
       "0         Part One         LINCOLN ST  42.357791 -71.139371   \n",
       "1         Part Two           HECLA ST  42.306821 -71.060300   \n",
       "2       Part Three        CAZENOVE ST  42.346589 -71.072429   \n",
       "3       Part Three         NEWCOMB ST  42.334182 -71.078664   \n",
       "4       Part Three           DELHI ST  42.275365 -71.090361   \n",
       "...            ...                ...        ...        ...   \n",
       "319068  Part Three        COVENTRY ST  42.336951 -71.085748   \n",
       "319069    Part One           RIVER ST  42.255926 -71.123172   \n",
       "319070  Part Three           RIVER ST  42.255926 -71.123172   \n",
       "319071  Part Three  NEW WASHINGTON ST  42.302333 -71.111565   \n",
       "319072  Part Three      WASHINGTON ST  42.333839 -71.080290   \n",
       "\n",
       "                           Location  \n",
       "0       (42.35779134, -71.13937053)  \n",
       "1       (42.30682138, -71.06030035)  \n",
       "2       (42.34658879, -71.07242943)  \n",
       "3       (42.33418175, -71.07866441)  \n",
       "4       (42.27536542, -71.09036101)  \n",
       "...                             ...  \n",
       "319068  (42.33695098, -71.08574813)  \n",
       "319069  (42.25592648, -71.12317207)  \n",
       "319070  (42.25592648, -71.12317207)  \n",
       "319071  (42.30233307, -71.11156487)  \n",
       "319072  (42.33383935, -71.08029038)  \n",
       "\n",
       "[319073 rows x 17 columns]"
      ]
     },
     "execution_count": 10,
     "metadata": {},
     "output_type": "execute_result"
    }
   ],
   "source": [
    "crimes['SHOOTING'] = crimes['SHOOTING'].fillna(False)\n",
    "crimes['SHOOTING'] = crimes['SHOOTING'].replace(\"Y\", True)\n",
    "crimes"
   ]
  },
  {
   "cell_type": "markdown",
   "id": "1a010e38",
   "metadata": {},
   "source": [
    "(checking to make sure it is true and false)"
   ]
  },
  {
   "cell_type": "code",
   "execution_count": 11,
   "id": "15982705",
   "metadata": {},
   "outputs": [
    {
     "data": {
      "text/plain": [
       "False    318054\n",
       "True       1019\n",
       "Name: SHOOTING, dtype: int64"
      ]
     },
     "execution_count": 11,
     "metadata": {},
     "output_type": "execute_result"
    }
   ],
   "source": [
    "crimes.SHOOTING.value_counts()"
   ]
  },
  {
   "cell_type": "markdown",
   "id": "440d5e2d",
   "metadata": {},
   "source": [
    "(checking to make sure we have the right data types (and we do!)"
   ]
  },
  {
   "cell_type": "code",
   "execution_count": 12,
   "id": "97117486",
   "metadata": {},
   "outputs": [
    {
     "name": "stdout",
     "output_type": "stream",
     "text": [
      "<class 'pandas.core.frame.DataFrame'>\n",
      "RangeIndex: 319073 entries, 0 to 319072\n",
      "Data columns (total 17 columns):\n",
      " #   Column               Non-Null Count   Dtype         \n",
      "---  ------               --------------   -----         \n",
      " 0   INCIDENT_NUMBER      319073 non-null  object        \n",
      " 1   OFFENSE_CODE         319073 non-null  int64         \n",
      " 2   OFFENSE_CODE_GROUP   319073 non-null  object        \n",
      " 3   OFFENSE_DESCRIPTION  319073 non-null  object        \n",
      " 4   DISTRICT             317308 non-null  object        \n",
      " 5   REPORTING_AREA       298823 non-null  float64       \n",
      " 6   SHOOTING             319073 non-null  bool          \n",
      " 7   OCCURRED_ON_DATE     319073 non-null  datetime64[ns]\n",
      " 8   YEAR                 319073 non-null  int64         \n",
      " 9   MONTH                319073 non-null  int64         \n",
      " 10  DAY_OF_WEEK          319073 non-null  object        \n",
      " 11  HOUR                 319073 non-null  int64         \n",
      " 12  UCR_PART             318983 non-null  object        \n",
      " 13  STREET               308202 non-null  object        \n",
      " 14  Lat                  299074 non-null  float64       \n",
      " 15  Long                 299074 non-null  float64       \n",
      " 16  Location             319073 non-null  object        \n",
      "dtypes: bool(1), datetime64[ns](1), float64(3), int64(4), object(8)\n",
      "memory usage: 39.3+ MB\n"
     ]
    }
   ],
   "source": [
    "crimes.info()"
   ]
  },
  {
   "cell_type": "markdown",
   "id": "24b614da",
   "metadata": {},
   "source": [
    "### Basic Questions"
   ]
  },
  {
   "cell_type": "markdown",
   "id": "ada509a5",
   "metadata": {},
   "source": [
    "#### What are the range of dates being recorded?"
   ]
  },
  {
   "cell_type": "code",
   "execution_count": 13,
   "id": "caf9bcfb",
   "metadata": {},
   "outputs": [
    {
     "data": {
      "text/plain": [
       "max   2018-09-03 21:25:00\n",
       "min   2015-06-15 00:00:00\n",
       "Name: OCCURRED_ON_DATE, dtype: datetime64[ns]"
      ]
     },
     "execution_count": 13,
     "metadata": {},
     "output_type": "execute_result"
    }
   ],
   "source": [
    "crimes.OCCURRED_ON_DATE.sort_values(ascending=True).agg([max, min])"
   ]
  },
  {
   "cell_type": "markdown",
   "id": "f68a1751",
   "metadata": {},
   "source": [
    "#### What are all the unique groups of offense codes and which are most prevalent in the data?"
   ]
  },
  {
   "cell_type": "code",
   "execution_count": 14,
   "id": "bf6db95e",
   "metadata": {},
   "outputs": [],
   "source": [
    "offense_code_groups = crimes.OFFENSE_CODE_GROUP.value_counts().sort_values(ascending=False)"
   ]
  },
  {
   "cell_type": "markdown",
   "id": "92d8e6bb",
   "metadata": {},
   "source": [
    "TOP 10 offense code groups"
   ]
  },
  {
   "cell_type": "code",
   "execution_count": 15,
   "id": "22555444",
   "metadata": {},
   "outputs": [
    {
     "data": {
      "text/plain": [
       "Motor Vehicle Accident Response    37132\n",
       "Larceny                            25935\n",
       "Medical Assistance                 23540\n",
       "Investigate Person                 18750\n",
       "Other                              18075\n",
       "Drug Violation                     16548\n",
       "Simple Assault                     15826\n",
       "Vandalism                          15415\n",
       "Verbal Disputes                    13099\n",
       "Towed                              11287\n",
       "Name: OFFENSE_CODE_GROUP, dtype: int64"
      ]
     },
     "execution_count": 15,
     "metadata": {},
     "output_type": "execute_result"
    }
   ],
   "source": [
    "offense_code_groups.head(10)"
   ]
  },
  {
   "cell_type": "markdown",
   "id": "36f5259c",
   "metadata": {},
   "source": [
    "BOTTOM 10 offense code groups"
   ]
  },
  {
   "cell_type": "code",
   "execution_count": 16,
   "id": "17c31c92",
   "metadata": {},
   "outputs": [
    {
     "data": {
      "text/plain": [
       "Aircraft                                     36\n",
       "Phone Call Complaints                        31\n",
       "Explosives                                   27\n",
       "Manslaughter                                  8\n",
       "Gambling                                      8\n",
       "HUMAN TRAFFICKING                             7\n",
       "INVESTIGATE PERSON                            4\n",
       "Biological Threat                             2\n",
       "HUMAN TRAFFICKING - INVOLUNTARY SERVITUDE     2\n",
       "Burglary - No Property Taken                  2\n",
       "Name: OFFENSE_CODE_GROUP, dtype: int64"
      ]
     },
     "execution_count": 16,
     "metadata": {},
     "output_type": "execute_result"
    }
   ],
   "source": [
    "offense_code_groups.tail(10)"
   ]
  },
  {
   "cell_type": "markdown",
   "id": "f9b40a8f",
   "metadata": {},
   "source": [
    "### Questions"
   ]
  },
  {
   "cell_type": "markdown",
   "id": "6072a341",
   "metadata": {},
   "source": [
    "#### What percentage of murders involved a shooting? (Look at Murder, non-negligent manslaughter (offense_code 111))"
   ]
  },
  {
   "cell_type": "markdown",
   "id": "28dd44f5",
   "metadata": {},
   "source": [
    "https://www.w3schools.com/python/matplotlib_pie_charts.asp, https://www.tutorialspoint.com/how-to-get-the-index-and-values-of-series-in-pandas"
   ]
  },
  {
   "cell_type": "code",
   "execution_count": 17,
   "id": "7b17516a",
   "metadata": {},
   "outputs": [
    {
     "data": {
      "text/plain": [
       "SHOOTING\n",
       "False     40\n",
       "True     121\n",
       "Name: SHOOTING, dtype: int64"
      ]
     },
     "execution_count": 17,
     "metadata": {},
     "output_type": "execute_result"
    }
   ],
   "source": [
    "murders = crimes.loc[crimes.OFFENSE_CODE == 111].groupby('SHOOTING').SHOOTING.count()\n",
    "murders"
   ]
  },
  {
   "cell_type": "code",
   "execution_count": 18,
   "id": "3af468b5",
   "metadata": {},
   "outputs": [
    {
     "data": {
      "image/png": "[encoded data removed]",
      "text/plain": [
       "<Figure size 432x288 with 1 Axes>"
      ]
     },
     "metadata": {},
     "output_type": "display_data"
    }
   ],
   "source": [
    "plt.pie(murders, labels=murders.index, shadow=True, colors = ['c', '#fd8e08'])\n",
    "plt.show()"
   ]
  },
  {
   "cell_type": "markdown",
   "id": "7ff74dea",
   "metadata": {},
   "source": [
    "#### Are there certain times of the year when crime is more prevalent in Boston?"
   ]
  },
  {
   "cell_type": "markdown",
   "id": "013363de",
   "metadata": {},
   "source": [
    "(adding a new column in the original dataframe (crimes) with every month by number)"
   ]
  },
  {
   "cell_type": "markdown",
   "id": "ebd947b6",
   "metadata": {},
   "source": [
    "https://www.geeksforgeeks.org/python-change-column-names-and-row-indexes-in-pandas-dataframe/"
   ]
  },
  {
   "cell_type": "code",
   "execution_count": 19,
   "id": "2b5d4083",
   "metadata": {},
   "outputs": [
    {
     "data": {
      "text/html": [
       "<div>\n",
       "<style scoped>\n",
       "    .dataframe tbody tr th:only-of-type {\n",
       "        vertical-align: middle;\n",
       "    }\n",
       "\n",
       "    .dataframe tbody tr th {\n",
       "        vertical-align: top;\n",
       "    }\n",
       "\n",
       "    .dataframe thead th {\n",
       "        text-align: right;\n",
       "    }\n",
       "</style>\n",
       "<table border=\"1\" class=\"dataframe\">\n",
       "  <thead>\n",
       "    <tr style=\"text-align: right;\">\n",
       "      <th></th>\n",
       "      <th>2016</th>\n",
       "      <th>2015</th>\n",
       "      <th>2017</th>\n",
       "      <th>2018</th>\n",
       "      <th>Yearly Average</th>\n",
       "    </tr>\n",
       "    <tr>\n",
       "      <th>MONTH</th>\n",
       "      <th></th>\n",
       "      <th></th>\n",
       "      <th></th>\n",
       "      <th></th>\n",
       "      <th></th>\n",
       "    </tr>\n",
       "  </thead>\n",
       "  <tbody>\n",
       "    <tr>\n",
       "      <th>1</th>\n",
       "      <td>7835</td>\n",
       "      <td>NaN</td>\n",
       "      <td>7993</td>\n",
       "      <td>7782.0</td>\n",
       "      <td>7870.000000</td>\n",
       "    </tr>\n",
       "    <tr>\n",
       "      <th>2</th>\n",
       "      <td>7308</td>\n",
       "      <td>NaN</td>\n",
       "      <td>7408</td>\n",
       "      <td>6937.0</td>\n",
       "      <td>7217.666667</td>\n",
       "    </tr>\n",
       "    <tr>\n",
       "      <th>3</th>\n",
       "      <td>8199</td>\n",
       "      <td>NaN</td>\n",
       "      <td>8179</td>\n",
       "      <td>7768.0</td>\n",
       "      <td>8048.666667</td>\n",
       "    </tr>\n",
       "    <tr>\n",
       "      <th>4</th>\n",
       "      <td>8101</td>\n",
       "      <td>NaN</td>\n",
       "      <td>8069</td>\n",
       "      <td>7916.0</td>\n",
       "      <td>8028.666667</td>\n",
       "    </tr>\n",
       "    <tr>\n",
       "      <th>5</th>\n",
       "      <td>8578</td>\n",
       "      <td>NaN</td>\n",
       "      <td>8715</td>\n",
       "      <td>8906.0</td>\n",
       "      <td>8733.000000</td>\n",
       "    </tr>\n",
       "    <tr>\n",
       "      <th>6</th>\n",
       "      <td>8558</td>\n",
       "      <td>4191.0</td>\n",
       "      <td>8985</td>\n",
       "      <td>8834.0</td>\n",
       "      <td>7642.000000</td>\n",
       "    </tr>\n",
       "    <tr>\n",
       "      <th>7</th>\n",
       "      <td>8619</td>\n",
       "      <td>8324.0</td>\n",
       "      <td>9075</td>\n",
       "      <td>8538.0</td>\n",
       "      <td>8639.000000</td>\n",
       "    </tr>\n",
       "    <tr>\n",
       "      <th>8</th>\n",
       "      <td>8938</td>\n",
       "      <td>8342.0</td>\n",
       "      <td>9206</td>\n",
       "      <td>8337.0</td>\n",
       "      <td>8705.750000</td>\n",
       "    </tr>\n",
       "    <tr>\n",
       "      <th>9</th>\n",
       "      <td>8522</td>\n",
       "      <td>8414.0</td>\n",
       "      <td>8940</td>\n",
       "      <td>NaN</td>\n",
       "      <td>8625.333333</td>\n",
       "    </tr>\n",
       "    <tr>\n",
       "      <th>10</th>\n",
       "      <td>8583</td>\n",
       "      <td>8308.0</td>\n",
       "      <td>8846</td>\n",
       "      <td>NaN</td>\n",
       "      <td>8579.000000</td>\n",
       "    </tr>\n",
       "    <tr>\n",
       "      <th>11</th>\n",
       "      <td>7922</td>\n",
       "      <td>7818.0</td>\n",
       "      <td>7935</td>\n",
       "      <td>NaN</td>\n",
       "      <td>7891.666667</td>\n",
       "    </tr>\n",
       "    <tr>\n",
       "      <th>12</th>\n",
       "      <td>7951</td>\n",
       "      <td>7991.0</td>\n",
       "      <td>7535</td>\n",
       "      <td>NaN</td>\n",
       "      <td>7825.666667</td>\n",
       "    </tr>\n",
       "  </tbody>\n",
       "</table>\n",
       "</div>"
      ],
      "text/plain": [
       "       2016    2015  2017    2018  Yearly Average\n",
       "MONTH                                            \n",
       "1      7835     NaN  7993  7782.0     7870.000000\n",
       "2      7308     NaN  7408  6937.0     7217.666667\n",
       "3      8199     NaN  8179  7768.0     8048.666667\n",
       "4      8101     NaN  8069  7916.0     8028.666667\n",
       "5      8578     NaN  8715  8906.0     8733.000000\n",
       "6      8558  4191.0  8985  8834.0     7642.000000\n",
       "7      8619  8324.0  9075  8538.0     8639.000000\n",
       "8      8938  8342.0  9206  8337.0     8705.750000\n",
       "9      8522  8414.0  8940     NaN     8625.333333\n",
       "10     8583  8308.0  8846     NaN     8579.000000\n",
       "11     7922  7818.0  7935     NaN     7891.666667\n",
       "12     7951  7991.0  7535     NaN     7825.666667"
      ]
     },
     "execution_count": 19,
     "metadata": {},
     "output_type": "execute_result"
    }
   ],
   "source": [
    "crime_by_month = crimes.loc[crimes.YEAR == 2016].groupby('MONTH').MONTH.count().to_frame()\n",
    "crime_by_month.columns = ['2016']\n",
    "crime_by_month['2015'] = crimes.loc[crimes.YEAR == 2015].groupby('MONTH').MONTH.count()\n",
    "crime_by_month['2017'] = crimes.loc[crimes.YEAR == 2017].groupby('MONTH').MONTH.count()\n",
    "crime_by_month['2018'] = crimes.loc[crimes.YEAR == 2018].groupby('MONTH').MONTH.count().drop(9)\n",
    "crime_by_month['Yearly Average'] = crime_by_month.mean(axis=1)\n",
    "crime_by_month"
   ]
  },
  {
   "cell_type": "markdown",
   "id": "1e79d7d6",
   "metadata": {},
   "source": [
    "(my barchart is based of the yearly average of crimes per month) (also while the dates in the dateframe are not in order of time from left to right, I left it like that because it does not affect my Yearly Average column whatsoever and that is what my barchart is based on)"
   ]
  },
  {
   "cell_type": "code",
   "execution_count": 20,
   "id": "d414af39",
   "metadata": {
    "scrolled": true
   },
   "outputs": [
    {
     "data": {
      "image/png": "[encoded data removed]",
      "text/plain": [
       "<Figure size 432x288 with 1 Axes>"
      ]
     },
     "metadata": {
      "needs_background": "light"
     },
     "output_type": "display_data"
    }
   ],
   "source": [
    "ax=plt.subplots()\n",
    "\n",
    "ax=sns.barplot(x=crime_by_month.index, y=crime_by_month['Yearly Average'])\n",
    "\n",
    "ax.set(xlabel='Month', ylabel='Number of Crimes')\n",
    "\n",
    "plt.show()"
   ]
  },
  {
   "cell_type": "markdown",
   "id": "9fea6773",
   "metadata": {},
   "source": [
    "I don't think that there is really a time of year when crime is less in Boston. The least number of crimes is in February but I think that may just be because there are less days in February, so at least Boston has a fairly consistant amount of crimes."
   ]
  },
  {
   "cell_type": "markdown",
   "id": "78699bd2",
   "metadata": {},
   "source": [
    "### My Questions"
   ]
  },
  {
   "cell_type": "markdown",
   "id": "3d4131a8",
   "metadata": {},
   "source": [
    "#### What time of day is crime most and least prevalent?"
   ]
  },
  {
   "cell_type": "markdown",
   "id": "215e7792",
   "metadata": {},
   "source": [
    "(summing up all the crime that happened in every hour for the entire dataset)"
   ]
  },
  {
   "cell_type": "code",
   "execution_count": 21,
   "id": "f6d45c9c",
   "metadata": {
    "scrolled": true
   },
   "outputs": [
    {
     "data": {
      "text/html": [
       "<div>\n",
       "<style scoped>\n",
       "    .dataframe tbody tr th:only-of-type {\n",
       "        vertical-align: middle;\n",
       "    }\n",
       "\n",
       "    .dataframe tbody tr th {\n",
       "        vertical-align: top;\n",
       "    }\n",
       "\n",
       "    .dataframe thead th {\n",
       "        text-align: right;\n",
       "    }\n",
       "</style>\n",
       "<table border=\"1\" class=\"dataframe\">\n",
       "  <thead>\n",
       "    <tr style=\"text-align: right;\">\n",
       "      <th></th>\n",
       "      <th>TOTAL NUMBER OF CRIMES</th>\n",
       "    </tr>\n",
       "    <tr>\n",
       "      <th>HOUR</th>\n",
       "      <th></th>\n",
       "    </tr>\n",
       "  </thead>\n",
       "  <tbody>\n",
       "    <tr>\n",
       "      <th>0</th>\n",
       "      <td>15106</td>\n",
       "    </tr>\n",
       "    <tr>\n",
       "      <th>1</th>\n",
       "      <td>9269</td>\n",
       "    </tr>\n",
       "    <tr>\n",
       "      <th>2</th>\n",
       "      <td>7693</td>\n",
       "    </tr>\n",
       "    <tr>\n",
       "      <th>3</th>\n",
       "      <td>4589</td>\n",
       "    </tr>\n",
       "    <tr>\n",
       "      <th>4</th>\n",
       "      <td>3408</td>\n",
       "    </tr>\n",
       "    <tr>\n",
       "      <th>5</th>\n",
       "      <td>3311</td>\n",
       "    </tr>\n",
       "    <tr>\n",
       "      <th>6</th>\n",
       "      <td>5026</td>\n",
       "    </tr>\n",
       "    <tr>\n",
       "      <th>7</th>\n",
       "      <td>8850</td>\n",
       "    </tr>\n",
       "    <tr>\n",
       "      <th>8</th>\n",
       "      <td>13043</td>\n",
       "    </tr>\n",
       "    <tr>\n",
       "      <th>9</th>\n",
       "      <td>14740</td>\n",
       "    </tr>\n",
       "    <tr>\n",
       "      <th>10</th>\n",
       "      <td>16347</td>\n",
       "    </tr>\n",
       "    <tr>\n",
       "      <th>11</th>\n",
       "      <td>16448</td>\n",
       "    </tr>\n",
       "    <tr>\n",
       "      <th>12</th>\n",
       "      <td>18679</td>\n",
       "    </tr>\n",
       "    <tr>\n",
       "      <th>13</th>\n",
       "      <td>16846</td>\n",
       "    </tr>\n",
       "    <tr>\n",
       "      <th>14</th>\n",
       "      <td>17189</td>\n",
       "    </tr>\n",
       "    <tr>\n",
       "      <th>15</th>\n",
       "      <td>16522</td>\n",
       "    </tr>\n",
       "    <tr>\n",
       "      <th>16</th>\n",
       "      <td>19871</td>\n",
       "    </tr>\n",
       "    <tr>\n",
       "      <th>17</th>\n",
       "      <td>20763</td>\n",
       "    </tr>\n",
       "    <tr>\n",
       "      <th>18</th>\n",
       "      <td>20302</td>\n",
       "    </tr>\n",
       "    <tr>\n",
       "      <th>19</th>\n",
       "      <td>17588</td>\n",
       "    </tr>\n",
       "    <tr>\n",
       "      <th>20</th>\n",
       "      <td>15850</td>\n",
       "    </tr>\n",
       "    <tr>\n",
       "      <th>21</th>\n",
       "      <td>14111</td>\n",
       "    </tr>\n",
       "    <tr>\n",
       "      <th>22</th>\n",
       "      <td>12926</td>\n",
       "    </tr>\n",
       "    <tr>\n",
       "      <th>23</th>\n",
       "      <td>10596</td>\n",
       "    </tr>\n",
       "  </tbody>\n",
       "</table>\n",
       "</div>"
      ],
      "text/plain": [
       "      TOTAL NUMBER OF CRIMES\n",
       "HOUR                        \n",
       "0                      15106\n",
       "1                       9269\n",
       "2                       7693\n",
       "3                       4589\n",
       "4                       3408\n",
       "5                       3311\n",
       "6                       5026\n",
       "7                       8850\n",
       "8                      13043\n",
       "9                      14740\n",
       "10                     16347\n",
       "11                     16448\n",
       "12                     18679\n",
       "13                     16846\n",
       "14                     17189\n",
       "15                     16522\n",
       "16                     19871\n",
       "17                     20763\n",
       "18                     20302\n",
       "19                     17588\n",
       "20                     15850\n",
       "21                     14111\n",
       "22                     12926\n",
       "23                     10596"
      ]
     },
     "execution_count": 21,
     "metadata": {},
     "output_type": "execute_result"
    }
   ],
   "source": [
    "crime_date = crimes.groupby('HOUR').HOUR.count().to_frame()\n",
    "crime_date.columns = ['TOTAL NUMBER OF CRIMES']\n",
    "crime_date"
   ]
  },
  {
   "cell_type": "markdown",
   "id": "bcef2393",
   "metadata": {},
   "source": [
    "(representing it in a lineplot) (apparently 5:00 AM has the least amount of crime and incidents)"
   ]
  },
  {
   "cell_type": "code",
   "execution_count": 22,
   "id": "513c3bcb",
   "metadata": {},
   "outputs": [
    {
     "data": {
      "text/plain": [
       "Text(0, 0.5, 'AMOUNT OF CRIME')"
      ]
     },
     "execution_count": 22,
     "metadata": {},
     "output_type": "execute_result"
    },
    {
     "data": {
      "image/png": "[encoded data removed]",
      "text/plain": [
       "<Figure size 432x288 with 1 Axes>"
      ]
     },
     "metadata": {
      "needs_background": "light"
     },
     "output_type": "display_data"
    }
   ],
   "source": [
    "sns.lineplot(data=crime_date)\n",
    "plt.title('AMOUNT OF CRIME BY HOUR')\n",
    "plt.ylabel('AMOUNT OF CRIME')"
   ]
  },
  {
   "cell_type": "markdown",
   "id": "9312cb6e",
   "metadata": {},
   "source": [
    "(same data but represented in a fun colorful bar chart)"
   ]
  },
  {
   "cell_type": "code",
   "execution_count": 23,
   "id": "4c851581",
   "metadata": {},
   "outputs": [
    {
     "data": {
      "text/plain": [
       "Text(0, 0.5, 'AMOUNT OF CRIME')"
      ]
     },
     "execution_count": 23,
     "metadata": {},
     "output_type": "execute_result"
    },
    {
     "data": {
      "image/png": "[encoded data removed]",
      "text/plain": [
       "<Figure size 432x288 with 1 Axes>"
      ]
     },
     "metadata": {
      "needs_background": "light"
     },
     "output_type": "display_data"
    }
   ],
   "source": [
    "sns.barplot(data=crime_date, x=crime_date.index, y='TOTAL NUMBER OF CRIMES')\n",
    "plt.title('AMOUNT OF CRIME BY HOUR')\n",
    "plt.ylabel('AMOUNT OF CRIME')"
   ]
  },
  {
   "cell_type": "markdown",
   "id": "665843d0",
   "metadata": {},
   "source": [
    "I added various of the most common (and also HOMICIDE because I was interested) incidents and crimes  to the chart to see how they compared to the total amount of crime per hour."
   ]
  },
  {
   "cell_type": "code",
   "execution_count": 24,
   "id": "8db48c5f",
   "metadata": {},
   "outputs": [
    {
     "data": {
      "text/plain": [
       "<AxesSubplot:xlabel='HOUR'>"
      ]
     },
     "execution_count": 24,
     "metadata": {},
     "output_type": "execute_result"
    },
    {
     "data": {
      "image/png": "[encoded data removed]",
      "text/plain": [
       "<Figure size 432x288 with 1 Axes>"
      ]
     },
     "metadata": {
      "needs_background": "light"
     },
     "output_type": "display_data"
    }
   ],
   "source": [
    "crime_date['SIMPLE ASSAULTS'] = crimes.loc[crimes.OFFENSE_CODE_GROUP == 'Simple Assault'].groupby('HOUR').HOUR.count()\n",
    "crime_date['LARCENY'] = crimes.loc[crimes.OFFENSE_CODE_GROUP == 'Larceny'].groupby('HOUR').HOUR.count()\n",
    "crime_date['MOTOR VEHICLE ACCIDENT RESPONSE'] = crimes.loc[crimes.OFFENSE_CODE_GROUP == 'Motor Vehicle Accident Response'].groupby('HOUR').HOUR.count()\n",
    "crime_date['HOMICIDE'] = crimes.loc[crimes.OFFENSE_CODE_GROUP == 'Homicide'].groupby('HOUR').HOUR.count()\n",
    "sns.lineplot(data=crime_date)"
   ]
  },
  {
   "cell_type": "markdown",
   "id": "9909175c",
   "metadata": {},
   "source": [
    "I then wanted to see how these incidents and crimes looked over a 24 hour period and I felt that the total number of crimes was really obscuring the data, so I got rid of that column."
   ]
  },
  {
   "cell_type": "markdown",
   "id": "46b5a668",
   "metadata": {},
   "source": [
    "https://stackoverflow.com/questions/13411544/delete-a-column-from-a-pandas-dataframe"
   ]
  },
  {
   "cell_type": "code",
   "execution_count": 25,
   "id": "c66feb0f",
   "metadata": {},
   "outputs": [
    {
     "data": {
      "text/plain": [
       "<AxesSubplot:xlabel='HOUR'>"
      ]
     },
     "execution_count": 25,
     "metadata": {},
     "output_type": "execute_result"
    },
    {
     "data": {
      "image/png": "[encoded data removed]",
      "text/plain": [
       "<Figure size 432x288 with 1 Axes>"
      ]
     },
     "metadata": {
      "needs_background": "light"
     },
     "output_type": "display_data"
    }
   ],
   "source": [
    "crime_date_no_total = crime_date.drop('TOTAL NUMBER OF CRIMES', axis=1)\n",
    "sns.lineplot(data=crime_date_no_total)"
   ]
  },
  {
   "cell_type": "markdown",
   "id": "7fc4e726",
   "metadata": {},
   "source": [
    "Then I became interested in what times of day homicide is most likely to occur, since it doesn't have many data points and looks pretty much flat on the other lineplots."
   ]
  },
  {
   "cell_type": "code",
   "execution_count": 26,
   "id": "e15836d4",
   "metadata": {},
   "outputs": [
    {
     "data": {
      "text/plain": [
       "<AxesSubplot:xlabel='HOUR'>"
      ]
     },
     "execution_count": 26,
     "metadata": {},
     "output_type": "execute_result"
    },
    {
     "data": {
      "image/png": "[encoded data removed]",
      "text/plain": [
       "<Figure size 432x288 with 1 Axes>"
      ]
     },
     "metadata": {
      "needs_background": "light"
     },
     "output_type": "display_data"
    }
   ],
   "source": [
    "only_HOMICIDE = crime_date_no_total.drop(['SIMPLE ASSAULTS', 'LARCENY', 'MOTOR VEHICLE ACCIDENT RESPONSE'], axis=1)\n",
    "sns.lineplot(data=only_HOMICIDE)"
   ]
  },
  {
   "cell_type": "markdown",
   "id": "ef583d32",
   "metadata": {},
   "source": [
    "#### Where does most crime in Boston take place?"
   ]
  },
  {
   "cell_type": "markdown",
   "id": "82f0e006",
   "metadata": {},
   "source": [
    "https://datascientyst.com/plot-latitude-longitude-pandas-dataframe-python/, https://towardsdatascience.com/geopandas-101-plot-any-data-with-a-latitude-and-longitude-on-a-map-98e01944b972"
   ]
  },
  {
   "cell_type": "markdown",
   "id": "fd15976c",
   "metadata": {},
   "source": [
    "https://anaconda.org/conda-forge/geopandas, https://anaconda.org/conda-forge/shapely, https://data.boston.gov/dataset/city-of-boston-boundary, https://anaconda.org/conda-forge/descartes, https://anaconda.org/conda-forge/fiona, https://stackoverflow.com/questions/66994079/attributeerror-module-fiona-has-no-attribute-loading"
   ]
  },
  {
   "cell_type": "code",
   "execution_count": 39,
   "id": "72b6bbd0",
   "metadata": {},
   "outputs": [
    {
     "data": {
      "text/plain": [
       "<AxesSubplot:>"
      ]
     },
     "execution_count": 39,
     "metadata": {},
     "output_type": "execute_result"
    },
    {
     "data": {
      "image/png": "[encoded data removed]",
      "text/plain": [
       "<Figure size 1080x1080 with 1 Axes>"
      ]
     },
     "metadata": {
      "needs_background": "light"
     },
     "output_type": "display_data"
    }
   ],
   "source": [
    "boston_map = gpd.read_file('https://bostonopendata-boston.opendata.arcgis.com/datasets/boston::city-of-boston-boundary.zip?outSR=%7B%22latestWkid%22%3A2249%2C%22wkid%22%3A102686%7D')\n",
    "fig,ax = plt.subplots(figsize = (15,15))\n",
    "boston_map.plot(ax=ax)"
   ]
  },
  {
   "cell_type": "code",
   "execution_count": 55,
   "id": "cf8e4c17",
   "metadata": {},
   "outputs": [
    {
     "data": {
      "text/plain": [
       "0         POINT (-71.13937 42.35779)\n",
       "1         POINT (-71.06030 42.30682)\n",
       "2         POINT (-71.07243 42.34659)\n",
       "3         POINT (-71.07866 42.33418)\n",
       "4         POINT (-71.09036 42.27537)\n",
       "                     ...            \n",
       "319068    POINT (-71.08575 42.33695)\n",
       "319069    POINT (-71.12317 42.25593)\n",
       "319070    POINT (-71.12317 42.25593)\n",
       "319071    POINT (-71.11156 42.30233)\n",
       "319072    POINT (-71.08029 42.33384)\n",
       "Name: geometry, Length: 319073, dtype: geometry"
      ]
     },
     "execution_count": 55,
     "metadata": {},
     "output_type": "execute_result"
    }
   ],
   "source": [
    "geometry= [Point(xy) for xy in zip(crimes['Long'], crimes['Lat'])]\n",
    "place_crimes = gpd.GeoDataFrame(crimes, geometry = geometry)\n",
    "\n",
    "place_crimes['geometry']\n",
    "\n",
    "geometry = place_crimes.geometry.to_numpy()\n",
    "geometry"
   ]
  },
  {
   "cell_type": "code",
   "execution_count": 62,
   "id": "c6eefaad",
   "metadata": {},
   "outputs": [
    {
     "ename": "OSError",
     "evalue": "exception: access violation writing 0x00007FFF83E45BC0",
     "output_type": "error",
     "traceback": [
      "\u001b[1;31m---------------------------------------------------------------------------\u001b[0m",
      "\u001b[1;31mOSError\u001b[0m                                   Traceback (most recent call last)",
      "Input \u001b[1;32mIn [62]\u001b[0m, in \u001b[0;36m<cell line: 2>\u001b[1;34m()\u001b[0m\n\u001b[0;32m      1\u001b[0m \u001b[38;5;66;03m# fig,ax = plt.subplots(figsize = (15,15))\u001b[39;00m\n\u001b[1;32m----> 2\u001b[0m \u001b[43mboston_map\u001b[49m\u001b[38;5;241;43m.\u001b[39;49m\u001b[43mplot\u001b[49m\u001b[43m(\u001b[49m\u001b[38;5;124;43m\"\u001b[39;49m\u001b[38;5;124;43mgeometry\u001b[39;49m\u001b[38;5;124;43m\"\u001b[39;49m\u001b[43m)\u001b[49m\n",
      "File \u001b[1;32m~\\AppData\\Roaming\\Python\\Python39\\site-packages\\geopandas\\plotting.py:968\u001b[0m, in \u001b[0;36mGeoplotAccessor.__call__\u001b[1;34m(self, *args, **kwargs)\u001b[0m\n\u001b[0;32m    966\u001b[0m kind \u001b[38;5;241m=\u001b[39m kwargs\u001b[38;5;241m.\u001b[39mpop(\u001b[38;5;124m\"\u001b[39m\u001b[38;5;124mkind\u001b[39m\u001b[38;5;124m\"\u001b[39m, \u001b[38;5;124m\"\u001b[39m\u001b[38;5;124mgeo\u001b[39m\u001b[38;5;124m\"\u001b[39m)\n\u001b[0;32m    967\u001b[0m \u001b[38;5;28;01mif\u001b[39;00m kind \u001b[38;5;241m==\u001b[39m \u001b[38;5;124m\"\u001b[39m\u001b[38;5;124mgeo\u001b[39m\u001b[38;5;124m\"\u001b[39m:\n\u001b[1;32m--> 968\u001b[0m     \u001b[38;5;28;01mreturn\u001b[39;00m plot_dataframe(data, \u001b[38;5;241m*\u001b[39margs, \u001b[38;5;241m*\u001b[39m\u001b[38;5;241m*\u001b[39mkwargs)\n\u001b[0;32m    969\u001b[0m \u001b[38;5;28;01mif\u001b[39;00m kind \u001b[38;5;129;01min\u001b[39;00m \u001b[38;5;28mself\u001b[39m\u001b[38;5;241m.\u001b[39m_pandas_kinds:\n\u001b[0;32m    970\u001b[0m     \u001b[38;5;66;03m# Access pandas plots\u001b[39;00m\n\u001b[0;32m    971\u001b[0m     \u001b[38;5;28;01mreturn\u001b[39;00m PlotAccessor(data)(kind\u001b[38;5;241m=\u001b[39mkind, \u001b[38;5;241m*\u001b[39m\u001b[38;5;241m*\u001b[39mkwargs)\n",
      "File \u001b[1;32m~\\AppData\\Roaming\\Python\\Python39\\site-packages\\geopandas\\plotting.py:807\u001b[0m, in \u001b[0;36mplot_dataframe\u001b[1;34m(df, column, cmap, color, ax, cax, categorical, legend, scheme, k, vmin, vmax, markersize, figsize, legend_kwds, categories, classification_kwds, missing_kwds, aspect, **style_kwds)\u001b[0m\n\u001b[0;32m    804\u001b[0m \u001b[38;5;28;01mif\u001b[39;00m cmap \u001b[38;5;129;01mis\u001b[39;00m \u001b[38;5;28;01mNone\u001b[39;00m:\n\u001b[0;32m    805\u001b[0m     cmap \u001b[38;5;241m=\u001b[39m \u001b[38;5;124m\"\u001b[39m\u001b[38;5;124mtab10\u001b[39m\u001b[38;5;124m\"\u001b[39m\n\u001b[1;32m--> 807\u001b[0m cat \u001b[38;5;241m=\u001b[39m \u001b[43mpd\u001b[49m\u001b[38;5;241;43m.\u001b[39;49m\u001b[43mCategorical\u001b[49m\u001b[43m(\u001b[49m\u001b[43mvalues\u001b[49m\u001b[43m,\u001b[49m\u001b[43m \u001b[49m\u001b[43mcategories\u001b[49m\u001b[38;5;241;43m=\u001b[39;49m\u001b[43mcategories\u001b[49m\u001b[43m)\u001b[49m\n\u001b[0;32m    808\u001b[0m categories \u001b[38;5;241m=\u001b[39m \u001b[38;5;28mlist\u001b[39m(cat\u001b[38;5;241m.\u001b[39mcategories)\n\u001b[0;32m    810\u001b[0m \u001b[38;5;66;03m# values missing in the Categorical but not in original values\u001b[39;00m\n",
      "File \u001b[1;32mC:\\ProgramData\\Anaconda3\\lib\\site-packages\\pandas\\core\\arrays\\categorical.py:438\u001b[0m, in \u001b[0;36mCategorical.__init__\u001b[1;34m(self, values, categories, ordered, dtype, fastpath, copy)\u001b[0m\n\u001b[0;32m    436\u001b[0m \u001b[38;5;28;01mif\u001b[39;00m dtype\u001b[38;5;241m.\u001b[39mcategories \u001b[38;5;129;01mis\u001b[39;00m \u001b[38;5;28;01mNone\u001b[39;00m:\n\u001b[0;32m    437\u001b[0m     \u001b[38;5;28;01mtry\u001b[39;00m:\n\u001b[1;32m--> 438\u001b[0m         codes, categories \u001b[38;5;241m=\u001b[39m \u001b[43mfactorize\u001b[49m\u001b[43m(\u001b[49m\u001b[43mvalues\u001b[49m\u001b[43m,\u001b[49m\u001b[43m \u001b[49m\u001b[43msort\u001b[49m\u001b[38;5;241;43m=\u001b[39;49m\u001b[38;5;28;43;01mTrue\u001b[39;49;00m\u001b[43m)\u001b[49m\n\u001b[0;32m    439\u001b[0m     \u001b[38;5;28;01mexcept\u001b[39;00m \u001b[38;5;167;01mTypeError\u001b[39;00m \u001b[38;5;28;01mas\u001b[39;00m err:\n\u001b[0;32m    440\u001b[0m         codes, categories \u001b[38;5;241m=\u001b[39m factorize(values, sort\u001b[38;5;241m=\u001b[39m\u001b[38;5;28;01mFalse\u001b[39;00m)\n",
      "File \u001b[1;32mC:\\ProgramData\\Anaconda3\\lib\\site-packages\\pandas\\core\\algorithms.py:749\u001b[0m, in \u001b[0;36mfactorize\u001b[1;34m(values, sort, na_sentinel, size_hint)\u001b[0m\n\u001b[0;32m    745\u001b[0m     \u001b[38;5;28;01mreturn\u001b[39;00m codes, uniques\n\u001b[0;32m    747\u001b[0m \u001b[38;5;28;01mif\u001b[39;00m \u001b[38;5;129;01mnot\u001b[39;00m \u001b[38;5;28misinstance\u001b[39m(values\u001b[38;5;241m.\u001b[39mdtype, np\u001b[38;5;241m.\u001b[39mdtype):\n\u001b[0;32m    748\u001b[0m     \u001b[38;5;66;03m# i.e. ExtensionDtype\u001b[39;00m\n\u001b[1;32m--> 749\u001b[0m     codes, uniques \u001b[38;5;241m=\u001b[39m \u001b[43mvalues\u001b[49m\u001b[38;5;241;43m.\u001b[39;49m\u001b[43mfactorize\u001b[49m\u001b[43m(\u001b[49m\u001b[43mna_sentinel\u001b[49m\u001b[38;5;241;43m=\u001b[39;49m\u001b[43mna_sentinel\u001b[49m\u001b[43m)\u001b[49m\n\u001b[0;32m    750\u001b[0m     dtype \u001b[38;5;241m=\u001b[39m original\u001b[38;5;241m.\u001b[39mdtype\n\u001b[0;32m    751\u001b[0m \u001b[38;5;28;01melse\u001b[39;00m:\n",
      "File \u001b[1;32mC:\\ProgramData\\Anaconda3\\lib\\site-packages\\pandas\\core\\arrays\\base.py:1022\u001b[0m, in \u001b[0;36mExtensionArray.factorize\u001b[1;34m(self, na_sentinel)\u001b[0m\n\u001b[0;32m    984\u001b[0m \u001b[38;5;124;03m\"\"\"\u001b[39;00m\n\u001b[0;32m    985\u001b[0m \u001b[38;5;124;03mEncode the extension array as an enumerated type.\u001b[39;00m\n\u001b[0;32m    986\u001b[0m \n\u001b[1;32m   (...)\u001b[0m\n\u001b[0;32m   1012\u001b[0m \u001b[38;5;124;03m:meth:`pandas.factorize` offers a `sort` keyword as well.\u001b[39;00m\n\u001b[0;32m   1013\u001b[0m \u001b[38;5;124;03m\"\"\"\u001b[39;00m\n\u001b[0;32m   1014\u001b[0m \u001b[38;5;66;03m# Implementer note: There are two ways to override the behavior of\u001b[39;00m\n\u001b[0;32m   1015\u001b[0m \u001b[38;5;66;03m# pandas.factorize\u001b[39;00m\n\u001b[0;32m   1016\u001b[0m \u001b[38;5;66;03m# 1. _values_for_factorize and _from_factorize.\u001b[39;00m\n\u001b[1;32m   (...)\u001b[0m\n\u001b[0;32m   1020\u001b[0m \u001b[38;5;66;03m# 2. ExtensionArray.factorize.\u001b[39;00m\n\u001b[0;32m   1021\u001b[0m \u001b[38;5;66;03m#    Complete control over factorization.\u001b[39;00m\n\u001b[1;32m-> 1022\u001b[0m arr, na_value \u001b[38;5;241m=\u001b[39m \u001b[38;5;28;43mself\u001b[39;49m\u001b[38;5;241;43m.\u001b[39;49m\u001b[43m_values_for_factorize\u001b[49m\u001b[43m(\u001b[49m\u001b[43m)\u001b[49m\n\u001b[0;32m   1024\u001b[0m codes, uniques \u001b[38;5;241m=\u001b[39m factorize_array(\n\u001b[0;32m   1025\u001b[0m     arr, na_sentinel\u001b[38;5;241m=\u001b[39mna_sentinel, na_value\u001b[38;5;241m=\u001b[39mna_value\n\u001b[0;32m   1026\u001b[0m )\n\u001b[0;32m   1028\u001b[0m uniques_ea \u001b[38;5;241m=\u001b[39m \u001b[38;5;28mself\u001b[39m\u001b[38;5;241m.\u001b[39m_from_factorized(uniques, \u001b[38;5;28mself\u001b[39m)\n",
      "File \u001b[1;32m~\\AppData\\Roaming\\Python\\Python39\\site-packages\\geopandas\\array.py:1215\u001b[0m, in \u001b[0;36mGeometryArray._values_for_factorize\u001b[1;34m(self)\u001b[0m\n\u001b[0;32m   1199\u001b[0m \u001b[38;5;28;01mdef\u001b[39;00m \u001b[38;5;21m_values_for_factorize\u001b[39m(\u001b[38;5;28mself\u001b[39m):\n\u001b[0;32m   1200\u001b[0m     \u001b[38;5;66;03m# type: () -> Tuple[np.ndarray, Any]\u001b[39;00m\n\u001b[0;32m   1201\u001b[0m     \u001b[38;5;124;03m\"\"\"Return an array and missing value suitable for factorization.\u001b[39;00m\n\u001b[0;32m   1202\u001b[0m \n\u001b[0;32m   1203\u001b[0m \u001b[38;5;124;03m    Returns\u001b[39;00m\n\u001b[1;32m   (...)\u001b[0m\n\u001b[0;32m   1213\u001b[0m \u001b[38;5;124;03m        ``np.nan`` is used.\u001b[39;00m\n\u001b[0;32m   1214\u001b[0m \u001b[38;5;124;03m    \"\"\"\u001b[39;00m\n\u001b[1;32m-> 1215\u001b[0m     vals \u001b[38;5;241m=\u001b[39m \u001b[43mto_wkb\u001b[49m\u001b[43m(\u001b[49m\u001b[38;5;28;43mself\u001b[39;49m\u001b[43m)\u001b[49m\n\u001b[0;32m   1216\u001b[0m     \u001b[38;5;28;01mreturn\u001b[39;00m vals, \u001b[38;5;28;01mNone\u001b[39;00m\n",
      "File \u001b[1;32m~\\AppData\\Roaming\\Python\\Python39\\site-packages\\geopandas\\array.py:189\u001b[0m, in \u001b[0;36mto_wkb\u001b[1;34m(geoms, hex, **kwargs)\u001b[0m\n\u001b[0;32m    187\u001b[0m \u001b[38;5;28;01mif\u001b[39;00m \u001b[38;5;129;01mnot\u001b[39;00m \u001b[38;5;28misinstance\u001b[39m(geoms, GeometryArray):\n\u001b[0;32m    188\u001b[0m     \u001b[38;5;28;01mraise\u001b[39;00m \u001b[38;5;167;01mValueError\u001b[39;00m(\u001b[38;5;124m\"\u001b[39m\u001b[38;5;124m'\u001b[39m\u001b[38;5;124mgeoms\u001b[39m\u001b[38;5;124m'\u001b[39m\u001b[38;5;124m must be a GeometryArray\u001b[39m\u001b[38;5;124m\"\u001b[39m)\n\u001b[1;32m--> 189\u001b[0m \u001b[38;5;28;01mreturn\u001b[39;00m vectorized\u001b[38;5;241m.\u001b[39mto_wkb(geoms\u001b[38;5;241m.\u001b[39mdata, \u001b[38;5;28mhex\u001b[39m\u001b[38;5;241m=\u001b[39m\u001b[38;5;28mhex\u001b[39m, \u001b[38;5;241m*\u001b[39m\u001b[38;5;241m*\u001b[39mkwargs)\n",
      "File \u001b[1;32m~\\AppData\\Roaming\\Python\\Python39\\site-packages\\geopandas\\_vectorized.py:201\u001b[0m, in \u001b[0;36mto_wkb\u001b[1;34m(data, hex, **kwargs)\u001b[0m\n\u001b[0;32m    199\u001b[0m     out \u001b[38;5;241m=\u001b[39m [geom\u001b[38;5;241m.\u001b[39mwkb_hex \u001b[38;5;28;01mif\u001b[39;00m geom \u001b[38;5;129;01mis\u001b[39;00m \u001b[38;5;129;01mnot\u001b[39;00m \u001b[38;5;28;01mNone\u001b[39;00m \u001b[38;5;28;01melse\u001b[39;00m \u001b[38;5;28;01mNone\u001b[39;00m \u001b[38;5;28;01mfor\u001b[39;00m geom \u001b[38;5;129;01min\u001b[39;00m data]\n\u001b[0;32m    200\u001b[0m \u001b[38;5;28;01melse\u001b[39;00m:\n\u001b[1;32m--> 201\u001b[0m     out \u001b[38;5;241m=\u001b[39m [geom\u001b[38;5;241m.\u001b[39mwkb \u001b[38;5;28;01mif\u001b[39;00m geom \u001b[38;5;129;01mis\u001b[39;00m \u001b[38;5;129;01mnot\u001b[39;00m \u001b[38;5;28;01mNone\u001b[39;00m \u001b[38;5;28;01melse\u001b[39;00m \u001b[38;5;28;01mNone\u001b[39;00m \u001b[38;5;28;01mfor\u001b[39;00m geom \u001b[38;5;129;01min\u001b[39;00m data]\n\u001b[0;32m    202\u001b[0m \u001b[38;5;28;01mreturn\u001b[39;00m np\u001b[38;5;241m.\u001b[39marray(out, dtype\u001b[38;5;241m=\u001b[39m\u001b[38;5;28mobject\u001b[39m)\n",
      "File \u001b[1;32m~\\AppData\\Roaming\\Python\\Python39\\site-packages\\geopandas\\_vectorized.py:201\u001b[0m, in \u001b[0;36m<listcomp>\u001b[1;34m(.0)\u001b[0m\n\u001b[0;32m    199\u001b[0m     out \u001b[38;5;241m=\u001b[39m [geom\u001b[38;5;241m.\u001b[39mwkb_hex \u001b[38;5;28;01mif\u001b[39;00m geom \u001b[38;5;129;01mis\u001b[39;00m \u001b[38;5;129;01mnot\u001b[39;00m \u001b[38;5;28;01mNone\u001b[39;00m \u001b[38;5;28;01melse\u001b[39;00m \u001b[38;5;28;01mNone\u001b[39;00m \u001b[38;5;28;01mfor\u001b[39;00m geom \u001b[38;5;129;01min\u001b[39;00m data]\n\u001b[0;32m    200\u001b[0m \u001b[38;5;28;01melse\u001b[39;00m:\n\u001b[1;32m--> 201\u001b[0m     out \u001b[38;5;241m=\u001b[39m [\u001b[43mgeom\u001b[49m\u001b[38;5;241;43m.\u001b[39;49m\u001b[43mwkb\u001b[49m \u001b[38;5;28;01mif\u001b[39;00m geom \u001b[38;5;129;01mis\u001b[39;00m \u001b[38;5;129;01mnot\u001b[39;00m \u001b[38;5;28;01mNone\u001b[39;00m \u001b[38;5;28;01melse\u001b[39;00m \u001b[38;5;28;01mNone\u001b[39;00m \u001b[38;5;28;01mfor\u001b[39;00m geom \u001b[38;5;129;01min\u001b[39;00m data]\n\u001b[0;32m    202\u001b[0m \u001b[38;5;28;01mreturn\u001b[39;00m np\u001b[38;5;241m.\u001b[39marray(out, dtype\u001b[38;5;241m=\u001b[39m\u001b[38;5;28mobject\u001b[39m)\n",
      "File \u001b[1;32m~\\AppData\\Roaming\\Python\\Python39\\site-packages\\shapely\\geometry\\base.py:376\u001b[0m, in \u001b[0;36mBaseGeometry.wkb\u001b[1;34m(self)\u001b[0m\n\u001b[0;32m    373\u001b[0m \u001b[38;5;129m@property\u001b[39m\n\u001b[0;32m    374\u001b[0m \u001b[38;5;28;01mdef\u001b[39;00m \u001b[38;5;21mwkb\u001b[39m(\u001b[38;5;28mself\u001b[39m):\n\u001b[0;32m    375\u001b[0m     \u001b[38;5;124;03m\"\"\"WKB representation of the geometry\"\"\"\u001b[39;00m\n\u001b[1;32m--> 376\u001b[0m     \u001b[38;5;28;01mreturn\u001b[39;00m \u001b[43mWKBWriter\u001b[49m\u001b[43m(\u001b[49m\u001b[43mlgeos\u001b[49m\u001b[43m)\u001b[49m\u001b[38;5;241;43m.\u001b[39;49m\u001b[43mwrite\u001b[49m\u001b[43m(\u001b[49m\u001b[38;5;28;43mself\u001b[39;49m\u001b[43m)\u001b[49m\n",
      "File \u001b[1;32m~\\AppData\\Roaming\\Python\\Python39\\site-packages\\shapely\\geos.py:556\u001b[0m, in \u001b[0;36mWKBWriter.write\u001b[1;34m(self, geom)\u001b[0m\n\u001b[0;32m    554\u001b[0m     \u001b[38;5;28;01mraise\u001b[39;00m InvalidGeometryError(\u001b[38;5;124m\"\u001b[39m\u001b[38;5;124mNull geometry supports no operations\u001b[39m\u001b[38;5;124m\"\u001b[39m)\n\u001b[0;32m    555\u001b[0m size \u001b[38;5;241m=\u001b[39m c_size_t()\n\u001b[1;32m--> 556\u001b[0m result \u001b[38;5;241m=\u001b[39m \u001b[38;5;28;43mself\u001b[39;49m\u001b[38;5;241;43m.\u001b[39;49m\u001b[43m_lgeos\u001b[49m\u001b[38;5;241;43m.\u001b[39;49m\u001b[43mGEOSWKBWriter_write\u001b[49m\u001b[43m(\u001b[49m\n\u001b[0;32m    557\u001b[0m \u001b[43m    \u001b[49m\u001b[38;5;28;43mself\u001b[39;49m\u001b[38;5;241;43m.\u001b[39;49m\u001b[43m_writer\u001b[49m\u001b[43m,\u001b[49m\u001b[43m \u001b[49m\u001b[43mgeom\u001b[49m\u001b[38;5;241;43m.\u001b[39;49m\u001b[43m_geom\u001b[49m\u001b[43m,\u001b[49m\u001b[43m \u001b[49m\u001b[43mpointer\u001b[49m\u001b[43m(\u001b[49m\u001b[43msize\u001b[49m\u001b[43m)\u001b[49m\u001b[43m)\u001b[49m\n\u001b[0;32m    558\u001b[0m data \u001b[38;5;241m=\u001b[39m string_at(result, size\u001b[38;5;241m.\u001b[39mvalue)\n\u001b[0;32m    559\u001b[0m lgeos\u001b[38;5;241m.\u001b[39mGEOSFree(result)\n",
      "\u001b[1;31mOSError\u001b[0m: exception: access violation writing 0x00007FFF83E45BC0"
     ]
    },
    {
     "data": {
      "image/png": "[encoded data removed]",
      "text/plain": [
       "<Figure size 432x288 with 1 Axes>"
      ]
     },
     "metadata": {
      "needs_background": "light"
     },
     "output_type": "display_data"
    }
   ],
   "source": [
    "# fig,ax = plt.subplots(figsize = (15,15))\n",
    "boston_map.plot(\"geometry\")"
   ]
  },
  {
   "cell_type": "code",
   "execution_count": null,
   "id": "3203b2f9",
   "metadata": {},
   "outputs": [],
   "source": []
  }
 ],
 "metadata": {
  "kernelspec": {
   "display_name": "Python 3 (ipykernel)",
   "language": "python",
   "name": "python3"
  },
  "language_info": {
   "codemirror_mode": {
    "name": "ipython",
    "version": 3
   },
   "file_extension": ".py",
   "mimetype": "text/x-python",
   "name": "python",
   "nbconvert_exporter": "python",
   "pygments_lexer": "ipython3",
   "version": "3.9.12"
  }
 },
 "nbformat": 4,
 "nbformat_minor": 5
}
