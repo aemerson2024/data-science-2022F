{
 "cells": [
  {
   "cell_type": "markdown",
   "id": "f5e73f25",
   "metadata": {},
   "source": [
    "# Python Crash Course - By Alexis\n",
    "\n",
    "*The sun was shining very brightly this morning*, **right into my eyes as I drove on the terrible highway that is 128**\n",
    "**What went wrong**\n",
    "1. Nothing really\n",
    "2. But my brother was late, considering I told him 5 minutes at 6:50 or 6:49 and he got there at 7:02.\n",
    "3. The sun.\n",
    "4. The terrible terrible sun.\n",
    "5. If only it was dark, only then I'd probably forget to put on my lights.\n",
    "**Positives**\n",
    "1. A very angry bus driver did not honk at me today.\n",
    "2. I didn't almost run someone over.\n",
    "3. I made sure to close my door today."
   ]
  },
  {
   "cell_type": "code",
   "execution_count": null,
   "id": "aedf8f50",
   "metadata": {},
   "outputs": [],
   "source": []
  }
 ],
 "metadata": {
  "kernelspec": {
   "display_name": "Python 3 (ipykernel)",
   "language": "python",
   "name": "python3"
  },
  "language_info": {
   "codemirror_mode": {
    "name": "ipython",
    "version": 3
   },
   "file_extension": ".py",
   "mimetype": "text/x-python",
   "name": "python",
   "nbconvert_exporter": "python",
   "pygments_lexer": "ipython3",
   "version": "3.9.12"
  }
 },
 "nbformat": 4,
 "nbformat_minor": 5
}
