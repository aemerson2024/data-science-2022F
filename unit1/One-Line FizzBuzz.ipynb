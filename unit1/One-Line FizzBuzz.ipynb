{
 "cells": [
  {
   "cell_type": "markdown",
   "id": "690a742f",
   "metadata": {},
   "source": [
    "## One-Line FizzBuzz"
   ]
  },
  {
   "cell_type": "markdown",
   "id": "9f628eba",
   "metadata": {},
   "source": [
    "### I showed pretty much my entire process and the last one is my answer. I will be sure to mark it as such."
   ]
  },
  {
   "cell_type": "code",
   "execution_count": 4,
   "id": "8e9a1a2c",
   "metadata": {},
   "outputs": [],
   "source": [
    "numbers = (1, 2, 3, 4, 5, 6, 7, 8, 9, 10, 11, 12, 13, 14, 15, 16, 17, 18, 19, 20) \n",
    "# this list was used before I figured out the range"
   ]
  },
  {
   "cell_type": "markdown",
   "id": "cc2ffed0",
   "metadata": {},
   "source": [
    "##### How I would do this before list comprehension"
   ]
  },
  {
   "cell_type": "code",
   "execution_count": 33,
   "id": "8a22b821",
   "metadata": {},
   "outputs": [
    {
     "name": "stdout",
     "output_type": "stream",
     "text": [
      "1\n",
      "2\n",
      "Fizz\n",
      "4\n",
      "Buzz\n",
      "Fizz\n",
      "7\n",
      "8\n",
      "Fizz\n",
      "Buzz\n",
      "11\n",
      "Fizz\n",
      "13\n",
      "14\n",
      "FizzBuzz\n"
     ]
    }
   ],
   "source": [
    "for n in range(1, 16):\n",
    "    if n%15 == 0:\n",
    "        print(\"FizzBuzz\")\n",
    "    elif n%3 == 0:\n",
    "        print(\"Fizz\")\n",
    "    elif n%5 == 0:\n",
    "        print(\"Buzz\")\n",
    "    else:\n",
    "        print(n)"
   ]
  },
  {
   "cell_type": "code",
   "execution_count": 34,
   "id": "8853e27d",
   "metadata": {},
   "outputs": [
    {
     "name": "stdout",
     "output_type": "stream",
     "text": [
      "['FizzBuzz']\n"
     ]
    }
   ],
   "source": [
    "fizzbuzz = [\"FizzBuzz\" for n in range(1, 16) if n%15 == 0]\n",
    "print(fizzbuzz)"
   ]
  },
  {
   "cell_type": "code",
   "execution_count": 35,
   "id": "189c4827",
   "metadata": {},
   "outputs": [
    {
     "name": "stdout",
     "output_type": "stream",
     "text": [
      "[1, 2, 3, 4, 5, 6, 7, 8, 9, 10, 11, 12, 13, 14, 'FizzBuzz']\n"
     ]
    }
   ],
   "source": [
    "fizzbuzz = [\"FizzBuzz\" if n%15 == 0 else n for n in range(1, 16)]\n",
    "print(fizzbuzz)"
   ]
  },
  {
   "cell_type": "code",
   "execution_count": 8,
   "id": "5cc61f10",
   "metadata": {},
   "outputs": [
    {
     "name": "stdout",
     "output_type": "stream",
     "text": [
      "[<generator object <genexpr> at 0x0000021C8FF20C10>]\n"
     ]
    }
   ],
   "source": [
    "fizzbuzz = [(\"FizzBuzz\" if n%15 == 0 else (\"Fizz\" if n%3 ==0 else (\"Buzz\" if n%5 == 0 else n)) for n in range(1,16))]\n",
    "print(fizzbuzz)"
   ]
  },
  {
   "cell_type": "markdown",
   "id": "fb9b23cb",
   "metadata": {},
   "source": [
    "###### https://stackoverflow.com/questions/10272898/multiple-if-conditions-in-a-python-list-comprehension was how I looked up how to do the above line, it doesn't work but citations!"
   ]
  },
  {
   "cell_type": "code",
   "execution_count": 9,
   "id": "10a83916",
   "metadata": {
    "scrolled": true
   },
   "outputs": [
    {
     "name": "stdout",
     "output_type": "stream",
     "text": [
      "[1, 2, 'Fizz', 4, 'Buzz', 'Fizz', 7, 8, 'Fizz', 'Buzz', 11, 'Fizz', 13, 14, 'FizzBuzz', 16, 17, 'Fizz', 19, 'Buzz', 'Fizz', 22, 23, 'Fizz', 'Buzz', 26, 'Fizz', 28, 29, 'FizzBuzz', 31, 32, 'Fizz', 34, 'Buzz', 'Fizz', 37, 38, 'Fizz', 'Buzz', 41, 'Fizz', 43, 44, 'FizzBuzz', 46, 47, 'Fizz', 49, 'Buzz', 'Fizz', 52, 53, 'Fizz', 'Buzz', 56, 'Fizz', 58, 59, 'FizzBuzz', 61, 62, 'Fizz', 64, 'Buzz', 'Fizz', 67, 68, 'Fizz', 'Buzz', 71, 'Fizz', 73, 74, 'FizzBuzz', 76, 77, 'Fizz', 79, 'Buzz', 'Fizz', 82, 83, 'Fizz', 'Buzz', 86, 'Fizz', 88, 89, 'FizzBuzz', 91, 92, 'Fizz', 94, 'Buzz', 'Fizz', 97, 98, 'Fizz', 'Buzz']\n"
     ]
    }
   ],
   "source": [
    "fizzbuzz = [\"FizzBuzz\" if n%15 == 0 else \"Fizz\" if n%3 == 0 else \"Buzz\" if n%5 == 0 else n for n in range(1, 101)]\n",
    "print(fizzbuzz)"
   ]
  },
  {
   "cell_type": "code",
   "execution_count": null,
   "id": "1538c295",
   "metadata": {},
   "outputs": [],
   "source": []
  }
 ],
 "metadata": {
  "kernelspec": {
   "display_name": "Python 3 (ipykernel)",
   "language": "python",
   "name": "python3"
  },
  "language_info": {
   "codemirror_mode": {
    "name": "ipython",
    "version": 3
   },
   "file_extension": ".py",
   "mimetype": "text/x-python",
   "name": "python",
   "nbconvert_exporter": "python",
   "pygments_lexer": "ipython3",
   "version": "3.9.12"
  }
 },
 "nbformat": 4,
 "nbformat_minor": 5
}
