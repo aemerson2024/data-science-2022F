{
 "cells": [
  {
   "cell_type": "markdown",
   "id": "58d1f1b8",
   "metadata": {},
   "source": [
    "## One-Line FizzBuzz"
   ]
  },
  {
   "cell_type": "code",
   "execution_count": 28,
   "id": "fa8b5462",
   "metadata": {},
   "outputs": [],
   "source": [
    "numbers = (1, 2, 3, 4, 5, 6, 7, 8, 9, 10, 11, 12, 13, 14, 15, 16, 17, 18, 19, 20) \n",
    "# this list was used before I figured out the range"
   ]
  },
  {
   "cell_type": "markdown",
   "id": "b6a816e2",
   "metadata": {},
   "source": [
    "##### How I would do this before list comprehension"
   ]
  },
  {
   "cell_type": "code",
   "execution_count": 33,
   "id": "c5325410",
   "metadata": {},
   "outputs": [
    {
     "name": "stdout",
     "output_type": "stream",
     "text": [
      "1\n",
      "2\n",
      "Fizz\n",
      "4\n",
      "Buzz\n",
      "Fizz\n",
      "7\n",
      "8\n",
      "Fizz\n",
      "Buzz\n",
      "11\n",
      "Fizz\n",
      "13\n",
      "14\n",
      "FizzBuzz\n"
     ]
    }
   ],
   "source": [
    "for n in range(1, 16):\n",
    "    if n%15 == 0:\n",
    "        print(\"FizzBuzz\")\n",
    "    elif n%3 == 0:\n",
    "        print(\"Fizz\")\n",
    "    elif n%5 == 0:\n",
    "        print(\"Buzz\")\n",
    "    else:\n",
    "        print(n)"
   ]
  },
  {
   "cell_type": "code",
   "execution_count": 34,
   "id": "97729677",
   "metadata": {},
   "outputs": [
    {
     "name": "stdout",
     "output_type": "stream",
     "text": [
      "['FizzBuzz']\n"
     ]
    }
   ],
   "source": [
    "fizzbuzz = [\"FizzBuzz\" for n in range(1, 16) if n%15 == 0]\n",
    "print(fizzbuzz)"
   ]
  },
  {
   "cell_type": "code",
   "execution_count": 35,
   "id": "a33a17d8",
   "metadata": {},
   "outputs": [
    {
     "name": "stdout",
     "output_type": "stream",
     "text": [
      "[1, 2, 3, 4, 5, 6, 7, 8, 9, 10, 11, 12, 13, 14, 'FizzBuzz']\n"
     ]
    }
   ],
   "source": [
    "fizzbuzz = [\"FizzBuzz\" if n%15 == 0 else n for n in range(1, 16)]\n",
    "print(fizzbuzz)"
   ]
  },
  {
   "cell_type": "code",
   "execution_count": 44,
   "id": "8f3a217f",
   "metadata": {},
   "outputs": [
    {
     "name": "stdout",
     "output_type": "stream",
     "text": [
      "<generator object <genexpr> at 0x000001AF78295510>\n"
     ]
    }
   ],
   "source": [
    "fizzbuzz = ((\"FizzBuzz\" if n%15 ==0 else (\"Fizz\" if n%3 ==0 else (\"Buzz\" if n%5 == 0 else n)) for n in range(1,16)))\n",
    "print(fizzbuzz)"
   ]
  },
  {
   "cell_type": "markdown",
   "id": "5cb101ea",
   "metadata": {},
   "source": [
    "###### https://stackoverflow.com/questions/10272898/multiple-if-conditions-in-a-python-list-comprehension was how I looked up how to do the above line"
   ]
  },
  {
   "cell_type": "code",
   "execution_count": null,
   "id": "118cd2ff",
   "metadata": {},
   "outputs": [],
   "source": []
  }
 ],
 "metadata": {
  "kernelspec": {
   "display_name": "Python 3 (ipykernel)",
   "language": "python",
   "name": "python3"
  },
  "language_info": {
   "codemirror_mode": {
    "name": "ipython",
    "version": 3
   },
   "file_extension": ".py",
   "mimetype": "text/x-python",
   "name": "python",
   "nbconvert_exporter": "python",
   "pygments_lexer": "ipython3",
   "version": "3.9.12"
  }
 },
 "nbformat": 4,
 "nbformat_minor": 5
}
