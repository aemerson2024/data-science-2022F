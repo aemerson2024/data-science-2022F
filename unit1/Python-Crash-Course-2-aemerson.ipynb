{
 "cells": [
  {
   "cell_type": "markdown",
   "id": "dcce4e89",
   "metadata": {},
   "source": [
    "## Booleans"
   ]
  },
  {
   "cell_type": "code",
   "execution_count": 6,
   "id": "a559069e",
   "metadata": {},
   "outputs": [
    {
     "name": "stdout",
     "output_type": "stream",
     "text": [
      "True\n"
     ]
    }
   ],
   "source": [
    "print(4>2)"
   ]
  },
  {
   "cell_type": "markdown",
   "id": "e472d935",
   "metadata": {},
   "source": [
    "## Operators"
   ]
  },
  {
   "cell_type": "code",
   "execution_count": 9,
   "id": "b49cece4",
   "metadata": {},
   "outputs": [
    {
     "name": "stdout",
     "output_type": "stream",
     "text": [
      "20\n"
     ]
    }
   ],
   "source": [
    "age = 16\n",
    "age = age + 4\n",
    "print(age)"
   ]
  },
  {
   "cell_type": "code",
   "execution_count": 11,
   "id": "7b1a4bd9",
   "metadata": {},
   "outputs": [
    {
     "name": "stdout",
     "output_type": "stream",
     "text": [
      "False\n"
     ]
    }
   ],
   "source": [
    "print(age == 12)"
   ]
  },
  {
   "cell_type": "code",
   "execution_count": 12,
   "id": "86a42fbb",
   "metadata": {},
   "outputs": [
    {
     "name": "stdout",
     "output_type": "stream",
     "text": [
      "True\n"
     ]
    }
   ],
   "source": [
    "print(12 < age < 24)"
   ]
  },
  {
   "cell_type": "markdown",
   "id": "01a05f0b",
   "metadata": {},
   "source": [
    "## Collections"
   ]
  },
  {
   "cell_type": "markdown",
   "id": "dac4af10",
   "metadata": {},
   "source": [
    "### Lists"
   ]
  },
  {
   "cell_type": "code",
   "execution_count": 29,
   "id": "c6aa3c45",
   "metadata": {},
   "outputs": [
    {
     "name": "stdout",
     "output_type": "stream",
     "text": [
      "['dataScience', 'latinIV', 'calculus', 'chemistry', 'globalHistory', 'globalLiterature', 'statistics']\n"
     ]
    }
   ],
   "source": [
    "myCourses = [\"dataScience\", \"latinIV\", \"calculus\", \"chemistry\", \"globalHistory\", \"globalLiterature\", \"statistics\"]\n",
    "print(myCourses)"
   ]
  },
  {
   "cell_type": "code",
   "execution_count": 30,
   "id": "1fb88608",
   "metadata": {},
   "outputs": [
    {
     "data": {
      "text/plain": [
       "'latinIV'"
      ]
     },
     "execution_count": 30,
     "metadata": {},
     "output_type": "execute_result"
    }
   ],
   "source": [
    "myCourses [1]"
   ]
  },
  {
   "cell_type": "code",
   "execution_count": 31,
   "id": "44af50b7",
   "metadata": {},
   "outputs": [
    {
     "name": "stdout",
     "output_type": "stream",
     "text": [
      "['studyHall', 'latinIV', 'calculus', 'chemistry', 'globalHistory', 'globalLiterature', 'statistics']\n"
     ]
    }
   ],
   "source": [
    "myCourses [0] = \"studyHall\"\n",
    "myCourses [1] = \"latinIV\"\n",
    "print(myCourses)"
   ]
  },
  {
   "cell_type": "code",
   "execution_count": 32,
   "id": "c059669b",
   "metadata": {},
   "outputs": [
    {
     "name": "stdout",
     "output_type": "stream",
     "text": [
      "['studyHall', 'latinIV']\n"
     ]
    }
   ],
   "source": [
    "print(myCourses[:2])"
   ]
  },
  {
   "cell_type": "code",
   "execution_count": 33,
   "id": "232c59ab",
   "metadata": {},
   "outputs": [
    {
     "name": "stdout",
     "output_type": "stream",
     "text": [
      "['studyHall', 'latinIV', 'calculus', 'chemistry', 'globalHistory', 'globalLiterature', 'statistics', 'whyIsThereMore']\n"
     ]
    }
   ],
   "source": [
    "myCourses.append(\"whyIsThereMore\")\n",
    "print(myCourses)"
   ]
  },
  {
   "cell_type": "code",
   "execution_count": 36,
   "id": "9f7e7d6b",
   "metadata": {},
   "outputs": [
    {
     "name": "stdout",
     "output_type": "stream",
     "text": [
      "['studyHall', 'latinIV', 'somehowMoreCalc', 'somehowMoreCalc', 'calculus', 'chemistry', 'globalHistory', 'globalLiterature', 'statistics', 'whyIsThereMore']\n",
      "['latinIV', 'somehowMoreCalc', 'somehowMoreCalc', 'calculus', 'chemistry', 'globalHistory', 'globalLiterature', 'statistics', 'whyIsThereMore']\n"
     ]
    }
   ],
   "source": [
    "myCourses.insert(2, \"somehowMoreCalc\")\n",
    "print(myCourses)\n",
    "myCourses.remove(\"studyHall\")\n",
    "print(myCourses)"
   ]
  },
  {
   "cell_type": "code",
   "execution_count": 37,
   "id": "d70c4ef4",
   "metadata": {},
   "outputs": [
    {
     "name": "stdout",
     "output_type": "stream",
     "text": [
      "latinIV\n",
      "somehowMoreCalc\n",
      "somehowMoreCalc\n",
      "calculus\n",
      "chemistry\n",
      "globalHistory\n",
      "globalLiterature\n",
      "statistics\n",
      "whyIsThereMore\n"
     ]
    }
   ],
   "source": [
    "for x in myCourses:\n",
    "    print(x)"
   ]
  },
  {
   "cell_type": "code",
   "execution_count": 38,
   "id": "8cbc0280",
   "metadata": {},
   "outputs": [
    {
     "name": "stdout",
     "output_type": "stream",
     "text": [
      "['calculus', 'chemistry', 'globalHistory', 'globalLiterature', 'latinIV', 'somehowMoreCalc', 'somehowMoreCalc', 'statistics', 'whyIsThereMore']\n"
     ]
    }
   ],
   "source": [
    "myCourses.sort()\n",
    "print(myCourses)"
   ]
  },
  {
   "cell_type": "code",
   "execution_count": 41,
   "id": "6fdb09db",
   "metadata": {},
   "outputs": [
    {
     "name": "stdout",
     "output_type": "stream",
     "text": [
      "['calculus', 'chemistry', 'globalHistory', 'globalLiterature', 'latinIV', 'somehowMoreCalc', 'somehowMoreCalc', 'statistics', 'whyIsThereMore']\n",
      "['calculus', 'chemistry', 'somehowMoreCalc', 'somehowMoreCalc', 'statistics', 'whyIsThereMore']\n"
     ]
    }
   ],
   "source": [
    "stemCourses = myCourses.copy()\n",
    "stemCourses.remove (\"globalHistory\")\n",
    "stemCourses.remove (\"globalLiterature\")\n",
    "stemCourses.remove (\"latinIV\")\n",
    "print(myCourses)\n",
    "print(stemCourses)"
   ]
  },
  {
   "cell_type": "code",
   "execution_count": 42,
   "id": "ea8a1611",
   "metadata": {},
   "outputs": [
    {
     "name": "stdout",
     "output_type": "stream",
     "text": [
      "['whyIsThereMore', 'statistics', 'somehowMoreCalc', 'somehowMoreCalc', 'latinIV', 'globalLiterature', 'globalHistory', 'chemistry', 'calculus']\n"
     ]
    }
   ],
   "source": [
    "myCourses.reverse()\n",
    "print(myCourses)"
   ]
  },
  {
   "cell_type": "markdown",
   "id": "7f6e1815",
   "metadata": {},
   "source": [
    "### Tuples"
   ]
  },
  {
   "cell_type": "code",
   "execution_count": 43,
   "id": "77784ca6",
   "metadata": {},
   "outputs": [
    {
     "name": "stdout",
     "output_type": "stream",
     "text": [
      "Sunday\n",
      "Monday\n",
      "Tuesday\n",
      "Wednesday\n",
      "Thursday\n",
      "Friday\n",
      "Saturday\n"
     ]
    }
   ],
   "source": [
    "days_of_week = (\"Sunday\", \"Monday\", \"Tuesday\", \"Wednesday\", \"Thursday\", \"Friday\", \"Saturday\")\n",
    "for y in days_of_week:\n",
    "    print(y)"
   ]
  },
  {
   "cell_type": "markdown",
   "id": "2ac83489",
   "metadata": {},
   "source": [
    "### Sets"
   ]
  },
  {
   "cell_type": "code",
   "execution_count": 44,
   "id": "ac46ff40",
   "metadata": {},
   "outputs": [
    {
     "ename": "AttributeError",
     "evalue": "'set' object has no attribute 'append'",
     "output_type": "error",
     "traceback": [
      "\u001b[1;31m---------------------------------------------------------------------------\u001b[0m",
      "\u001b[1;31mAttributeError\u001b[0m                            Traceback (most recent call last)",
      "Input \u001b[1;32mIn [44]\u001b[0m, in \u001b[0;36m<cell line: 2>\u001b[1;34m()\u001b[0m\n\u001b[0;32m      1\u001b[0m fruit \u001b[38;5;241m=\u001b[39m {\u001b[38;5;124m\"\u001b[39m\u001b[38;5;124mapple\u001b[39m\u001b[38;5;124m\"\u001b[39m, \u001b[38;5;124m\"\u001b[39m\u001b[38;5;124mbanana\u001b[39m\u001b[38;5;124m\"\u001b[39m, \u001b[38;5;124m\"\u001b[39m\u001b[38;5;124mcherry\u001b[39m\u001b[38;5;124m\"\u001b[39m}\n\u001b[1;32m----> 2\u001b[0m \u001b[43mfruit\u001b[49m\u001b[38;5;241;43m.\u001b[39;49m\u001b[43mappend\u001b[49m(\u001b[38;5;124m\"\u001b[39m\u001b[38;5;124mkiwi\u001b[39m\u001b[38;5;124m\"\u001b[39m)\n",
      "\u001b[1;31mAttributeError\u001b[0m: 'set' object has no attribute 'append'"
     ]
    }
   ],
   "source": [
    "fruit = {\"apple\", \"banana\", \"cherry\"}\n",
    "fruit.append(\"kiwi\")"
   ]
  },
  {
   "cell_type": "code",
   "execution_count": null,
   "id": "cb432863",
   "metadata": {},
   "outputs": [],
   "source": []
  }
 ],
 "metadata": {
  "kernelspec": {
   "display_name": "Python 3 (ipykernel)",
   "language": "python",
   "name": "python3"
  },
  "language_info": {
   "codemirror_mode": {
    "name": "ipython",
    "version": 3
   },
   "file_extension": ".py",
   "mimetype": "text/x-python",
   "name": "python",
   "nbconvert_exporter": "python",
   "pygments_lexer": "ipython3",
   "version": "3.9.12"
  }
 },
 "nbformat": 4,
 "nbformat_minor": 5
}
