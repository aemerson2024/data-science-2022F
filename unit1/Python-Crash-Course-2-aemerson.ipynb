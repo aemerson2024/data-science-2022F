{
 "cells": [
  {
   "cell_type": "markdown",
   "id": "dcce4e89",
   "metadata": {},
   "source": [
    "## Booleans"
   ]
  },
  {
   "cell_type": "code",
   "execution_count": 6,
   "id": "a559069e",
   "metadata": {},
   "outputs": [
    {
     "name": "stdout",
     "output_type": "stream",
     "text": [
      "True\n"
     ]
    }
   ],
   "source": [
    "print(4>2)"
   ]
  },
  {
   "cell_type": "markdown",
   "id": "e472d935",
   "metadata": {},
   "source": [
    "## Operators"
   ]
  },
  {
   "cell_type": "code",
   "execution_count": 9,
   "id": "b49cece4",
   "metadata": {},
   "outputs": [
    {
     "name": "stdout",
     "output_type": "stream",
     "text": [
      "20\n"
     ]
    }
   ],
   "source": [
    "age = 16\n",
    "age = age + 4\n",
    "print(age)"
   ]
  },
  {
   "cell_type": "code",
   "execution_count": 11,
   "id": "7b1a4bd9",
   "metadata": {},
   "outputs": [
    {
     "name": "stdout",
     "output_type": "stream",
     "text": [
      "False\n"
     ]
    }
   ],
   "source": [
    "print(age == 12)"
   ]
  },
  {
   "cell_type": "code",
   "execution_count": 12,
   "id": "86a42fbb",
   "metadata": {},
   "outputs": [
    {
     "name": "stdout",
     "output_type": "stream",
     "text": [
      "True\n"
     ]
    }
   ],
   "source": [
    "print(12 < age < 24)"
   ]
  },
  {
   "cell_type": "markdown",
   "id": "01a05f0b",
   "metadata": {},
   "source": [
    "## Collections"
   ]
  },
  {
   "cell_type": "markdown",
   "id": "dac4af10",
   "metadata": {},
   "source": [
    "### Lists"
   ]
  },
  {
   "cell_type": "code",
   "execution_count": 16,
   "id": "c6aa3c45",
   "metadata": {},
   "outputs": [
    {
     "name": "stdout",
     "output_type": "stream",
     "text": [
      "['dataScience', 'latinIV', 'calculus', 'chemistry', 'globalHistory', 'globalLiterature', 'statistics']\n"
     ]
    }
   ],
   "source": [
    "myCourses = [\"dataScience\", \"latinIV\", \"calculus\", \"chemistry\", \"globalHistory\", \"globalLiterature\", \"statistics\"]\n",
    "print(myCourses)"
   ]
  },
  {
   "cell_type": "code",
   "execution_count": 18,
   "id": "1fb88608",
   "metadata": {},
   "outputs": [
    {
     "data": {
      "text/plain": [
       "'latinIV'"
      ]
     },
     "execution_count": 18,
     "metadata": {},
     "output_type": "execute_result"
    }
   ],
   "source": [
    "myCourses [1]"
   ]
  },
  {
   "cell_type": "code",
   "execution_count": 21,
   "id": "44af50b7",
   "metadata": {},
   "outputs": [
    {
     "name": "stdout",
     "output_type": "stream",
     "text": [
      "['studyHall', 'latinIV', 'calculus', 'chemistry', 'globalHistory', 'globalLiterature', 'statistics']\n"
     ]
    }
   ],
   "source": [
    "myCourses [0] = \"studyHall\"\n",
    "myCourses [1] = \"latinIV\"\n",
    "print(myCourses)"
   ]
  },
  {
   "cell_type": "code",
   "execution_count": 23,
   "id": "c059669b",
   "metadata": {},
   "outputs": [
    {
     "name": "stdout",
     "output_type": "stream",
     "text": [
      "['studyHall', 'latinIV']\n"
     ]
    }
   ],
   "source": [
    "print(myCourses[:2])"
   ]
  },
  {
   "cell_type": "code",
   "execution_count": null,
   "id": "232c59ab",
   "metadata": {},
   "outputs": [],
   "source": []
  }
 ],
 "metadata": {
  "kernelspec": {
   "display_name": "Python 3 (ipykernel)",
   "language": "python",
   "name": "python3"
  },
  "language_info": {
   "codemirror_mode": {
    "name": "ipython",
    "version": 3
   },
   "file_extension": ".py",
   "mimetype": "text/x-python",
   "name": "python",
   "nbconvert_exporter": "python",
   "pygments_lexer": "ipython3",
   "version": "3.9.12"
  }
 },
 "nbformat": 4,
 "nbformat_minor": 5
}
