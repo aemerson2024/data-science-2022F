{
 "cells": [
  {
   "cell_type": "markdown",
   "id": "dcce4e89",
   "metadata": {},
   "source": [
    "## Booleans"
   ]
  },
  {
   "cell_type": "code",
   "execution_count": 6,
   "id": "a559069e",
   "metadata": {},
   "outputs": [
    {
     "name": "stdout",
     "output_type": "stream",
     "text": [
      "True\n"
     ]
    }
   ],
   "source": [
    "print(4>2)"
   ]
  },
  {
   "cell_type": "markdown",
   "id": "e472d935",
   "metadata": {},
   "source": [
    "## Operators"
   ]
  },
  {
   "cell_type": "code",
   "execution_count": 9,
   "id": "b49cece4",
   "metadata": {},
   "outputs": [
    {
     "name": "stdout",
     "output_type": "stream",
     "text": [
      "20\n"
     ]
    }
   ],
   "source": [
    "age = 16\n",
    "age = age + 4\n",
    "print(age)"
   ]
  },
  {
   "cell_type": "code",
   "execution_count": 11,
   "id": "7b1a4bd9",
   "metadata": {},
   "outputs": [
    {
     "name": "stdout",
     "output_type": "stream",
     "text": [
      "False\n"
     ]
    }
   ],
   "source": [
    "print(age == 12)"
   ]
  },
  {
   "cell_type": "code",
   "execution_count": 12,
   "id": "86a42fbb",
   "metadata": {},
   "outputs": [
    {
     "name": "stdout",
     "output_type": "stream",
     "text": [
      "True\n"
     ]
    }
   ],
   "source": [
    "print(12 < age < 24)"
   ]
  },
  {
   "cell_type": "markdown",
   "id": "01a05f0b",
   "metadata": {},
   "source": [
    "## Collections"
   ]
  },
  {
   "cell_type": "markdown",
   "id": "dac4af10",
   "metadata": {},
   "source": [
    "### Lists"
   ]
  },
  {
   "cell_type": "code",
   "execution_count": 29,
   "id": "c6aa3c45",
   "metadata": {},
   "outputs": [
    {
     "name": "stdout",
     "output_type": "stream",
     "text": [
      "['dataScience', 'latinIV', 'calculus', 'chemistry', 'globalHistory', 'globalLiterature', 'statistics']\n"
     ]
    }
   ],
   "source": [
    "myCourses = [\"dataScience\", \"latinIV\", \"calculus\", \"chemistry\", \"globalHistory\", \"globalLiterature\", \"statistics\"]\n",
    "print(myCourses)"
   ]
  },
  {
   "cell_type": "code",
   "execution_count": 30,
   "id": "1fb88608",
   "metadata": {},
   "outputs": [
    {
     "data": {
      "text/plain": [
       "'latinIV'"
      ]
     },
     "execution_count": 30,
     "metadata": {},
     "output_type": "execute_result"
    }
   ],
   "source": [
    "myCourses [1]"
   ]
  },
  {
   "cell_type": "code",
   "execution_count": 31,
   "id": "44af50b7",
   "metadata": {},
   "outputs": [
    {
     "name": "stdout",
     "output_type": "stream",
     "text": [
      "['studyHall', 'latinIV', 'calculus', 'chemistry', 'globalHistory', 'globalLiterature', 'statistics']\n"
     ]
    }
   ],
   "source": [
    "myCourses [0] = \"studyHall\"\n",
    "myCourses [1] = \"latinIV\"\n",
    "print(myCourses)"
   ]
  },
  {
   "cell_type": "code",
   "execution_count": 32,
   "id": "c059669b",
   "metadata": {},
   "outputs": [
    {
     "name": "stdout",
     "output_type": "stream",
     "text": [
      "['studyHall', 'latinIV']\n"
     ]
    }
   ],
   "source": [
    "print(myCourses[:2])"
   ]
  },
  {
   "cell_type": "code",
   "execution_count": 33,
   "id": "232c59ab",
   "metadata": {},
   "outputs": [
    {
     "name": "stdout",
     "output_type": "stream",
     "text": [
      "['studyHall', 'latinIV', 'calculus', 'chemistry', 'globalHistory', 'globalLiterature', 'statistics', 'whyIsThereMore']\n"
     ]
    }
   ],
   "source": [
    "myCourses.append(\"whyIsThereMore\")\n",
    "print(myCourses)"
   ]
  },
  {
   "cell_type": "code",
   "execution_count": 36,
   "id": "b0bbb881",
   "metadata": {},
   "outputs": [
    {
     "name": "stdout",
     "output_type": "stream",
     "text": [
      "['studyHall', 'latinIV', 'somehowMoreCalc', 'somehowMoreCalc', 'calculus', 'chemistry', 'globalHistory', 'globalLiterature', 'statistics', 'whyIsThereMore']\n",
      "['latinIV', 'somehowMoreCalc', 'somehowMoreCalc', 'calculus', 'chemistry', 'globalHistory', 'globalLiterature', 'statistics', 'whyIsThereMore']\n"
     ]
    }
   ],
   "source": [
    "myCourses.insert(2, \"somehowMoreCalc\")\n",
    "print(myCourses)\n",
    "myCourses.remove(\"studyHall\")\n",
    "print(myCourses)"
   ]
  },
  {
   "cell_type": "code",
   "execution_count": 37,
   "id": "b6de43f6",
   "metadata": {},
   "outputs": [
    {
     "name": "stdout",
     "output_type": "stream",
     "text": [
      "latinIV\n",
      "somehowMoreCalc\n",
      "somehowMoreCalc\n",
      "calculus\n",
      "chemistry\n",
      "globalHistory\n",
      "globalLiterature\n",
      "statistics\n",
      "whyIsThereMore\n"
     ]
    }
   ],
   "source": [
    "for x in myCourses:\n",
    "    print(x)"
   ]
  },
  {
   "cell_type": "code",
   "execution_count": 38,
   "id": "2b7dcbf3",
   "metadata": {},
   "outputs": [
    {
     "name": "stdout",
     "output_type": "stream",
     "text": [
      "['calculus', 'chemistry', 'globalHistory', 'globalLiterature', 'latinIV', 'somehowMoreCalc', 'somehowMoreCalc', 'statistics', 'whyIsThereMore']\n"
     ]
    }
   ],
   "source": [
    "myCourses.sort()\n",
    "print(myCourses)"
   ]
  },
  {
   "cell_type": "code",
   "execution_count": 41,
   "id": "2f03aedc",
   "metadata": {},
   "outputs": [
    {
     "name": "stdout",
     "output_type": "stream",
     "text": [
      "['calculus', 'chemistry', 'globalHistory', 'globalLiterature', 'latinIV', 'somehowMoreCalc', 'somehowMoreCalc', 'statistics', 'whyIsThereMore']\n",
      "['calculus', 'chemistry', 'somehowMoreCalc', 'somehowMoreCalc', 'statistics', 'whyIsThereMore']\n"
     ]
    }
   ],
   "source": [
    "stemCourses = myCourses.copy()\n",
    "stemCourses.remove (\"globalHistory\")\n",
    "stemCourses.remove (\"globalLiterature\")\n",
    "stemCourses.remove (\"latinIV\")\n",
    "print(myCourses)\n",
    "print(stemCourses)"
   ]
  },
  {
   "cell_type": "code",
   "execution_count": 42,
   "id": "7f340d21",
   "metadata": {},
   "outputs": [
    {
     "name": "stdout",
     "output_type": "stream",
     "text": [
      "['whyIsThereMore', 'statistics', 'somehowMoreCalc', 'somehowMoreCalc', 'latinIV', 'globalLiterature', 'globalHistory', 'chemistry', 'calculus']\n"
     ]
    }
   ],
   "source": [
    "myCourses.reverse()\n",
    "print(myCourses)"
   ]
  },
  {
   "cell_type": "markdown",
   "id": "152fa369",
   "metadata": {},
   "source": [
    "### Tuples"
   ]
  },
  {
   "cell_type": "code",
   "execution_count": 43,
   "id": "7bf02c44",
   "metadata": {},
   "outputs": [
    {
     "name": "stdout",
     "output_type": "stream",
     "text": [
      "Sunday\n",
      "Monday\n",
      "Tuesday\n",
      "Wednesday\n",
      "Thursday\n",
      "Friday\n",
      "Saturday\n"
     ]
    }
   ],
   "source": [
    "days_of_week = (\"Sunday\", \"Monday\", \"Tuesday\", \"Wednesday\", \"Thursday\", \"Friday\", \"Saturday\")\n",
    "for y in days_of_week:\n",
    "    print(y)"
   ]
  },
  {
   "cell_type": "markdown",
   "id": "b6c35558",
   "metadata": {},
   "source": [
    "### Sets"
   ]
  },
  {
   "cell_type": "code",
   "execution_count": 48,
   "id": "6554cca3",
   "metadata": {},
   "outputs": [
    {
     "name": "stdout",
     "output_type": "stream",
     "text": [
      "cherry\n",
      "pear\n",
      "apple\n",
      "banana\n",
      "True\n"
     ]
    }
   ],
   "source": [
    "fruit = {\"apple\", \"banana\", \"cherry\"}\n",
    "fruit.add(\"pear\")\n",
    "for z in fruit:\n",
    "    print(z)a\n",
    "print(\"banana\" in fruit)"
   ]
  },
  {
   "cell_type": "markdown",
   "id": "d89479d1",
   "metadata": {},
   "source": [
    "### Dictionaries"
   ]
  },
  {
   "cell_type": "code",
   "execution_count": 4,
   "id": "4e63d82c",
   "metadata": {},
   "outputs": [
    {
     "name": "stdout",
     "output_type": "stream",
     "text": [
      "Mustang\n"
     ]
    }
   ],
   "source": [
    "car1 = {\n",
    "    \"brand\" : \"Ford\",\n",
    "    \"model\" : \"Mustang\",\n",
    "    \"year\" : 1964\n",
    "}\n",
    "print(car1[\"model\"])"
   ]
  },
  {
   "cell_type": "code",
   "execution_count": 5,
   "id": "04ef83a8",
   "metadata": {},
   "outputs": [
    {
     "name": "stdout",
     "output_type": "stream",
     "text": [
      "{'brand': 'Ford', 'model': 'Mustang', 'year': 1964, 'color': 'red'}\n"
     ]
    }
   ],
   "source": [
    "car1[\"color\"] = \"red\"\n",
    "print(car1)"
   ]
  },
  {
   "cell_type": "code",
   "execution_count": 8,
   "id": "c0abca84",
   "metadata": {},
   "outputs": [
    {
     "name": "stdout",
     "output_type": "stream",
     "text": [
      "brand\n",
      "model\n",
      "year\n",
      "color\n"
     ]
    }
   ],
   "source": [
    "for c in car1:\n",
    "    print(c)"
   ]
  },
  {
   "cell_type": "code",
   "execution_count": 9,
   "id": "f20374af",
   "metadata": {},
   "outputs": [
    {
     "name": "stdout",
     "output_type": "stream",
     "text": [
      "Ford\n",
      "Mustang\n",
      "1964\n",
      "red\n"
     ]
    }
   ],
   "source": [
    "for c in car1:\n",
    "    print(car1[c])"
   ]
  },
  {
   "cell_type": "code",
   "execution_count": 16,
   "id": "9888eecf",
   "metadata": {},
   "outputs": [
    {
     "name": "stdout",
     "output_type": "stream",
     "text": [
      "brand Ford\n",
      "model Mustang\n",
      "year 1964\n",
      "color red\n"
     ]
    }
   ],
   "source": [
    "for x, y in car1.items():\n",
    "    print(x, y)"
   ]
  },
  {
   "cell_type": "markdown",
   "id": "1fbc44a1",
   "metadata": {},
   "source": [
    "### Loops"
   ]
  },
  {
   "cell_type": "code",
   "execution_count": 20,
   "id": "034c916c",
   "metadata": {},
   "outputs": [
    {
     "name": "stdout",
     "output_type": "stream",
     "text": [
      "13\n",
      "14\n",
      "15\n",
      "16\n",
      "17\n",
      "18\n",
      "19\n"
     ]
    }
   ],
   "source": [
    "for x in range(13, 20):\n",
    "    print(x)"
   ]
  },
  {
   "cell_type": "markdown",
   "id": "b2c076d3",
   "metadata": {},
   "source": [
    "### Conditionals"
   ]
  },
  {
   "cell_type": "code",
   "execution_count": 27,
   "id": "17ed040d",
   "metadata": {},
   "outputs": [],
   "source": [
    "grade = 90\n",
    "if 80 < grade < 89:\n",
    "    print(\"B\")\n",
    "elif grade > 90:\n",
    "    print(\"A\")"
   ]
  },
  {
   "cell_type": "code",
   "execution_count": 40,
   "id": "3a377c3b",
   "metadata": {},
   "outputs": [
    {
     "name": "stdout",
     "output_type": "stream",
     "text": [
      "B\n"
     ]
    }
   ],
   "source": [
    "print(\"B\") if grade >=80 else print(\"A\") if grade >=90 else print(\"Neither\")"
   ]
  },
  {
   "cell_type": "markdown",
   "id": "7f4112c1",
   "metadata": {},
   "source": [
    "### Functions"
   ]
  },
  {
   "cell_type": "code",
   "execution_count": 46,
   "id": "6b7113f9",
   "metadata": {},
   "outputs": [
    {
     "name": "stdout",
     "output_type": "stream",
     "text": [
      "25\n"
     ]
    }
   ],
   "source": [
    "def changer(x):\n",
    "    print((x//2)+7)\n",
    "\n",
    "changer(37)"
   ]
  },
  {
   "cell_type": "markdown",
   "id": "284ed23b",
   "metadata": {},
   "source": []
  }
 ],
 "metadata": {
  "kernelspec": {
   "display_name": "Python 3 (ipykernel)",
   "language": "python",
   "name": "python3"
  },
  "language_info": {
   "codemirror_mode": {
    "name": "ipython",
    "version": 3
   },
   "file_extension": ".py",
   "mimetype": "text/x-python",
   "name": "python",
   "nbconvert_exporter": "python",
   "pygments_lexer": "ipython3",
   "version": "3.9.12"
  }
 },
 "nbformat": 4,
 "nbformat_minor": 5
}
