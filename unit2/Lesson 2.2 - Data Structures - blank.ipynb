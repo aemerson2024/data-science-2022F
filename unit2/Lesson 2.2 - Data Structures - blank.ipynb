{
 "cells": [
  {
   "cell_type": "markdown",
   "id": "a3a28689",
   "metadata": {},
   "source": [
    "# Data Science Lesson - Data Structures\n",
    "---\n",
    "**Question: How do we represent our Stick Figure Google Sheet (table) in a Python variable?**\n",
    "\n",
    "### List of Dictionaries\n",
    "\n",
    "Represent each person as a dictionary, and stote them all in a list. Output the list to verify."
   ]
  },
  {
   "cell_type": "code",
   "execution_count": 51,
   "id": "46d98ee3",
   "metadata": {},
   "outputs": [
    {
     "data": {
      "text/plain": [
       "[{'name': 'dakota',\n",
       "  'gpa': 3.15,\n",
       "  'height': 72,\n",
       "  'num_friends': 307,\n",
       "  'shoes': 'converse',\n",
       "  'sport': 'basketball'},\n",
       " {'name': 'hayden',\n",
       "  'gpa': 3.5,\n",
       "  'height': 68,\n",
       "  'num_friends': 335,\n",
       "  'shoes': 'flip-flops',\n",
       "  'sport': 'tennis'},\n",
       " {'name': 'charlie',\n",
       "  'gpa': 1.1,\n",
       "  'height': 61,\n",
       "  'num_friends': 34,\n",
       "  'shoes': 'flip-flops',\n",
       "  'sport': 'baseball'},\n",
       " {'name': 'kamryn',\n",
       "  'gpa': 2.18,\n",
       "  'height': 66,\n",
       "  'num_friends': 200,\n",
       "  'shoes': 'converse',\n",
       "  'sport': 'soccer'},\n",
       " {'name': 'emerson',\n",
       "  'gpa': 3.06,\n",
       "  'height': 65,\n",
       "  'num_friends': 213,\n",
       "  'shoes': 'converse',\n",
       "  'sport': 'soccer'},\n",
       " {'name': 'jessie',\n",
       "  'gpa': 2.41,\n",
       "  'height': 61,\n",
       "  'num_friends': 202,\n",
       "  'shoes': 'flip-flops',\n",
       "  'sport': 'basketball'},\n",
       " {'name': 'sawyer',\n",
       "  'gpa': 2.96,\n",
       "  'height': 67,\n",
       "  'num_friends': 314,\n",
       "  'shoes': 'flip-flops',\n",
       "  'sport': 'tennis'},\n",
       " {'name': 'london',\n",
       "  'gpa': 3.98,\n",
       "  'height': 64,\n",
       "  'num_friends': 436,\n",
       "  'shoes': 'converse',\n",
       "  'sport': 'soccer'}]"
      ]
     },
     "execution_count": 51,
     "metadata": {},
     "output_type": "execute_result"
    }
   ],
   "source": [
    "stick_figures = [ {\"name\": \"dakota\",\n",
    "                  \"gpa\": 3.15,\n",
    "                  \"height\": 72,\n",
    "                  \"num_friends\": 307,\n",
    "                  \"shoes\": \"converse\",\n",
    "                  \"sport\": \"basketball\"}, \n",
    "                  {\"name\": \"hayden\",\n",
    "                  \"gpa\": 3.50,\n",
    "                  \"height\": 68,\n",
    "                  \"num_friends\": 335,\n",
    "                  \"shoes\": \"flip-flops\",\n",
    "                  \"sport\": \"tennis\"},\n",
    "                  {\"name\": \"charlie\",\n",
    "                  \"gpa\": 1.1,\n",
    "                  \"height\": 61,\n",
    "                  \"num_friends\": 34,\n",
    "                  \"shoes\": \"flip-flops\",\n",
    "                  \"sport\": \"baseball\"},\n",
    "                 {\"name\": \"kamryn\",\n",
    "                  \"gpa\": 2.18,\n",
    "                  \"height\": 66,\n",
    "                  \"num_friends\": 200,\n",
    "                  \"shoes\": \"converse\",\n",
    "                  \"sport\": \"soccer\"},\n",
    "                 {\"name\": \"emerson\",\n",
    "                  \"gpa\": 3.06,\n",
    "                  \"height\": 65,\n",
    "                  \"num_friends\": 213,\n",
    "                  \"shoes\": \"converse\",\n",
    "                  \"sport\": \"soccer\"},\n",
    "                 {\"name\": \"jessie\",\n",
    "                  \"gpa\": 2.41,\n",
    "                  \"height\": 61,\n",
    "                  \"num_friends\": 202,\n",
    "                  \"shoes\": \"flip-flops\",\n",
    "                  \"sport\": \"basketball\"},\n",
    "                 {\"name\": \"sawyer\",\n",
    "                  \"gpa\": 2.96,\n",
    "                  \"height\": 67,\n",
    "                  \"num_friends\": 314,\n",
    "                  \"shoes\": \"flip-flops\",\n",
    "                  \"sport\": \"tennis\"},\n",
    "                 {\"name\": \"london\",\n",
    "                  \"gpa\": 3.98,\n",
    "                  \"height\": 64,\n",
    "                  \"num_friends\": 436,\n",
    "                  \"shoes\": \"converse\",\n",
    "                  \"sport\": \"soccer\"}\n",
    "                ]\n",
    "stick_figures"
   ]
  },
  {
   "cell_type": "markdown",
   "id": "9dee2d16",
   "metadata": {},
   "source": [
    "What is the mean height of people in our list? First, use pure Python functions (not the statistics module) to calculate this, and output to verify.\n",
    "\n",
    "*Hint: You may want to put all the heights in a list and then use that for your computations.*"
   ]
  },
  {
   "cell_type": "code",
   "execution_count": 52,
   "id": "3525da44",
   "metadata": {},
   "outputs": [
    {
     "name": "stdout",
     "output_type": "stream",
     "text": [
      "[72, 68, 61, 66, 65, 61, 67, 64]\n",
      "65.5\n"
     ]
    }
   ],
   "source": [
    "all_heights = [person[\"height\"] for person in stick_figures]\n",
    "\n",
    "print(all_heights)\n",
    "mean_heights = sum(all_heights)/len(all_heights)\n",
    "print(mean_heights)"
   ]
  },
  {
   "cell_type": "markdown",
   "id": "bcf0f231",
   "metadata": {},
   "source": [
    "Now, import NumPy (as np) and use its mean function to find the mean of the heights list directly."
   ]
  },
  {
   "cell_type": "code",
   "execution_count": 53,
   "id": "dac4edc5",
   "metadata": {},
   "outputs": [
    {
     "data": {
      "text/plain": [
       "65.5"
      ]
     },
     "execution_count": 53,
     "metadata": {},
     "output_type": "execute_result"
    }
   ],
   "source": [
    "import numpy as np\n",
    "np.mean(all_heights)"
   ]
  },
  {
   "cell_type": "markdown",
   "id": "25f72f93",
   "metadata": {},
   "source": [
    "## Dictionary of Lists\n",
    "\n",
    "Using a dictionary and key/value pairs, represent each attribute (column) of a person as a key and all the values of each attribute as a list. That is, a dictionary of lists. Output the dict to verify."
   ]
  },
  {
   "cell_type": "code",
   "execution_count": 54,
   "id": "d5dca641",
   "metadata": {},
   "outputs": [
    {
     "data": {
      "text/plain": [
       "{'names': ['dakota',\n",
       "  'hayden',\n",
       "  'charlie',\n",
       "  'kamryn',\n",
       "  'emerson',\n",
       "  'jessie',\n",
       "  'sawyer',\n",
       "  'london'],\n",
       " 'gpas': [3.15, 3.5, 1.1, 2.18, 3.06, 2.41, 2.96, 3.98],\n",
       " 'heights': [72, 68, 61, 66, 65, 61, 67, 64],\n",
       " 'num_friends': [307, 335, 34, 200, 213, 202, 314, 436],\n",
       " 'shoes': ['converse',\n",
       "  'flip-flops',\n",
       "  'flip-flops',\n",
       "  'converse',\n",
       "  'converse',\n",
       "  'flip-flops',\n",
       "  'flip-flops',\n",
       "  'converse'],\n",
       " 'sports': ['basketball',\n",
       "  'tennis',\n",
       "  'baseball',\n",
       "  'soccer',\n",
       "  'soccer',\n",
       "  'basketball',\n",
       "  'tennis',\n",
       "  'soccer']}"
      ]
     },
     "execution_count": 54,
     "metadata": {},
     "output_type": "execute_result"
    }
   ],
   "source": [
    "stick_figures_cooler = {\n",
    "    \"names\":[person[\"name\"] for person in stick_figures],\n",
    "    \"gpas\":[person[\"gpa\"] for person in stick_figures],\n",
    "    \"heights\": [person[\"height\"] for person in stick_figures],\n",
    "    \"num_friends\":[person[\"num_friends\"] for person in stick_figures],\n",
    "    \"shoes\":[person[\"shoes\"] for person in stick_figures],\n",
    "    \"sports\":[person[\"sport\"] for person in stick_figures]\n",
    "}\n",
    "stick_figures_cooler"
   ]
  },
  {
   "cell_type": "markdown",
   "id": "846bdc27",
   "metadata": {},
   "source": [
    "Now use NumPy to get the mean in one statement."
   ]
  },
  {
   "cell_type": "code",
   "execution_count": 55,
   "id": "898bb3cd",
   "metadata": {},
   "outputs": [
    {
     "data": {
      "text/plain": [
       "65.5"
      ]
     },
     "execution_count": 55,
     "metadata": {},
     "output_type": "execute_result"
    }
   ],
   "source": [
    "np.mean(stick_figures_cooler[\"heights\"])"
   ]
  },
  {
   "cell_type": "markdown",
   "id": "5f0ed550",
   "metadata": {},
   "source": [
    "**So, which approach should we use? Or is there a better way? Hmmm...**"
   ]
  }
 ],
 "metadata": {
  "kernelspec": {
   "display_name": "Python 3 (ipykernel)",
   "language": "python",
   "name": "python3"
  },
  "language_info": {
   "codemirror_mode": {
    "name": "ipython",
    "version": 3
   },
   "file_extension": ".py",
   "mimetype": "text/x-python",
   "name": "python",
   "nbconvert_exporter": "python",
   "pygments_lexer": "ipython3",
   "version": "3.9.12"
  }
 },
 "nbformat": 4,
 "nbformat_minor": 5
}
